{
 "cells": [
  {
   "cell_type": "markdown",
   "metadata": {},
   "source": [
    "# Dynamic functional connectivity analysis\n",
    "\n",
    "#### fMRI Data University of Leuven\n",
    "\n",
    "We want to classify three different states of dynamic functional connectivity: hypoconnectivity, intermediate and hyperconnectivity. Then we want to compare between-groups to see if there are significant differences in the states, i.e. if the ASD group spent more time in a hypo, intermediate or hyperconnected state in comparison with the TD group. \n",
    "\n",
    "Finally, we will obtain different indices like the Mean Dwell Time (MDT) and the Probability of transition (PT) from one state to another and again compare between-groups for significant differences.  "
   ]
  },
  {
   "cell_type": "code",
   "execution_count": 55,
   "metadata": {},
   "outputs": [
    {
     "data": {
      "text/html": [
       "<div>\n",
       "<style scoped>\n",
       "    .dataframe tbody tr th:only-of-type {\n",
       "        vertical-align: middle;\n",
       "    }\n",
       "\n",
       "    .dataframe tbody tr th {\n",
       "        vertical-align: top;\n",
       "    }\n",
       "\n",
       "    .dataframe thead th {\n",
       "        text-align: right;\n",
       "    }\n",
       "</style>\n",
       "<table border=\"1\" class=\"dataframe\">\n",
       "  <thead>\n",
       "    <tr style=\"text-align: right;\">\n",
       "      <th></th>\n",
       "      <th>SRS_RAW_TOTAL</th>\n",
       "      <th>SRS_AWARENESS</th>\n",
       "      <th>SRS_COGNITION</th>\n",
       "      <th>SRS_COMMUNICATION</th>\n",
       "      <th>SRS_MOTIVATION</th>\n",
       "      <th>SRS_MANNERISMS</th>\n",
       "      <th>AQ_TOTAL</th>\n",
       "      <th>rest</th>\n",
       "      <th>Time1</th>\n",
       "      <th>Time2</th>\n",
       "      <th>...</th>\n",
       "      <th>Time215</th>\n",
       "      <th>Time216</th>\n",
       "      <th>Time217</th>\n",
       "      <th>Time218</th>\n",
       "      <th>Time219</th>\n",
       "      <th>Time220</th>\n",
       "      <th>Time221</th>\n",
       "      <th>Time222</th>\n",
       "      <th>Time223</th>\n",
       "      <th>Time224</th>\n",
       "    </tr>\n",
       "  </thead>\n",
       "  <tbody>\n",
       "    <tr>\n",
       "      <td>0</td>\n",
       "      <td>68</td>\n",
       "      <td>10</td>\n",
       "      <td>15</td>\n",
       "      <td>22</td>\n",
       "      <td>15</td>\n",
       "      <td>6</td>\n",
       "      <td>33</td>\n",
       "      <td>-0.372887</td>\n",
       "      <td>0.898793</td>\n",
       "      <td>0.928372</td>\n",
       "      <td>...</td>\n",
       "      <td>-0.696586</td>\n",
       "      <td>-0.655891</td>\n",
       "      <td>-0.593027</td>\n",
       "      <td>-0.507097</td>\n",
       "      <td>-0.394806</td>\n",
       "      <td>-0.249987</td>\n",
       "      <td>-0.064806</td>\n",
       "      <td>0.167787</td>\n",
       "      <td>0.451302</td>\n",
       "      <td>0.779237</td>\n",
       "    </tr>\n",
       "    <tr>\n",
       "      <td>1</td>\n",
       "      <td>55</td>\n",
       "      <td>4</td>\n",
       "      <td>11</td>\n",
       "      <td>17</td>\n",
       "      <td>14</td>\n",
       "      <td>9</td>\n",
       "      <td>32</td>\n",
       "      <td>-0.252600</td>\n",
       "      <td>-0.794247</td>\n",
       "      <td>-0.678755</td>\n",
       "      <td>...</td>\n",
       "      <td>-0.727096</td>\n",
       "      <td>-0.719751</td>\n",
       "      <td>-0.714117</td>\n",
       "      <td>-0.711336</td>\n",
       "      <td>-0.712312</td>\n",
       "      <td>-0.717918</td>\n",
       "      <td>-0.728663</td>\n",
       "      <td>-0.744058</td>\n",
       "      <td>-0.762272</td>\n",
       "      <td>-0.780523</td>\n",
       "    </tr>\n",
       "    <tr>\n",
       "      <td>2</td>\n",
       "      <td>31</td>\n",
       "      <td>5</td>\n",
       "      <td>7</td>\n",
       "      <td>8</td>\n",
       "      <td>6</td>\n",
       "      <td>5</td>\n",
       "      <td>8</td>\n",
       "      <td>0.318661</td>\n",
       "      <td>-0.543222</td>\n",
       "      <td>-0.598560</td>\n",
       "      <td>...</td>\n",
       "      <td>1.074960</td>\n",
       "      <td>1.065311</td>\n",
       "      <td>1.072327</td>\n",
       "      <td>1.081409</td>\n",
       "      <td>1.080143</td>\n",
       "      <td>1.063993</td>\n",
       "      <td>1.035652</td>\n",
       "      <td>1.000526</td>\n",
       "      <td>0.961694</td>\n",
       "      <td>0.916893</td>\n",
       "    </tr>\n",
       "    <tr>\n",
       "      <td>3</td>\n",
       "      <td>72</td>\n",
       "      <td>9</td>\n",
       "      <td>15</td>\n",
       "      <td>26</td>\n",
       "      <td>10</td>\n",
       "      <td>12</td>\n",
       "      <td>30</td>\n",
       "      <td>0.344258</td>\n",
       "      <td>-0.016524</td>\n",
       "      <td>-0.025186</td>\n",
       "      <td>...</td>\n",
       "      <td>0.976433</td>\n",
       "      <td>1.009060</td>\n",
       "      <td>1.056994</td>\n",
       "      <td>1.112173</td>\n",
       "      <td>1.161631</td>\n",
       "      <td>1.190570</td>\n",
       "      <td>1.188566</td>\n",
       "      <td>1.153639</td>\n",
       "      <td>1.090470</td>\n",
       "      <td>1.006295</td>\n",
       "    </tr>\n",
       "    <tr>\n",
       "      <td>4</td>\n",
       "      <td>88</td>\n",
       "      <td>12</td>\n",
       "      <td>20</td>\n",
       "      <td>30</td>\n",
       "      <td>16</td>\n",
       "      <td>10</td>\n",
       "      <td>31</td>\n",
       "      <td>0.683666</td>\n",
       "      <td>0.743461</td>\n",
       "      <td>0.733636</td>\n",
       "      <td>...</td>\n",
       "      <td>1.652535</td>\n",
       "      <td>1.585614</td>\n",
       "      <td>1.517732</td>\n",
       "      <td>1.449486</td>\n",
       "      <td>1.378855</td>\n",
       "      <td>1.300475</td>\n",
       "      <td>1.205809</td>\n",
       "      <td>1.084392</td>\n",
       "      <td>0.927029</td>\n",
       "      <td>0.736244</td>\n",
       "    </tr>\n",
       "  </tbody>\n",
       "</table>\n",
       "<p>5 rows × 232 columns</p>\n",
       "</div>"
      ],
      "text/plain": [
       "   SRS_RAW_TOTAL  SRS_AWARENESS  SRS_COGNITION  SRS_COMMUNICATION  \\\n",
       "0             68             10             15                 22   \n",
       "1             55              4             11                 17   \n",
       "2             31              5              7                  8   \n",
       "3             72              9             15                 26   \n",
       "4             88             12             20                 30   \n",
       "\n",
       "   SRS_MOTIVATION  SRS_MANNERISMS  AQ_TOTAL      rest     Time1     Time2  \\\n",
       "0              15               6        33 -0.372887  0.898793  0.928372   \n",
       "1              14               9        32 -0.252600 -0.794247 -0.678755   \n",
       "2               6               5         8  0.318661 -0.543222 -0.598560   \n",
       "3              10              12        30  0.344258 -0.016524 -0.025186   \n",
       "4              16              10        31  0.683666  0.743461  0.733636   \n",
       "\n",
       "   ...   Time215   Time216   Time217   Time218   Time219   Time220   Time221  \\\n",
       "0  ... -0.696586 -0.655891 -0.593027 -0.507097 -0.394806 -0.249987 -0.064806   \n",
       "1  ... -0.727096 -0.719751 -0.714117 -0.711336 -0.712312 -0.717918 -0.728663   \n",
       "2  ...  1.074960  1.065311  1.072327  1.081409  1.080143  1.063993  1.035652   \n",
       "3  ...  0.976433  1.009060  1.056994  1.112173  1.161631  1.190570  1.188566   \n",
       "4  ...  1.652535  1.585614  1.517732  1.449486  1.378855  1.300475  1.205809   \n",
       "\n",
       "    Time222   Time223   Time224  \n",
       "0  0.167787  0.451302  0.779237  \n",
       "1 -0.744058 -0.762272 -0.780523  \n",
       "2  1.000526  0.961694  0.916893  \n",
       "3  1.153639  1.090470  1.006295  \n",
       "4  1.084392  0.927029  0.736244  \n",
       "\n",
       "[5 rows x 232 columns]"
      ]
     },
     "execution_count": 55,
     "metadata": {},
     "output_type": "execute_result"
    }
   ],
   "source": [
    "import numpy as np\n",
    "import pandas as pd\n",
    "\n",
    "# These lines do some fancy plotting.\n",
    "import matplotlib\n",
    "%matplotlib inline\n",
    "import matplotlib.pyplot as plt\n",
    "plt.style.use('fivethirtyeight')\n",
    "\n",
    "import plotly.graph_objects as go\n",
    "\n",
    "#Import stats from scipy library\n",
    "from scipy import stats\n",
    "\n",
    "#Read .csv file \n",
    "project = pd.read_csv('rvaTPJ_no_rvpTPJ_374_001_008.csv')\n",
    "\n",
    "#Change column names for simplicity. Delete the first part of the names 'R2R target ROI mask_rvaTPJ : + mask_rvpTPJ @ rest x'\n",
    "project.columns = [col.replace('R2R target ROI mask_rvaTPJ_no : + mask_rvpTPJ_no @ rest x', '') for col in project.columns]\n",
    "\n",
    "#load first five rows of the data set\n",
    "project.head()"
   ]
  },
  {
   "cell_type": "code",
   "execution_count": 56,
   "metadata": {},
   "outputs": [
    {
     "data": {
      "text/html": [
       "<div>\n",
       "<style scoped>\n",
       "    .dataframe tbody tr th:only-of-type {\n",
       "        vertical-align: middle;\n",
       "    }\n",
       "\n",
       "    .dataframe tbody tr th {\n",
       "        vertical-align: top;\n",
       "    }\n",
       "\n",
       "    .dataframe thead th {\n",
       "        text-align: right;\n",
       "    }\n",
       "</style>\n",
       "<table border=\"1\" class=\"dataframe\">\n",
       "  <thead>\n",
       "    <tr style=\"text-align: right;\">\n",
       "      <th></th>\n",
       "      <th>SRS_RAW_TOTAL</th>\n",
       "      <th>SRS_AWARENESS</th>\n",
       "      <th>SRS_COGNITION</th>\n",
       "      <th>SRS_COMMUNICATION</th>\n",
       "      <th>SRS_MOTIVATION</th>\n",
       "      <th>SRS_MANNERISMS</th>\n",
       "      <th>AQ_TOTAL</th>\n",
       "      <th>rest</th>\n",
       "      <th>Time1</th>\n",
       "      <th>Time2</th>\n",
       "      <th>...</th>\n",
       "      <th>Time217</th>\n",
       "      <th>Time218</th>\n",
       "      <th>Time219</th>\n",
       "      <th>Time220</th>\n",
       "      <th>Time221</th>\n",
       "      <th>Time222</th>\n",
       "      <th>Time223</th>\n",
       "      <th>Time224</th>\n",
       "      <th>dynStr</th>\n",
       "      <th>dynSD</th>\n",
       "    </tr>\n",
       "  </thead>\n",
       "  <tbody>\n",
       "    <tr>\n",
       "      <td>0</td>\n",
       "      <td>68</td>\n",
       "      <td>10</td>\n",
       "      <td>15</td>\n",
       "      <td>22</td>\n",
       "      <td>15</td>\n",
       "      <td>6</td>\n",
       "      <td>33</td>\n",
       "      <td>-0.372887</td>\n",
       "      <td>0.898793</td>\n",
       "      <td>0.928372</td>\n",
       "      <td>...</td>\n",
       "      <td>-0.593027</td>\n",
       "      <td>-0.507097</td>\n",
       "      <td>-0.394806</td>\n",
       "      <td>-0.249987</td>\n",
       "      <td>-0.064806</td>\n",
       "      <td>0.167787</td>\n",
       "      <td>0.451302</td>\n",
       "      <td>0.779237</td>\n",
       "      <td>-0.341972</td>\n",
       "      <td>0.674439</td>\n",
       "    </tr>\n",
       "    <tr>\n",
       "      <td>1</td>\n",
       "      <td>55</td>\n",
       "      <td>4</td>\n",
       "      <td>11</td>\n",
       "      <td>17</td>\n",
       "      <td>14</td>\n",
       "      <td>9</td>\n",
       "      <td>32</td>\n",
       "      <td>-0.252600</td>\n",
       "      <td>-0.794247</td>\n",
       "      <td>-0.678755</td>\n",
       "      <td>...</td>\n",
       "      <td>-0.714117</td>\n",
       "      <td>-0.711336</td>\n",
       "      <td>-0.712312</td>\n",
       "      <td>-0.717918</td>\n",
       "      <td>-0.728663</td>\n",
       "      <td>-0.744058</td>\n",
       "      <td>-0.762272</td>\n",
       "      <td>-0.780523</td>\n",
       "      <td>-0.377624</td>\n",
       "      <td>0.637034</td>\n",
       "    </tr>\n",
       "    <tr>\n",
       "      <td>2</td>\n",
       "      <td>31</td>\n",
       "      <td>5</td>\n",
       "      <td>7</td>\n",
       "      <td>8</td>\n",
       "      <td>6</td>\n",
       "      <td>5</td>\n",
       "      <td>8</td>\n",
       "      <td>0.318661</td>\n",
       "      <td>-0.543222</td>\n",
       "      <td>-0.598560</td>\n",
       "      <td>...</td>\n",
       "      <td>1.072327</td>\n",
       "      <td>1.081409</td>\n",
       "      <td>1.080143</td>\n",
       "      <td>1.063993</td>\n",
       "      <td>1.035652</td>\n",
       "      <td>1.000526</td>\n",
       "      <td>0.961694</td>\n",
       "      <td>0.916893</td>\n",
       "      <td>0.354312</td>\n",
       "      <td>0.689594</td>\n",
       "    </tr>\n",
       "    <tr>\n",
       "      <td>3</td>\n",
       "      <td>72</td>\n",
       "      <td>9</td>\n",
       "      <td>15</td>\n",
       "      <td>26</td>\n",
       "      <td>10</td>\n",
       "      <td>12</td>\n",
       "      <td>30</td>\n",
       "      <td>0.344258</td>\n",
       "      <td>-0.016524</td>\n",
       "      <td>-0.025186</td>\n",
       "      <td>...</td>\n",
       "      <td>1.056994</td>\n",
       "      <td>1.112173</td>\n",
       "      <td>1.161631</td>\n",
       "      <td>1.190570</td>\n",
       "      <td>1.188566</td>\n",
       "      <td>1.153639</td>\n",
       "      <td>1.090470</td>\n",
       "      <td>1.006295</td>\n",
       "      <td>0.296787</td>\n",
       "      <td>0.577184</td>\n",
       "    </tr>\n",
       "    <tr>\n",
       "      <td>4</td>\n",
       "      <td>88</td>\n",
       "      <td>12</td>\n",
       "      <td>20</td>\n",
       "      <td>30</td>\n",
       "      <td>16</td>\n",
       "      <td>10</td>\n",
       "      <td>31</td>\n",
       "      <td>0.683666</td>\n",
       "      <td>0.743461</td>\n",
       "      <td>0.733636</td>\n",
       "      <td>...</td>\n",
       "      <td>1.517732</td>\n",
       "      <td>1.449486</td>\n",
       "      <td>1.378855</td>\n",
       "      <td>1.300475</td>\n",
       "      <td>1.205809</td>\n",
       "      <td>1.084392</td>\n",
       "      <td>0.927029</td>\n",
       "      <td>0.736244</td>\n",
       "      <td>0.854236</td>\n",
       "      <td>0.763824</td>\n",
       "    </tr>\n",
       "  </tbody>\n",
       "</table>\n",
       "<p>5 rows × 234 columns</p>\n",
       "</div>"
      ],
      "text/plain": [
       "   SRS_RAW_TOTAL  SRS_AWARENESS  SRS_COGNITION  SRS_COMMUNICATION  \\\n",
       "0             68             10             15                 22   \n",
       "1             55              4             11                 17   \n",
       "2             31              5              7                  8   \n",
       "3             72              9             15                 26   \n",
       "4             88             12             20                 30   \n",
       "\n",
       "   SRS_MOTIVATION  SRS_MANNERISMS  AQ_TOTAL      rest     Time1     Time2  \\\n",
       "0              15               6        33 -0.372887  0.898793  0.928372   \n",
       "1              14               9        32 -0.252600 -0.794247 -0.678755   \n",
       "2               6               5         8  0.318661 -0.543222 -0.598560   \n",
       "3              10              12        30  0.344258 -0.016524 -0.025186   \n",
       "4              16              10        31  0.683666  0.743461  0.733636   \n",
       "\n",
       "   ...   Time217   Time218   Time219   Time220   Time221   Time222   Time223  \\\n",
       "0  ... -0.593027 -0.507097 -0.394806 -0.249987 -0.064806  0.167787  0.451302   \n",
       "1  ... -0.714117 -0.711336 -0.712312 -0.717918 -0.728663 -0.744058 -0.762272   \n",
       "2  ...  1.072327  1.081409  1.080143  1.063993  1.035652  1.000526  0.961694   \n",
       "3  ...  1.056994  1.112173  1.161631  1.190570  1.188566  1.153639  1.090470   \n",
       "4  ...  1.517732  1.449486  1.378855  1.300475  1.205809  1.084392  0.927029   \n",
       "\n",
       "    Time224    dynStr     dynSD  \n",
       "0  0.779237 -0.341972  0.674439  \n",
       "1 -0.780523 -0.377624  0.637034  \n",
       "2  0.916893  0.354312  0.689594  \n",
       "3  1.006295  0.296787  0.577184  \n",
       "4  0.736244  0.854236  0.763824  \n",
       "\n",
       "[5 rows x 234 columns]"
      ]
     },
     "execution_count": 56,
     "metadata": {},
     "output_type": "execute_result"
    }
   ],
   "source": [
    "#Create a new data frame 'windows' with the last 211 columns of the 'project' data frame \n",
    "#i.e. only the z-scores per subject, per window (211 windows in total). \n",
    "\n",
    "windows = project[project.columns[-224:project.columns.size]]\n",
    "\n",
    "#Create two new columns with the average and standard deviation across windows. \n",
    "#i.e dynamicFC strength and dynamicFC variability\n",
    "\n",
    "project['dynStr'] = np.mean(windows, axis = 1)\n",
    "project['dynSD'] = np.std(windows, axis = 1)\n",
    "project.head()"
   ]
  },
  {
   "cell_type": "code",
   "execution_count": 57,
   "metadata": {},
   "outputs": [
    {
     "data": {
      "text/html": [
       "<div>\n",
       "<style scoped>\n",
       "    .dataframe tbody tr th:only-of-type {\n",
       "        vertical-align: middle;\n",
       "    }\n",
       "\n",
       "    .dataframe tbody tr th {\n",
       "        vertical-align: top;\n",
       "    }\n",
       "\n",
       "    .dataframe thead th {\n",
       "        text-align: right;\n",
       "    }\n",
       "</style>\n",
       "<table border=\"1\" class=\"dataframe\">\n",
       "  <thead>\n",
       "    <tr style=\"text-align: right;\">\n",
       "      <th></th>\n",
       "      <th>SRS_RAW_TOTAL</th>\n",
       "      <th>SRS_AWARENESS</th>\n",
       "      <th>SRS_COGNITION</th>\n",
       "      <th>SRS_COMMUNICATION</th>\n",
       "      <th>SRS_MOTIVATION</th>\n",
       "      <th>SRS_MANNERISMS</th>\n",
       "      <th>AQ_TOTAL</th>\n",
       "      <th>rest</th>\n",
       "      <th>Time1</th>\n",
       "      <th>Time2</th>\n",
       "      <th>...</th>\n",
       "      <th>Time222</th>\n",
       "      <th>Time223</th>\n",
       "      <th>Time224</th>\n",
       "      <th>dynStr</th>\n",
       "      <th>dynSD</th>\n",
       "      <th>prop_high_negative</th>\n",
       "      <th>prop_moderate_negative</th>\n",
       "      <th>prop_low_uncorrelated</th>\n",
       "      <th>prop_moderate_positive</th>\n",
       "      <th>prop_high_positive</th>\n",
       "    </tr>\n",
       "  </thead>\n",
       "  <tbody>\n",
       "    <tr>\n",
       "      <td>0</td>\n",
       "      <td>68</td>\n",
       "      <td>10</td>\n",
       "      <td>15</td>\n",
       "      <td>22</td>\n",
       "      <td>15</td>\n",
       "      <td>6</td>\n",
       "      <td>33</td>\n",
       "      <td>-0.372887</td>\n",
       "      <td>0.898793</td>\n",
       "      <td>0.928372</td>\n",
       "      <td>...</td>\n",
       "      <td>0.167787</td>\n",
       "      <td>0.451302</td>\n",
       "      <td>0.779237</td>\n",
       "      <td>-0.341972</td>\n",
       "      <td>0.674439</td>\n",
       "      <td>0.433036</td>\n",
       "      <td>0.129464</td>\n",
       "      <td>0.232143</td>\n",
       "      <td>0.084821</td>\n",
       "      <td>0.120536</td>\n",
       "    </tr>\n",
       "    <tr>\n",
       "      <td>1</td>\n",
       "      <td>55</td>\n",
       "      <td>4</td>\n",
       "      <td>11</td>\n",
       "      <td>17</td>\n",
       "      <td>14</td>\n",
       "      <td>9</td>\n",
       "      <td>32</td>\n",
       "      <td>-0.252600</td>\n",
       "      <td>-0.794247</td>\n",
       "      <td>-0.678755</td>\n",
       "      <td>...</td>\n",
       "      <td>-0.744058</td>\n",
       "      <td>-0.762272</td>\n",
       "      <td>-0.780523</td>\n",
       "      <td>-0.377624</td>\n",
       "      <td>0.637034</td>\n",
       "      <td>0.406250</td>\n",
       "      <td>0.218750</td>\n",
       "      <td>0.196429</td>\n",
       "      <td>0.066964</td>\n",
       "      <td>0.111607</td>\n",
       "    </tr>\n",
       "    <tr>\n",
       "      <td>2</td>\n",
       "      <td>31</td>\n",
       "      <td>5</td>\n",
       "      <td>7</td>\n",
       "      <td>8</td>\n",
       "      <td>6</td>\n",
       "      <td>5</td>\n",
       "      <td>8</td>\n",
       "      <td>0.318661</td>\n",
       "      <td>-0.543222</td>\n",
       "      <td>-0.598560</td>\n",
       "      <td>...</td>\n",
       "      <td>1.000526</td>\n",
       "      <td>0.961694</td>\n",
       "      <td>0.916893</td>\n",
       "      <td>0.354312</td>\n",
       "      <td>0.689594</td>\n",
       "      <td>0.129464</td>\n",
       "      <td>0.071429</td>\n",
       "      <td>0.191964</td>\n",
       "      <td>0.129464</td>\n",
       "      <td>0.477679</td>\n",
       "    </tr>\n",
       "    <tr>\n",
       "      <td>3</td>\n",
       "      <td>72</td>\n",
       "      <td>9</td>\n",
       "      <td>15</td>\n",
       "      <td>26</td>\n",
       "      <td>10</td>\n",
       "      <td>12</td>\n",
       "      <td>30</td>\n",
       "      <td>0.344258</td>\n",
       "      <td>-0.016524</td>\n",
       "      <td>-0.025186</td>\n",
       "      <td>...</td>\n",
       "      <td>1.153639</td>\n",
       "      <td>1.090470</td>\n",
       "      <td>1.006295</td>\n",
       "      <td>0.296787</td>\n",
       "      <td>0.577184</td>\n",
       "      <td>0.111607</td>\n",
       "      <td>0.066964</td>\n",
       "      <td>0.294643</td>\n",
       "      <td>0.187500</td>\n",
       "      <td>0.339286</td>\n",
       "    </tr>\n",
       "    <tr>\n",
       "      <td>4</td>\n",
       "      <td>88</td>\n",
       "      <td>12</td>\n",
       "      <td>20</td>\n",
       "      <td>30</td>\n",
       "      <td>16</td>\n",
       "      <td>10</td>\n",
       "      <td>31</td>\n",
       "      <td>0.683666</td>\n",
       "      <td>0.743461</td>\n",
       "      <td>0.733636</td>\n",
       "      <td>...</td>\n",
       "      <td>1.084392</td>\n",
       "      <td>0.927029</td>\n",
       "      <td>0.736244</td>\n",
       "      <td>0.854236</td>\n",
       "      <td>0.763824</td>\n",
       "      <td>0.053571</td>\n",
       "      <td>0.049107</td>\n",
       "      <td>0.129464</td>\n",
       "      <td>0.066964</td>\n",
       "      <td>0.700893</td>\n",
       "    </tr>\n",
       "  </tbody>\n",
       "</table>\n",
       "<p>5 rows × 239 columns</p>\n",
       "</div>"
      ],
      "text/plain": [
       "   SRS_RAW_TOTAL  SRS_AWARENESS  SRS_COGNITION  SRS_COMMUNICATION  \\\n",
       "0             68             10             15                 22   \n",
       "1             55              4             11                 17   \n",
       "2             31              5              7                  8   \n",
       "3             72              9             15                 26   \n",
       "4             88             12             20                 30   \n",
       "\n",
       "   SRS_MOTIVATION  SRS_MANNERISMS  AQ_TOTAL      rest     Time1     Time2  \\\n",
       "0              15               6        33 -0.372887  0.898793  0.928372   \n",
       "1              14               9        32 -0.252600 -0.794247 -0.678755   \n",
       "2               6               5         8  0.318661 -0.543222 -0.598560   \n",
       "3              10              12        30  0.344258 -0.016524 -0.025186   \n",
       "4              16              10        31  0.683666  0.743461  0.733636   \n",
       "\n",
       "   ...   Time222   Time223   Time224    dynStr     dynSD  prop_high_negative  \\\n",
       "0  ...  0.167787  0.451302  0.779237 -0.341972  0.674439            0.433036   \n",
       "1  ... -0.744058 -0.762272 -0.780523 -0.377624  0.637034            0.406250   \n",
       "2  ...  1.000526  0.961694  0.916893  0.354312  0.689594            0.129464   \n",
       "3  ...  1.153639  1.090470  1.006295  0.296787  0.577184            0.111607   \n",
       "4  ...  1.084392  0.927029  0.736244  0.854236  0.763824            0.053571   \n",
       "\n",
       "   prop_moderate_negative  prop_low_uncorrelated  prop_moderate_positive  \\\n",
       "0                0.129464               0.232143                0.084821   \n",
       "1                0.218750               0.196429                0.066964   \n",
       "2                0.071429               0.191964                0.129464   \n",
       "3                0.066964               0.294643                0.187500   \n",
       "4                0.049107               0.129464                0.066964   \n",
       "\n",
       "   prop_high_positive  \n",
       "0            0.120536  \n",
       "1            0.111607  \n",
       "2            0.477679  \n",
       "3            0.339286  \n",
       "4            0.700893  \n",
       "\n",
       "[5 rows x 239 columns]"
      ]
     },
     "execution_count": 57,
     "metadata": {},
     "output_type": "execute_result"
    }
   ],
   "source": [
    "#Select windows with low, medium or high values. \n",
    "#low = windows<=-0.401179\n",
    "#medium = (windows >= -0.401189) & (windows <= 0.301016)  \n",
    "#high = windows>=0.301026 \n",
    "\n",
    "#low = windows<=-0.227111\n",
    "#medium = (windows >= -0.227121) & (windows <= 0.229148)  \n",
    "#high = windows>=0.229158 \n",
    "\n",
    "high_negative = windows<-0.5\n",
    "moderate_negative = (windows >= -0.5) & (windows < -0.25)  \n",
    "low_uncorrelated= (windows >= -0.25) & (windows <= 0.25) \n",
    "moderate_positive = (windows > 0.25) & (windows <= 0.5)\n",
    "high_positive = windows>0.5\n",
    "\n",
    "\n",
    "#Create three new columns with the counts of lows, mediums and highs windows respectively, per subject. \n",
    "prop_high_negative = high_negative.sum(axis = 1) / 224\n",
    "prop_moderate_negative = moderate_negative.sum(axis = 1) / 224\n",
    "prop_low_uncorrelated = low_uncorrelated.sum(axis = 1) / 224\n",
    "prop_moderate_positive = moderate_positive.sum(axis = 1) / 224\n",
    "prop_high_positive = high_positive.sum(axis = 1) / 224\n",
    "\n",
    "project['prop_high_negative'] = prop_high_negative\n",
    "project['prop_moderate_negative'] = prop_moderate_negative\n",
    "project['prop_low_uncorrelated'] = prop_low_uncorrelated\n",
    "project['prop_moderate_positive'] = prop_moderate_positive\n",
    "project['prop_high_positive'] = prop_high_positive\n",
    "\n",
    "#Check the proportions of wach connectivity state for each subject. \n",
    "#last5 = project[project.columns[-5:project.columns.size]]\n",
    "#project['sum'] = np.sum(last5, axis =1)\n",
    "\n",
    "project.head()"
   ]
  },
  {
   "cell_type": "code",
   "execution_count": 58,
   "metadata": {},
   "outputs": [
    {
     "name": "stdout",
     "output_type": "stream",
     "text": [
      "Normality test (Shapiro-Wilk): ((0.9619383215904236, 0.36658474802970886), (0.9520197510719299, 0.20646537840366364), (0.9730582237243652, 0.6450692415237427), (0.9342964291572571, 0.071134552359581), (0.870661735534668, 0.002085956744849682))\n",
      "\n",
      "Equality of variance test (Levene): (LeveneResult(statistic=3.9344080210737533, pvalue=0.05756224804786322), LeveneResult(statistic=3.20614105163, pvalue=0.08458233272425814), LeveneResult(statistic=0.03467314551680419, pvalue=0.8536742012050543), LeveneResult(statistic=0.02865460566424988, pvalue=0.8668408598143552), LeveneResult(statistic=3.25658753013132, pvalue=0.08230339547366351))\n"
     ]
    }
   ],
   "source": [
    "#Create new data frames for each group, autism spectrum disorder (asd) and typically developing (td).\n",
    "\n",
    "#New data frames\n",
    "asd = project.loc[:13]\n",
    "td = project.loc[14:]\n",
    "\n",
    "#First, we use Shapiro-Wilk test to test for normality. We want the p-value to be higher that 0.05 becasue that means we cannot reject\n",
    "#the null hypothesis that the data comes from a normal distribution. Hence, the data comes from a normal distribution.  \n",
    "shapiro_test = stats.shapiro(project['prop_high_negative']), stats.shapiro(project['prop_moderate_negative']), stats.shapiro(project['prop_low_uncorrelated']), stats.shapiro(project['prop_moderate_positive']), stats.shapiro(project['prop_high_positive'])\n",
    "print('Normality test (Shapiro-Wilk):', shapiro_test)\n",
    "print() \n",
    "\n",
    "# Then, we test for equality of variance with Levene's test. Again, if p-values > 0.05 means that the samples come from \n",
    "#populations with equal variances. \n",
    "levene_test = stats.levene(td['prop_high_negative'], asd['prop_high_negative']),  stats.levene(td['prop_moderate_negative'], asd['prop_moderate_negative']), stats.levene(td['prop_low_uncorrelated'], asd['prop_low_uncorrelated']), stats.levene(td['prop_moderate_positive'], asd['prop_moderate_positive']), stats.levene(td['prop_high_positive'], asd['prop_high_positive'])\n",
    "print('Equality of variance test (Levene):',levene_test)"
   ]
  },
  {
   "cell_type": "code",
   "execution_count": 59,
   "metadata": {},
   "outputs": [
    {
     "name": "stdout",
     "output_type": "stream",
     "text": [
      "ttest high negative: Ttest_indResult(statistic=0.307092780269194, pvalue=0.7611288467217759)\n",
      "ttest moderate negative: Ttest_indResult(statistic=-0.33329470051181187, pvalue=0.7414862979501019)\n",
      "ttest low uncorrelated: Ttest_indResult(statistic=1.596939455873287, pvalue=0.1219185065796548)\n",
      "ttest moderate negative: Ttest_indResult(statistic=1.2098655648976242, pvalue=0.23681708093463028)\n",
      "ttest high positive: Ttest_indResult(statistic=-1.2095924144520758, pvalue=0.2369202121258409)\n",
      "\n",
      "ttest dynFC strength: Ttest_indResult(statistic=-0.7379513858165466, pvalue=0.46690990376279784)\n",
      "ttest dynFC variability: Ttest_indResult(statistic=0.20356955870497, pvalue=0.8402163912437461)\n"
     ]
    }
   ],
   "source": [
    "#T-test for two independent samples to calculate between-groups differences in the three different states of connectivity. \n",
    "\n",
    "ttest_high_negative = stats.ttest_ind(td['prop_high_negative'], asd['prop_high_negative'])\n",
    "ttest_moderate_negative = stats.ttest_ind(td['prop_moderate_negative'], asd['prop_moderate_negative'])\n",
    "ttest_low_uncorrelated = stats.ttest_ind(td['prop_low_uncorrelated'], asd['prop_low_uncorrelated'])\n",
    "ttest_moderate_positive = stats.ttest_ind(td['prop_moderate_positive'], asd['prop_moderate_positive'])\n",
    "ttest_high_positive = stats.ttest_ind(td['prop_high_positive'], asd['prop_high_positive'])\n",
    "\n",
    "ttest_dynStr = stats.ttest_ind(td['dynStr'],asd['dynStr'])\n",
    "ttest_dynSD = stats.ttest_ind(td['dynSD'],asd['dynSD'])\n",
    "\n",
    "print('ttest high negative:', ttest_high_negative)\n",
    "print('ttest moderate negative:', ttest_moderate_negative)\n",
    "print('ttest low uncorrelated:', ttest_low_uncorrelated)\n",
    "print('ttest moderate negative:', ttest_moderate_positive)\n",
    "print('ttest high positive:', ttest_high_positive)\n",
    "print()\n",
    "print('ttest dynFC strength:', ttest_dynStr)\n",
    "print('ttest dynFC variability:', ttest_dynSD)"
   ]
  },
  {
   "cell_type": "code",
   "execution_count": 60,
   "metadata": {},
   "outputs": [
    {
     "name": "stdout",
     "output_type": "stream",
     "text": [
      "MannwhitneyuResult(statistic=96.0, pvalue=0.35527871487876256)\n"
     ]
    }
   ],
   "source": [
    "#Mann-Whitney non-parametric test for low and high count\n",
    "print(stats.mannwhitneyu(td['prop_high_positive'], asd['prop_high_positive']))"
   ]
  },
  {
   "cell_type": "code",
   "execution_count": 63,
   "metadata": {},
   "outputs": [
    {
     "name": "stdout",
     "output_type": "stream",
     "text": [
      "[0.18997931 0.07090061 0.07051449 0.04730578 0.21268368]\n",
      "[0.0911803  0.03127975 0.07289784 0.0508711  0.10644448]\n"
     ]
    }
   ],
   "source": [
    "#Standard deviation (SD) for each group to add error bars in the next plot. \n",
    "asd_prop_high_negative_std = np.std(asd['prop_high_negative'])\n",
    "asd_prop_moderate_negative_std = np.std(asd['prop_moderate_negative'])\n",
    "asd_prop_low_uncorrelated_std = np.std(asd['prop_low_uncorrelated'])\n",
    "asd_prop_moderate_positive_std = np.std(asd['prop_moderate_positive'])\n",
    "asd_prop_high_positive_std = np.std(asd['prop_high_positive'])\n",
    "\n",
    "asd_std = np.array([asd_prop_high_negative_std, asd_prop_moderate_negative_std, asd_prop_low_uncorrelated_std, asd_prop_moderate_positive_std, asd_prop_high_positive_std])\n",
    "print(asd_std)\n",
    "\n",
    "td_prop_high_negative_std = np.std(td['prop_high_negative'])\n",
    "td_prop_moderate_negative_std = np.std(td['prop_moderate_negative'])\n",
    "td_prop_low_uncorrelated_std = np.std(td['prop_low_uncorrelated'])\n",
    "td_prop_moderate_positive_std = np.std(td['prop_moderate_positive'])\n",
    "td_prop_high_positive_std = np.std(td['prop_high_positive'])\n",
    "\n",
    "td_std = np.array([td_prop_high_negative_std, td_prop_moderate_negative_std, td_prop_low_uncorrelated_std, td_prop_moderate_positive_std, td_prop_high_positive_std])\n",
    "#asd_std = asd_std/2\n",
    "print(td_std)"
   ]
  },
  {
   "cell_type": "code",
   "execution_count": 97,
   "metadata": {},
   "outputs": [
    {
     "name": "stdout",
     "output_type": "stream",
     "text": [
      "[[0.1559389  0.38360192]\n",
      " [0.08411227 0.16907651]\n",
      " [0.18861658 0.27311811]\n",
      " [0.07879825 0.13548746]\n",
      " [0.13818952 0.39306048]]\n",
      "\n",
      "[[0.23493616 0.3394686 ]\n",
      " [0.10171273 0.13757298]\n",
      " [0.23321362 0.31678638]\n",
      " [0.10089928 0.15921977]\n",
      " [0.12707931 0.24911117]]\n"
     ]
    },
    {
     "data": {
      "text/plain": [
       "array([0.3394686 , 0.13757298, 0.31678638, 0.15921977, 0.24911117])"
      ]
     },
     "execution_count": 97,
     "metadata": {},
     "output_type": "execute_result"
    }
   ],
   "source": [
    "#Confidence intervals (CI) for each group to add error bars in the next plot. \n",
    "\n",
    "import statsmodels.stats.api as sms\n",
    "\n",
    "asd_prop_high_negative_ci = sms.DescrStatsW(asd['prop_high_negative']).tconfint_mean()\n",
    "asd_prop_moderate_negative_ci = sms.DescrStatsW(asd['prop_moderate_negative']).tconfint_mean()\n",
    "asd_prop_low_uncorrelated_ci = sms.DescrStatsW(asd['prop_low_uncorrelated']).tconfint_mean()\n",
    "asd_prop_moderate_positive_ci = sms.DescrStatsW(asd['prop_moderate_positive']).tconfint_mean()\n",
    "asd_prop_high_positive_ci = sms.DescrStatsW(asd['prop_high_positive']).tconfint_mean()\n",
    "\n",
    "asd_ci = np.array([asd_prop_high_negative_ci, asd_prop_moderate_negative_ci, asd_prop_low_uncorrelated_ci, asd_prop_moderate_positive_ci, asd_prop_high_positive_ci])\n",
    "print(asd_ci)\n",
    "print()\n",
    "td_prop_high_negative_ci = sms.DescrStatsW(td['prop_high_negative']).tconfint_mean()\n",
    "td_prop_moderate_negative_ci = sms.DescrStatsW(td['prop_moderate_negative']).tconfint_mean()\n",
    "td_prop_low_uncorrelated_ci = sms.DescrStatsW(td['prop_low_uncorrelated']).tconfint_mean()\n",
    "td_prop_moderate_positive_ci = sms.DescrStatsW(td['prop_moderate_positive']).tconfint_mean()\n",
    "td_prop_high_positive_ci = sms.DescrStatsW(td['prop_high_positive']).tconfint_mean()\n",
    "\n",
    "td_ci = np.array([td_prop_high_negative_ci, td_prop_moderate_negative_ci, td_prop_low_uncorrelated_ci, td_prop_moderate_positive_ci, td_prop_high_positive_ci])\n",
    "print(td_ci)\n",
    "td_ci[:,0]\n",
    "td_ci[:,1]"
   ]
  },
  {
   "cell_type": "code",
   "execution_count": 123,
   "metadata": {},
   "outputs": [
    {
     "data": {
      "application/vnd.plotly.v1+json": {
       "config": {
        "plotlyServerURL": "https://plot.ly"
       },
       "data": [
        {
         "name": "ASD Group",
         "type": "bar",
         "x": [
          "high negative",
          "moderate negative",
          "low uncorrelated",
          "moderate positive",
          "high positive"
         ],
         "y": [
          0.26977040816326536,
          0.12659438775510204,
          0.2308673469387755,
          0.10714285714285716,
          0.26562500000000006
         ]
        },
        {
         "name": "TD Group",
         "type": "bar",
         "x": [
          "high negative",
          "moderate negative",
          "low uncorrelated",
          "moderate positive",
          "high positive"
         ],
         "y": [
          0.287202380952381,
          0.11964285714285716,
          0.275,
          0.13005952380952382,
          0.18809523809523804
         ]
        }
       ],
       "layout": {
        "barmode": "group",
        "template": {
         "data": {
          "bar": [
           {
            "error_x": {
             "color": "#2a3f5f"
            },
            "error_y": {
             "color": "#2a3f5f"
            },
            "marker": {
             "line": {
              "color": "#E5ECF6",
              "width": 0.5
             }
            },
            "type": "bar"
           }
          ],
          "barpolar": [
           {
            "marker": {
             "line": {
              "color": "#E5ECF6",
              "width": 0.5
             }
            },
            "type": "barpolar"
           }
          ],
          "carpet": [
           {
            "aaxis": {
             "endlinecolor": "#2a3f5f",
             "gridcolor": "white",
             "linecolor": "white",
             "minorgridcolor": "white",
             "startlinecolor": "#2a3f5f"
            },
            "baxis": {
             "endlinecolor": "#2a3f5f",
             "gridcolor": "white",
             "linecolor": "white",
             "minorgridcolor": "white",
             "startlinecolor": "#2a3f5f"
            },
            "type": "carpet"
           }
          ],
          "choropleth": [
           {
            "colorbar": {
             "outlinewidth": 0,
             "ticks": ""
            },
            "type": "choropleth"
           }
          ],
          "contour": [
           {
            "colorbar": {
             "outlinewidth": 0,
             "ticks": ""
            },
            "colorscale": [
             [
              0,
              "#0d0887"
             ],
             [
              0.1111111111111111,
              "#46039f"
             ],
             [
              0.2222222222222222,
              "#7201a8"
             ],
             [
              0.3333333333333333,
              "#9c179e"
             ],
             [
              0.4444444444444444,
              "#bd3786"
             ],
             [
              0.5555555555555556,
              "#d8576b"
             ],
             [
              0.6666666666666666,
              "#ed7953"
             ],
             [
              0.7777777777777778,
              "#fb9f3a"
             ],
             [
              0.8888888888888888,
              "#fdca26"
             ],
             [
              1,
              "#f0f921"
             ]
            ],
            "type": "contour"
           }
          ],
          "contourcarpet": [
           {
            "colorbar": {
             "outlinewidth": 0,
             "ticks": ""
            },
            "type": "contourcarpet"
           }
          ],
          "heatmap": [
           {
            "colorbar": {
             "outlinewidth": 0,
             "ticks": ""
            },
            "colorscale": [
             [
              0,
              "#0d0887"
             ],
             [
              0.1111111111111111,
              "#46039f"
             ],
             [
              0.2222222222222222,
              "#7201a8"
             ],
             [
              0.3333333333333333,
              "#9c179e"
             ],
             [
              0.4444444444444444,
              "#bd3786"
             ],
             [
              0.5555555555555556,
              "#d8576b"
             ],
             [
              0.6666666666666666,
              "#ed7953"
             ],
             [
              0.7777777777777778,
              "#fb9f3a"
             ],
             [
              0.8888888888888888,
              "#fdca26"
             ],
             [
              1,
              "#f0f921"
             ]
            ],
            "type": "heatmap"
           }
          ],
          "heatmapgl": [
           {
            "colorbar": {
             "outlinewidth": 0,
             "ticks": ""
            },
            "colorscale": [
             [
              0,
              "#0d0887"
             ],
             [
              0.1111111111111111,
              "#46039f"
             ],
             [
              0.2222222222222222,
              "#7201a8"
             ],
             [
              0.3333333333333333,
              "#9c179e"
             ],
             [
              0.4444444444444444,
              "#bd3786"
             ],
             [
              0.5555555555555556,
              "#d8576b"
             ],
             [
              0.6666666666666666,
              "#ed7953"
             ],
             [
              0.7777777777777778,
              "#fb9f3a"
             ],
             [
              0.8888888888888888,
              "#fdca26"
             ],
             [
              1,
              "#f0f921"
             ]
            ],
            "type": "heatmapgl"
           }
          ],
          "histogram": [
           {
            "marker": {
             "colorbar": {
              "outlinewidth": 0,
              "ticks": ""
             }
            },
            "type": "histogram"
           }
          ],
          "histogram2d": [
           {
            "colorbar": {
             "outlinewidth": 0,
             "ticks": ""
            },
            "colorscale": [
             [
              0,
              "#0d0887"
             ],
             [
              0.1111111111111111,
              "#46039f"
             ],
             [
              0.2222222222222222,
              "#7201a8"
             ],
             [
              0.3333333333333333,
              "#9c179e"
             ],
             [
              0.4444444444444444,
              "#bd3786"
             ],
             [
              0.5555555555555556,
              "#d8576b"
             ],
             [
              0.6666666666666666,
              "#ed7953"
             ],
             [
              0.7777777777777778,
              "#fb9f3a"
             ],
             [
              0.8888888888888888,
              "#fdca26"
             ],
             [
              1,
              "#f0f921"
             ]
            ],
            "type": "histogram2d"
           }
          ],
          "histogram2dcontour": [
           {
            "colorbar": {
             "outlinewidth": 0,
             "ticks": ""
            },
            "colorscale": [
             [
              0,
              "#0d0887"
             ],
             [
              0.1111111111111111,
              "#46039f"
             ],
             [
              0.2222222222222222,
              "#7201a8"
             ],
             [
              0.3333333333333333,
              "#9c179e"
             ],
             [
              0.4444444444444444,
              "#bd3786"
             ],
             [
              0.5555555555555556,
              "#d8576b"
             ],
             [
              0.6666666666666666,
              "#ed7953"
             ],
             [
              0.7777777777777778,
              "#fb9f3a"
             ],
             [
              0.8888888888888888,
              "#fdca26"
             ],
             [
              1,
              "#f0f921"
             ]
            ],
            "type": "histogram2dcontour"
           }
          ],
          "mesh3d": [
           {
            "colorbar": {
             "outlinewidth": 0,
             "ticks": ""
            },
            "type": "mesh3d"
           }
          ],
          "parcoords": [
           {
            "line": {
             "colorbar": {
              "outlinewidth": 0,
              "ticks": ""
             }
            },
            "type": "parcoords"
           }
          ],
          "pie": [
           {
            "automargin": true,
            "type": "pie"
           }
          ],
          "scatter": [
           {
            "marker": {
             "colorbar": {
              "outlinewidth": 0,
              "ticks": ""
             }
            },
            "type": "scatter"
           }
          ],
          "scatter3d": [
           {
            "line": {
             "colorbar": {
              "outlinewidth": 0,
              "ticks": ""
             }
            },
            "marker": {
             "colorbar": {
              "outlinewidth": 0,
              "ticks": ""
             }
            },
            "type": "scatter3d"
           }
          ],
          "scattercarpet": [
           {
            "marker": {
             "colorbar": {
              "outlinewidth": 0,
              "ticks": ""
             }
            },
            "type": "scattercarpet"
           }
          ],
          "scattergeo": [
           {
            "marker": {
             "colorbar": {
              "outlinewidth": 0,
              "ticks": ""
             }
            },
            "type": "scattergeo"
           }
          ],
          "scattergl": [
           {
            "marker": {
             "colorbar": {
              "outlinewidth": 0,
              "ticks": ""
             }
            },
            "type": "scattergl"
           }
          ],
          "scattermapbox": [
           {
            "marker": {
             "colorbar": {
              "outlinewidth": 0,
              "ticks": ""
             }
            },
            "type": "scattermapbox"
           }
          ],
          "scatterpolar": [
           {
            "marker": {
             "colorbar": {
              "outlinewidth": 0,
              "ticks": ""
             }
            },
            "type": "scatterpolar"
           }
          ],
          "scatterpolargl": [
           {
            "marker": {
             "colorbar": {
              "outlinewidth": 0,
              "ticks": ""
             }
            },
            "type": "scatterpolargl"
           }
          ],
          "scatterternary": [
           {
            "marker": {
             "colorbar": {
              "outlinewidth": 0,
              "ticks": ""
             }
            },
            "type": "scatterternary"
           }
          ],
          "surface": [
           {
            "colorbar": {
             "outlinewidth": 0,
             "ticks": ""
            },
            "colorscale": [
             [
              0,
              "#0d0887"
             ],
             [
              0.1111111111111111,
              "#46039f"
             ],
             [
              0.2222222222222222,
              "#7201a8"
             ],
             [
              0.3333333333333333,
              "#9c179e"
             ],
             [
              0.4444444444444444,
              "#bd3786"
             ],
             [
              0.5555555555555556,
              "#d8576b"
             ],
             [
              0.6666666666666666,
              "#ed7953"
             ],
             [
              0.7777777777777778,
              "#fb9f3a"
             ],
             [
              0.8888888888888888,
              "#fdca26"
             ],
             [
              1,
              "#f0f921"
             ]
            ],
            "type": "surface"
           }
          ],
          "table": [
           {
            "cells": {
             "fill": {
              "color": "#EBF0F8"
             },
             "line": {
              "color": "white"
             }
            },
            "header": {
             "fill": {
              "color": "#C8D4E3"
             },
             "line": {
              "color": "white"
             }
            },
            "type": "table"
           }
          ]
         },
         "layout": {
          "annotationdefaults": {
           "arrowcolor": "#2a3f5f",
           "arrowhead": 0,
           "arrowwidth": 1
          },
          "coloraxis": {
           "colorbar": {
            "outlinewidth": 0,
            "ticks": ""
           }
          },
          "colorscale": {
           "diverging": [
            [
             0,
             "#8e0152"
            ],
            [
             0.1,
             "#c51b7d"
            ],
            [
             0.2,
             "#de77ae"
            ],
            [
             0.3,
             "#f1b6da"
            ],
            [
             0.4,
             "#fde0ef"
            ],
            [
             0.5,
             "#f7f7f7"
            ],
            [
             0.6,
             "#e6f5d0"
            ],
            [
             0.7,
             "#b8e186"
            ],
            [
             0.8,
             "#7fbc41"
            ],
            [
             0.9,
             "#4d9221"
            ],
            [
             1,
             "#276419"
            ]
           ],
           "sequential": [
            [
             0,
             "#0d0887"
            ],
            [
             0.1111111111111111,
             "#46039f"
            ],
            [
             0.2222222222222222,
             "#7201a8"
            ],
            [
             0.3333333333333333,
             "#9c179e"
            ],
            [
             0.4444444444444444,
             "#bd3786"
            ],
            [
             0.5555555555555556,
             "#d8576b"
            ],
            [
             0.6666666666666666,
             "#ed7953"
            ],
            [
             0.7777777777777778,
             "#fb9f3a"
            ],
            [
             0.8888888888888888,
             "#fdca26"
            ],
            [
             1,
             "#f0f921"
            ]
           ],
           "sequentialminus": [
            [
             0,
             "#0d0887"
            ],
            [
             0.1111111111111111,
             "#46039f"
            ],
            [
             0.2222222222222222,
             "#7201a8"
            ],
            [
             0.3333333333333333,
             "#9c179e"
            ],
            [
             0.4444444444444444,
             "#bd3786"
            ],
            [
             0.5555555555555556,
             "#d8576b"
            ],
            [
             0.6666666666666666,
             "#ed7953"
            ],
            [
             0.7777777777777778,
             "#fb9f3a"
            ],
            [
             0.8888888888888888,
             "#fdca26"
            ],
            [
             1,
             "#f0f921"
            ]
           ]
          },
          "colorway": [
           "#636efa",
           "#EF553B",
           "#00cc96",
           "#ab63fa",
           "#FFA15A",
           "#19d3f3",
           "#FF6692",
           "#B6E880",
           "#FF97FF",
           "#FECB52"
          ],
          "font": {
           "color": "#2a3f5f"
          },
          "geo": {
           "bgcolor": "white",
           "lakecolor": "white",
           "landcolor": "#E5ECF6",
           "showlakes": true,
           "showland": true,
           "subunitcolor": "white"
          },
          "hoverlabel": {
           "align": "left"
          },
          "hovermode": "closest",
          "mapbox": {
           "style": "light"
          },
          "paper_bgcolor": "white",
          "plot_bgcolor": "#E5ECF6",
          "polar": {
           "angularaxis": {
            "gridcolor": "white",
            "linecolor": "white",
            "ticks": ""
           },
           "bgcolor": "#E5ECF6",
           "radialaxis": {
            "gridcolor": "white",
            "linecolor": "white",
            "ticks": ""
           }
          },
          "scene": {
           "xaxis": {
            "backgroundcolor": "#E5ECF6",
            "gridcolor": "white",
            "gridwidth": 2,
            "linecolor": "white",
            "showbackground": true,
            "ticks": "",
            "zerolinecolor": "white"
           },
           "yaxis": {
            "backgroundcolor": "#E5ECF6",
            "gridcolor": "white",
            "gridwidth": 2,
            "linecolor": "white",
            "showbackground": true,
            "ticks": "",
            "zerolinecolor": "white"
           },
           "zaxis": {
            "backgroundcolor": "#E5ECF6",
            "gridcolor": "white",
            "gridwidth": 2,
            "linecolor": "white",
            "showbackground": true,
            "ticks": "",
            "zerolinecolor": "white"
           }
          },
          "shapedefaults": {
           "line": {
            "color": "#2a3f5f"
           }
          },
          "ternary": {
           "aaxis": {
            "gridcolor": "white",
            "linecolor": "white",
            "ticks": ""
           },
           "baxis": {
            "gridcolor": "white",
            "linecolor": "white",
            "ticks": ""
           },
           "bgcolor": "#E5ECF6",
           "caxis": {
            "gridcolor": "white",
            "linecolor": "white",
            "ticks": ""
           }
          },
          "title": {
           "x": 0.05
          },
          "xaxis": {
           "automargin": true,
           "gridcolor": "white",
           "linecolor": "white",
           "ticks": "",
           "title": {
            "standoff": 15
           },
           "zerolinecolor": "white",
           "zerolinewidth": 2
          },
          "yaxis": {
           "automargin": true,
           "gridcolor": "white",
           "linecolor": "white",
           "ticks": "",
           "title": {
            "standoff": 15
           },
           "zerolinecolor": "white",
           "zerolinewidth": 2
          }
         }
        },
        "title": {
         "text": "Average proportion of windows in each state",
         "x": 0.5,
         "xanchor": "center",
         "y": 0.9,
         "yanchor": "top"
        },
        "xaxis": {
         "title": {
          "text": "States of connectivity"
         }
        },
        "yaxis": {
         "title": {
          "text": "Proportion of windows"
         }
        }
       }
      },
      "text/html": [
       "<div>\n",
       "        \n",
       "        \n",
       "            <div id=\"02cd3994-72a4-4831-a207-0d38e72a8376\" class=\"plotly-graph-div\" style=\"height:525px; width:100%;\"></div>\n",
       "            <script type=\"text/javascript\">\n",
       "                require([\"plotly\"], function(Plotly) {\n",
       "                    window.PLOTLYENV=window.PLOTLYENV || {};\n",
       "                    \n",
       "                if (document.getElementById(\"02cd3994-72a4-4831-a207-0d38e72a8376\")) {\n",
       "                    Plotly.newPlot(\n",
       "                        '02cd3994-72a4-4831-a207-0d38e72a8376',\n",
       "                        [{\"name\": \"ASD Group\", \"type\": \"bar\", \"x\": [\"high negative\", \"moderate negative\", \"low uncorrelated\", \"moderate positive\", \"high positive\"], \"y\": [0.26977040816326536, 0.12659438775510204, 0.2308673469387755, 0.10714285714285716, 0.26562500000000006]}, {\"name\": \"TD Group\", \"type\": \"bar\", \"x\": [\"high negative\", \"moderate negative\", \"low uncorrelated\", \"moderate positive\", \"high positive\"], \"y\": [0.287202380952381, 0.11964285714285716, 0.275, 0.13005952380952382, 0.18809523809523804]}],\n",
       "                        {\"barmode\": \"group\", \"template\": {\"data\": {\"bar\": [{\"error_x\": {\"color\": \"#2a3f5f\"}, \"error_y\": {\"color\": \"#2a3f5f\"}, \"marker\": {\"line\": {\"color\": \"#E5ECF6\", \"width\": 0.5}}, \"type\": \"bar\"}], \"barpolar\": [{\"marker\": {\"line\": {\"color\": \"#E5ECF6\", \"width\": 0.5}}, \"type\": \"barpolar\"}], \"carpet\": [{\"aaxis\": {\"endlinecolor\": \"#2a3f5f\", \"gridcolor\": \"white\", \"linecolor\": \"white\", \"minorgridcolor\": \"white\", \"startlinecolor\": \"#2a3f5f\"}, \"baxis\": {\"endlinecolor\": \"#2a3f5f\", \"gridcolor\": \"white\", \"linecolor\": \"white\", \"minorgridcolor\": \"white\", \"startlinecolor\": \"#2a3f5f\"}, \"type\": \"carpet\"}], \"choropleth\": [{\"colorbar\": {\"outlinewidth\": 0, \"ticks\": \"\"}, \"type\": \"choropleth\"}], \"contour\": [{\"colorbar\": {\"outlinewidth\": 0, \"ticks\": \"\"}, \"colorscale\": [[0.0, \"#0d0887\"], [0.1111111111111111, \"#46039f\"], [0.2222222222222222, \"#7201a8\"], [0.3333333333333333, \"#9c179e\"], [0.4444444444444444, \"#bd3786\"], [0.5555555555555556, \"#d8576b\"], [0.6666666666666666, \"#ed7953\"], [0.7777777777777778, \"#fb9f3a\"], [0.8888888888888888, \"#fdca26\"], [1.0, \"#f0f921\"]], \"type\": \"contour\"}], \"contourcarpet\": [{\"colorbar\": {\"outlinewidth\": 0, \"ticks\": \"\"}, \"type\": \"contourcarpet\"}], \"heatmap\": [{\"colorbar\": {\"outlinewidth\": 0, \"ticks\": \"\"}, \"colorscale\": [[0.0, \"#0d0887\"], [0.1111111111111111, \"#46039f\"], [0.2222222222222222, \"#7201a8\"], [0.3333333333333333, \"#9c179e\"], [0.4444444444444444, \"#bd3786\"], [0.5555555555555556, \"#d8576b\"], [0.6666666666666666, \"#ed7953\"], [0.7777777777777778, \"#fb9f3a\"], [0.8888888888888888, \"#fdca26\"], [1.0, \"#f0f921\"]], \"type\": \"heatmap\"}], \"heatmapgl\": [{\"colorbar\": {\"outlinewidth\": 0, \"ticks\": \"\"}, \"colorscale\": [[0.0, \"#0d0887\"], [0.1111111111111111, \"#46039f\"], [0.2222222222222222, \"#7201a8\"], [0.3333333333333333, \"#9c179e\"], [0.4444444444444444, \"#bd3786\"], [0.5555555555555556, \"#d8576b\"], [0.6666666666666666, \"#ed7953\"], [0.7777777777777778, \"#fb9f3a\"], [0.8888888888888888, \"#fdca26\"], [1.0, \"#f0f921\"]], \"type\": \"heatmapgl\"}], \"histogram\": [{\"marker\": {\"colorbar\": {\"outlinewidth\": 0, \"ticks\": \"\"}}, \"type\": \"histogram\"}], \"histogram2d\": [{\"colorbar\": {\"outlinewidth\": 0, \"ticks\": \"\"}, \"colorscale\": [[0.0, \"#0d0887\"], [0.1111111111111111, \"#46039f\"], [0.2222222222222222, \"#7201a8\"], [0.3333333333333333, \"#9c179e\"], [0.4444444444444444, \"#bd3786\"], [0.5555555555555556, \"#d8576b\"], [0.6666666666666666, \"#ed7953\"], [0.7777777777777778, \"#fb9f3a\"], [0.8888888888888888, \"#fdca26\"], [1.0, \"#f0f921\"]], \"type\": \"histogram2d\"}], \"histogram2dcontour\": [{\"colorbar\": {\"outlinewidth\": 0, \"ticks\": \"\"}, \"colorscale\": [[0.0, \"#0d0887\"], [0.1111111111111111, \"#46039f\"], [0.2222222222222222, \"#7201a8\"], [0.3333333333333333, \"#9c179e\"], [0.4444444444444444, \"#bd3786\"], [0.5555555555555556, \"#d8576b\"], [0.6666666666666666, \"#ed7953\"], [0.7777777777777778, \"#fb9f3a\"], [0.8888888888888888, \"#fdca26\"], [1.0, \"#f0f921\"]], \"type\": \"histogram2dcontour\"}], \"mesh3d\": [{\"colorbar\": {\"outlinewidth\": 0, \"ticks\": \"\"}, \"type\": \"mesh3d\"}], \"parcoords\": [{\"line\": {\"colorbar\": {\"outlinewidth\": 0, \"ticks\": \"\"}}, \"type\": \"parcoords\"}], \"pie\": [{\"automargin\": true, \"type\": \"pie\"}], \"scatter\": [{\"marker\": {\"colorbar\": {\"outlinewidth\": 0, \"ticks\": \"\"}}, \"type\": \"scatter\"}], \"scatter3d\": [{\"line\": {\"colorbar\": {\"outlinewidth\": 0, \"ticks\": \"\"}}, \"marker\": {\"colorbar\": {\"outlinewidth\": 0, \"ticks\": \"\"}}, \"type\": \"scatter3d\"}], \"scattercarpet\": [{\"marker\": {\"colorbar\": {\"outlinewidth\": 0, \"ticks\": \"\"}}, \"type\": \"scattercarpet\"}], \"scattergeo\": [{\"marker\": {\"colorbar\": {\"outlinewidth\": 0, \"ticks\": \"\"}}, \"type\": \"scattergeo\"}], \"scattergl\": [{\"marker\": {\"colorbar\": {\"outlinewidth\": 0, \"ticks\": \"\"}}, \"type\": \"scattergl\"}], \"scattermapbox\": [{\"marker\": {\"colorbar\": {\"outlinewidth\": 0, \"ticks\": \"\"}}, \"type\": \"scattermapbox\"}], \"scatterpolar\": [{\"marker\": {\"colorbar\": {\"outlinewidth\": 0, \"ticks\": \"\"}}, \"type\": \"scatterpolar\"}], \"scatterpolargl\": [{\"marker\": {\"colorbar\": {\"outlinewidth\": 0, \"ticks\": \"\"}}, \"type\": \"scatterpolargl\"}], \"scatterternary\": [{\"marker\": {\"colorbar\": {\"outlinewidth\": 0, \"ticks\": \"\"}}, \"type\": \"scatterternary\"}], \"surface\": [{\"colorbar\": {\"outlinewidth\": 0, \"ticks\": \"\"}, \"colorscale\": [[0.0, \"#0d0887\"], [0.1111111111111111, \"#46039f\"], [0.2222222222222222, \"#7201a8\"], [0.3333333333333333, \"#9c179e\"], [0.4444444444444444, \"#bd3786\"], [0.5555555555555556, \"#d8576b\"], [0.6666666666666666, \"#ed7953\"], [0.7777777777777778, \"#fb9f3a\"], [0.8888888888888888, \"#fdca26\"], [1.0, \"#f0f921\"]], \"type\": \"surface\"}], \"table\": [{\"cells\": {\"fill\": {\"color\": \"#EBF0F8\"}, \"line\": {\"color\": \"white\"}}, \"header\": {\"fill\": {\"color\": \"#C8D4E3\"}, \"line\": {\"color\": \"white\"}}, \"type\": \"table\"}]}, \"layout\": {\"annotationdefaults\": {\"arrowcolor\": \"#2a3f5f\", \"arrowhead\": 0, \"arrowwidth\": 1}, \"coloraxis\": {\"colorbar\": {\"outlinewidth\": 0, \"ticks\": \"\"}}, \"colorscale\": {\"diverging\": [[0, \"#8e0152\"], [0.1, \"#c51b7d\"], [0.2, \"#de77ae\"], [0.3, \"#f1b6da\"], [0.4, \"#fde0ef\"], [0.5, \"#f7f7f7\"], [0.6, \"#e6f5d0\"], [0.7, \"#b8e186\"], [0.8, \"#7fbc41\"], [0.9, \"#4d9221\"], [1, \"#276419\"]], \"sequential\": [[0.0, \"#0d0887\"], [0.1111111111111111, \"#46039f\"], [0.2222222222222222, \"#7201a8\"], [0.3333333333333333, \"#9c179e\"], [0.4444444444444444, \"#bd3786\"], [0.5555555555555556, \"#d8576b\"], [0.6666666666666666, \"#ed7953\"], [0.7777777777777778, \"#fb9f3a\"], [0.8888888888888888, \"#fdca26\"], [1.0, \"#f0f921\"]], \"sequentialminus\": [[0.0, \"#0d0887\"], [0.1111111111111111, \"#46039f\"], [0.2222222222222222, \"#7201a8\"], [0.3333333333333333, \"#9c179e\"], [0.4444444444444444, \"#bd3786\"], [0.5555555555555556, \"#d8576b\"], [0.6666666666666666, \"#ed7953\"], [0.7777777777777778, \"#fb9f3a\"], [0.8888888888888888, \"#fdca26\"], [1.0, \"#f0f921\"]]}, \"colorway\": [\"#636efa\", \"#EF553B\", \"#00cc96\", \"#ab63fa\", \"#FFA15A\", \"#19d3f3\", \"#FF6692\", \"#B6E880\", \"#FF97FF\", \"#FECB52\"], \"font\": {\"color\": \"#2a3f5f\"}, \"geo\": {\"bgcolor\": \"white\", \"lakecolor\": \"white\", \"landcolor\": \"#E5ECF6\", \"showlakes\": true, \"showland\": true, \"subunitcolor\": \"white\"}, \"hoverlabel\": {\"align\": \"left\"}, \"hovermode\": \"closest\", \"mapbox\": {\"style\": \"light\"}, \"paper_bgcolor\": \"white\", \"plot_bgcolor\": \"#E5ECF6\", \"polar\": {\"angularaxis\": {\"gridcolor\": \"white\", \"linecolor\": \"white\", \"ticks\": \"\"}, \"bgcolor\": \"#E5ECF6\", \"radialaxis\": {\"gridcolor\": \"white\", \"linecolor\": \"white\", \"ticks\": \"\"}}, \"scene\": {\"xaxis\": {\"backgroundcolor\": \"#E5ECF6\", \"gridcolor\": \"white\", \"gridwidth\": 2, \"linecolor\": \"white\", \"showbackground\": true, \"ticks\": \"\", \"zerolinecolor\": \"white\"}, \"yaxis\": {\"backgroundcolor\": \"#E5ECF6\", \"gridcolor\": \"white\", \"gridwidth\": 2, \"linecolor\": \"white\", \"showbackground\": true, \"ticks\": \"\", \"zerolinecolor\": \"white\"}, \"zaxis\": {\"backgroundcolor\": \"#E5ECF6\", \"gridcolor\": \"white\", \"gridwidth\": 2, \"linecolor\": \"white\", \"showbackground\": true, \"ticks\": \"\", \"zerolinecolor\": \"white\"}}, \"shapedefaults\": {\"line\": {\"color\": \"#2a3f5f\"}}, \"ternary\": {\"aaxis\": {\"gridcolor\": \"white\", \"linecolor\": \"white\", \"ticks\": \"\"}, \"baxis\": {\"gridcolor\": \"white\", \"linecolor\": \"white\", \"ticks\": \"\"}, \"bgcolor\": \"#E5ECF6\", \"caxis\": {\"gridcolor\": \"white\", \"linecolor\": \"white\", \"ticks\": \"\"}}, \"title\": {\"x\": 0.05}, \"xaxis\": {\"automargin\": true, \"gridcolor\": \"white\", \"linecolor\": \"white\", \"ticks\": \"\", \"title\": {\"standoff\": 15}, \"zerolinecolor\": \"white\", \"zerolinewidth\": 2}, \"yaxis\": {\"automargin\": true, \"gridcolor\": \"white\", \"linecolor\": \"white\", \"ticks\": \"\", \"title\": {\"standoff\": 15}, \"zerolinecolor\": \"white\", \"zerolinewidth\": 2}}}, \"title\": {\"text\": \"Average proportion of windows in each state\", \"x\": 0.5, \"xanchor\": \"center\", \"y\": 0.9, \"yanchor\": \"top\"}, \"xaxis\": {\"title\": {\"text\": \"States of connectivity\"}}, \"yaxis\": {\"title\": {\"text\": \"Proportion of windows\"}}},\n",
       "                        {\"responsive\": true}\n",
       "                    ).then(function(){\n",
       "                            \n",
       "var gd = document.getElementById('02cd3994-72a4-4831-a207-0d38e72a8376');\n",
       "var x = new MutationObserver(function (mutations, observer) {{\n",
       "        var display = window.getComputedStyle(gd).display;\n",
       "        if (!display || display === 'none') {{\n",
       "            console.log([gd, 'removed!']);\n",
       "            Plotly.purge(gd);\n",
       "            observer.disconnect();\n",
       "        }}\n",
       "}});\n",
       "\n",
       "// Listen for the removal of the full notebook cells\n",
       "var notebookContainer = gd.closest('#notebook-container');\n",
       "if (notebookContainer) {{\n",
       "    x.observe(notebookContainer, {childList: true});\n",
       "}}\n",
       "\n",
       "// Listen for the clearing of the current output cell\n",
       "var outputEl = gd.closest('.output');\n",
       "if (outputEl) {{\n",
       "    x.observe(outputEl, {childList: true});\n",
       "}}\n",
       "\n",
       "                        })\n",
       "                };\n",
       "                });\n",
       "            </script>\n",
       "        </div>"
      ]
     },
     "metadata": {},
     "output_type": "display_data"
    }
   ],
   "source": [
    "asd_prop_high_negative_mean = np.mean(asd['prop_high_negative'])\n",
    "asd_prop_moderate_negative_mean = np.mean(asd['prop_moderate_negative'])\n",
    "asd_prop_low_uncorrelated_mean = np.mean(asd['prop_low_uncorrelated'])\n",
    "asd_prop_moderate_positive_mean = np.mean(asd['prop_moderate_positive'])\n",
    "asd_prop_high_positive_mean = np.mean(asd['prop_high_positive'])\n",
    "      \n",
    "td_prop_high_negative_mean = np.mean(td['prop_high_negative'])\n",
    "td_prop_moderate_negative_mean = np.mean(td['prop_moderate_negative'])\n",
    "td_prop_low_uncorrelated_mean = np.mean(td['prop_low_uncorrelated'])\n",
    "td_prop_moderate_positive_mean = np.mean(td['prop_moderate_positive'])\n",
    "td_prop_high_positive_mean = np.mean(td['prop_high_positive'])\n",
    "\n",
    "states=['high negative', 'moderate negative', 'low uncorrelated', 'moderate positive', 'high positive']\n",
    "\n",
    "fig = go.Figure(data=[\n",
    "    go.Bar(name='ASD Group', x=states, y=[asd_prop_high_negative_mean, asd_prop_moderate_negative_mean, asd_prop_low_uncorrelated_mean, asd_prop_moderate_positive_mean, asd_prop_high_positive_mean]),\n",
    "    go.Bar(name='TD Group', x=states, y=[td_prop_high_negative_mean, td_prop_moderate_negative_mean, td_prop_low_uncorrelated_mean, td_prop_moderate_positive_mean, td_prop_high_positive_mean]),\n",
    "])\n",
    "\n",
    "# Change the bar mode\n",
    "fig.update_layout(barmode='group', title={\n",
    "        'text': \"Average proportion of windows in each state\",\n",
    "        'y':0.9,\n",
    "        'x':0.5,\n",
    "        'xanchor': 'center',\n",
    "        'yanchor': 'top'},\n",
    "    xaxis_title=\"States of connectivity\",\n",
    "    yaxis_title=\"Proportion of windows\",)\n",
    "fig.show()"
   ]
  },
  {
   "cell_type": "code",
   "execution_count": 108,
   "metadata": {},
   "outputs": [],
   "source": [
    "go.Bar?"
   ]
  },
  {
   "cell_type": "markdown",
   "metadata": {},
   "source": [
    "-----------------------------------------------\n",
    "Next thing we want to test is if there are significant differences in the amount of time groups spend in a positive or negative state of FC.\n",
    "\n",
    "-----------------------------------------------"
   ]
  },
  {
   "cell_type": "markdown",
   "metadata": {},
   "source": [
    "-----------------------------------------\n",
    "Next thing we want to obtain are the Mean Dwell Time (MDT) and the Probability of transition (PT). \n",
    "\n",
    "- MDT: average number of windows that were continuous on the time and attributed to the same state.\n",
    "- PT: number of transitions from other states to a specific one over total available transitions(number of state changes).\n",
    "\n",
    "--------------------------------------------"
   ]
  },
  {
   "cell_type": "code",
   "execution_count": 8,
   "metadata": {},
   "outputs": [
    {
     "name": "stderr",
     "output_type": "stream",
     "text": [
      "C:\\Users\\Laura\\Anaconda3\\lib\\site-packages\\numpy\\core\\fromnumeric.py:3118: RuntimeWarning:\n",
      "\n",
      "Mean of empty slice.\n",
      "\n",
      "C:\\Users\\Laura\\Anaconda3\\lib\\site-packages\\numpy\\core\\_methods.py:85: RuntimeWarning:\n",
      "\n",
      "invalid value encountered in double_scalars\n",
      "\n"
     ]
    },
    {
     "name": "stdout",
     "output_type": "stream",
     "text": [
      "[13.85714286 13.          9.66666667 12.5         6.         11.25\n",
      "  7.16666667         nan 10.66666667 16.125      17.71428571 10.25\n",
      " 10.4        15.75       12.42857143 10.66666667 18.2         7.\n",
      " 11.75       15.16666667  8.         15.8        10.66666667 14.\n",
      "  8.33333333  9.6         8.6        15.         17.2       ]\n",
      "[2.41666667 4.08333333 3.2        2.5        2.2        3.11111111\n",
      " 4.5               nan 2.875      4.36363636 2.45454545 2.88888889\n",
      " 2.91666667 1.92857143 2.61538462 2.66666667 2.11111111 2.53333333\n",
      " 2.25       2.09090909 3.33333333 2.88888889 1.84615385 2.5\n",
      " 2.75       3.22222222 1.5        3.28571429 2.23076923]\n",
      "[ 5.77777778  4.4         5.375       6.          3.625       6.5\n",
      "  5.28571429  8.          5.90909091  5.28571429  5.625       4.71428571\n",
      "  4.          3.66666667 10.          7.5         5.85714286  5.75\n",
      "  4.66666667  6.2         6.66666667  5.2         4.69230769  5.91666667\n",
      "  4.72727273  3.75        4.63636364  5.33333333  8.6       ]\n",
      "[2.71428571 1.875      2.41666667 3.23076923 1.66666667 2.25\n",
      " 1.88888889 3.25       2.4        3.33333333 2.         2.4\n",
      " 2.64285714 2.8        3.33333333 2.5        8.         3.25\n",
      " 3.07692308 2.25       4.125      2.6        3.63636364 2.375\n",
      " 3.30769231 4.         3.66666667 3.83333333 3.        ]\n",
      "[ 6.75        6.25       15.28571429 10.85714286 31.4         7.66666667\n",
      "  9.         19.125      16.                 nan  5.33333333  6.875\n",
      "  5.71428571  8.          3.          8.25       20.5         8.75\n",
      " 10.5         7.5         7.75       10.25        7.          6.66666667\n",
      " 11.71428571 22.25       11.83333333  6.71428571  5.5       ]\n",
      "\n",
      "[0.18421053 0.175      0.08823529 0.05263158 0.07142857 0.0952381\n",
      " 0.13333333 0.         0.08333333 0.28571429 0.20588235 0.08163265\n",
      " 0.09615385 0.21052632 0.21875    0.15384615 0.19230769 0.17391304\n",
      " 0.0952381  0.15789474 0.125      0.13513514 0.12765957 0.15\n",
      " 0.07317073 0.15625    0.11627907 0.10526316 0.15151515]\n",
      "[0.31578947 0.3        0.14705882 0.15789474 0.17857143 0.21428571\n",
      " 0.31111111 0.         0.22222222 0.39285714 0.32352941 0.18367347\n",
      " 0.23076923 0.36842105 0.40625    0.30769231 0.34615385 0.32608696\n",
      " 0.19047619 0.28947368 0.3        0.24324324 0.27659574 0.3\n",
      " 0.19512195 0.28125    0.23255814 0.18421053 0.39393939]\n",
      "[0.23684211 0.25       0.23529412 0.28947368 0.28571429 0.28571429\n",
      " 0.31111111 0.17391304 0.30555556 0.25       0.23529412 0.28571429\n",
      " 0.28846154 0.23684211 0.28125    0.25641026 0.26923077 0.26086957\n",
      " 0.28571429 0.26315789 0.3        0.27027027 0.27659574 0.3\n",
      " 0.26829268 0.25       0.25581395 0.23684211 0.3030303 ]\n",
      "[0.18421053 0.2        0.35294118 0.34210526 0.32142857 0.28571429\n",
      " 0.2        0.52173913 0.27777778 0.10714286 0.17647059 0.30612245\n",
      " 0.26923077 0.13157895 0.09375    0.20512821 0.15384615 0.17391304\n",
      " 0.30952381 0.21052632 0.2        0.27027027 0.23404255 0.2\n",
      " 0.31707317 0.21875    0.27906977 0.31578947 0.12121212]\n",
      "[0.10526316 0.1        0.20588235 0.18421053 0.17857143 0.14285714\n",
      " 0.06666667 0.34782609 0.13888889 0.         0.08823529 0.16326531\n",
      " 0.13461538 0.07894737 0.03125    0.1025641  0.07692308 0.08695652\n",
      " 0.14285714 0.10526316 0.1        0.10810811 0.10638298 0.075\n",
      " 0.17073171 0.125      0.13953488 0.18421053 0.06060606]\n"
     ]
    }
   ],
   "source": [
    "import itertools\n",
    "\n",
    "MDT_high_negative = np.zeros(29)\n",
    "MDT_moderate_negative = np.zeros(29)\n",
    "MDT_low_uncorrelated = np.zeros(29)\n",
    "MDT_moderate_positive = np.zeros(29)\n",
    "MDT_high_positive = np.zeros(29)\n",
    "\n",
    "PT_high_negative = np.zeros(29)\n",
    "PT_moderate_negative = np.zeros(29)\n",
    "PT_low_uncorrelated = np.zeros(29)\n",
    "PT_moderate_positive = np.zeros(29)\n",
    "PT_high_positive = np.zeros(29)\n",
    "\n",
    "for i in np.arange(29):\n",
    "    high_negative_condition = high_negative.loc[i]\n",
    "    condition1 = high_negative_condition\n",
    "    high_negative_consecutive_count = [sum( 1 for _ in group ) for key, group in itertools.groupby( condition1 ) if key]\n",
    "    MDT1 = np.mean(high_negative_consecutive_count)\n",
    "    MDT_high_negative[i] = MDT1\n",
    "    size_high_negative = len(high_negative_consecutive_count) \n",
    "    \n",
    "    moderate_negative_condition = moderate_negative.loc[i]\n",
    "    condition2 = moderate_negative_condition\n",
    "    moderate_negative_consecutive_count = [sum( 1 for _ in group ) for key, group in itertools.groupby( condition2 ) if key]\n",
    "    MDT2 = np.mean(moderate_negative_consecutive_count)\n",
    "    MDT_moderate_negative[i] = MDT2\n",
    "    size_moderate_negative = len(moderate_negative_consecutive_count) \n",
    "    \n",
    "    low_uncorrelated_condition = low_uncorrelated.loc[i]\n",
    "    condition3 = low_uncorrelated_condition\n",
    "    low_uncorrelated_consecutive_count = [sum( 1 for _ in group ) for key, group in itertools.groupby( condition3 ) if key]\n",
    "    MDT3 = np.mean(low_uncorrelated_consecutive_count)\n",
    "    MDT_low_uncorrelated[i] = MDT3\n",
    "    size_low_uncorrelated = len(low_uncorrelated_consecutive_count) \n",
    "    \n",
    "    moderate_positive_condition = moderate_positive.loc[i]\n",
    "    condition4 = moderate_positive_condition\n",
    "    moderate_positive_consecutive_count = [sum( 1 for _ in group ) for key, group in itertools.groupby( condition4 ) if key]\n",
    "    MDT4 = np.mean(moderate_positive_consecutive_count)\n",
    "    MDT_moderate_positive[i] = MDT4\n",
    "    size_moderate_positive = len(moderate_positive_consecutive_count)\n",
    "    \n",
    "    high_positive_condition = high_positive.loc[i]\n",
    "    condition5 = high_positive_condition\n",
    "    high_positive_consecutive_count = [sum( 1 for _ in group ) for key, group in itertools.groupby( condition5 ) if key]\n",
    "    MDT5 = np.mean(high_positive_consecutive_count)\n",
    "    MDT_high_positive[i] = MDT5\n",
    "    size_high_positive = len(high_positive_consecutive_count)\n",
    "    \n",
    "    \n",
    "    total_changes = (size_high_negative + size_moderate_negative + size_low_uncorrelated + size_moderate_positive + size_high_positive) - 1\n",
    "    \n",
    "    PT_high_negative[i] = (size_high_negative / total_changes)\n",
    "    PT_moderate_negative[i] = (size_moderate_negative / total_changes)\n",
    "    PT_low_uncorrelated[i] = (size_low_uncorrelated / total_changes)\n",
    "    PT_moderate_positive[i] = (size_moderate_positive / total_changes)\n",
    "    PT_high_positive[i] = (size_high_positive / total_changes)\n",
    "    \n",
    "    \n",
    "print(MDT_high_negative)\n",
    "print(MDT_moderate_negative)\n",
    "print(MDT_low_uncorrelated)\n",
    "print(MDT_moderate_positive)\n",
    "print(MDT_high_positive)\n",
    "print()\n",
    "print(PT_high_negative)\n",
    "print(PT_moderate_negative)\n",
    "print(PT_low_uncorrelated)\n",
    "print(PT_moderate_positive)\n",
    "print(PT_high_positive)"
   ]
  },
  {
   "cell_type": "code",
   "execution_count": 9,
   "metadata": {},
   "outputs": [
    {
     "data": {
      "text/html": [
       "<div>\n",
       "<style scoped>\n",
       "    .dataframe tbody tr th:only-of-type {\n",
       "        vertical-align: middle;\n",
       "    }\n",
       "\n",
       "    .dataframe tbody tr th {\n",
       "        vertical-align: top;\n",
       "    }\n",
       "\n",
       "    .dataframe thead th {\n",
       "        text-align: right;\n",
       "    }\n",
       "</style>\n",
       "<table border=\"1\" class=\"dataframe\">\n",
       "  <thead>\n",
       "    <tr style=\"text-align: right;\">\n",
       "      <th></th>\n",
       "      <th>SRS_RAW_TOTAL</th>\n",
       "      <th>SRS_AWARENESS</th>\n",
       "      <th>SRS_COGNITION</th>\n",
       "      <th>SRS_COMMUNICATION</th>\n",
       "      <th>SRS_MOTIVATION</th>\n",
       "      <th>SRS_MANNERISMS</th>\n",
       "      <th>AQ_TOTAL</th>\n",
       "      <th>rest</th>\n",
       "      <th>Time1</th>\n",
       "      <th>Time2</th>\n",
       "      <th>...</th>\n",
       "      <th>MDT_high_negative</th>\n",
       "      <th>MDT_moderate_negative</th>\n",
       "      <th>MDT_low_uncorrelated</th>\n",
       "      <th>MDT_moderate_positive</th>\n",
       "      <th>MDT_high_positive</th>\n",
       "      <th>PT_high_negative</th>\n",
       "      <th>PT_moderate_negative</th>\n",
       "      <th>PT_low_uncorrelated</th>\n",
       "      <th>PT_moderate_positive</th>\n",
       "      <th>PT_high_positive</th>\n",
       "    </tr>\n",
       "  </thead>\n",
       "  <tbody>\n",
       "    <tr>\n",
       "      <td>0</td>\n",
       "      <td>68</td>\n",
       "      <td>10</td>\n",
       "      <td>15</td>\n",
       "      <td>22</td>\n",
       "      <td>15</td>\n",
       "      <td>6</td>\n",
       "      <td>33</td>\n",
       "      <td>-0.372887</td>\n",
       "      <td>0.898793</td>\n",
       "      <td>0.928372</td>\n",
       "      <td>...</td>\n",
       "      <td>13.857143</td>\n",
       "      <td>2.416667</td>\n",
       "      <td>5.777778</td>\n",
       "      <td>2.714286</td>\n",
       "      <td>6.750000</td>\n",
       "      <td>0.184211</td>\n",
       "      <td>0.315789</td>\n",
       "      <td>0.236842</td>\n",
       "      <td>0.184211</td>\n",
       "      <td>0.105263</td>\n",
       "    </tr>\n",
       "    <tr>\n",
       "      <td>1</td>\n",
       "      <td>55</td>\n",
       "      <td>4</td>\n",
       "      <td>11</td>\n",
       "      <td>17</td>\n",
       "      <td>14</td>\n",
       "      <td>9</td>\n",
       "      <td>32</td>\n",
       "      <td>-0.252600</td>\n",
       "      <td>-0.794247</td>\n",
       "      <td>-0.678755</td>\n",
       "      <td>...</td>\n",
       "      <td>13.000000</td>\n",
       "      <td>4.083333</td>\n",
       "      <td>4.400000</td>\n",
       "      <td>1.875000</td>\n",
       "      <td>6.250000</td>\n",
       "      <td>0.175000</td>\n",
       "      <td>0.300000</td>\n",
       "      <td>0.250000</td>\n",
       "      <td>0.200000</td>\n",
       "      <td>0.100000</td>\n",
       "    </tr>\n",
       "    <tr>\n",
       "      <td>2</td>\n",
       "      <td>31</td>\n",
       "      <td>5</td>\n",
       "      <td>7</td>\n",
       "      <td>8</td>\n",
       "      <td>6</td>\n",
       "      <td>5</td>\n",
       "      <td>8</td>\n",
       "      <td>0.318661</td>\n",
       "      <td>-0.543222</td>\n",
       "      <td>-0.598560</td>\n",
       "      <td>...</td>\n",
       "      <td>9.666667</td>\n",
       "      <td>3.200000</td>\n",
       "      <td>5.375000</td>\n",
       "      <td>2.416667</td>\n",
       "      <td>15.285714</td>\n",
       "      <td>0.088235</td>\n",
       "      <td>0.147059</td>\n",
       "      <td>0.235294</td>\n",
       "      <td>0.352941</td>\n",
       "      <td>0.205882</td>\n",
       "    </tr>\n",
       "    <tr>\n",
       "      <td>3</td>\n",
       "      <td>72</td>\n",
       "      <td>9</td>\n",
       "      <td>15</td>\n",
       "      <td>26</td>\n",
       "      <td>10</td>\n",
       "      <td>12</td>\n",
       "      <td>30</td>\n",
       "      <td>0.344258</td>\n",
       "      <td>-0.016524</td>\n",
       "      <td>-0.025186</td>\n",
       "      <td>...</td>\n",
       "      <td>12.500000</td>\n",
       "      <td>2.500000</td>\n",
       "      <td>6.000000</td>\n",
       "      <td>3.230769</td>\n",
       "      <td>10.857143</td>\n",
       "      <td>0.052632</td>\n",
       "      <td>0.157895</td>\n",
       "      <td>0.289474</td>\n",
       "      <td>0.342105</td>\n",
       "      <td>0.184211</td>\n",
       "    </tr>\n",
       "    <tr>\n",
       "      <td>4</td>\n",
       "      <td>88</td>\n",
       "      <td>12</td>\n",
       "      <td>20</td>\n",
       "      <td>30</td>\n",
       "      <td>16</td>\n",
       "      <td>10</td>\n",
       "      <td>31</td>\n",
       "      <td>0.683666</td>\n",
       "      <td>0.743461</td>\n",
       "      <td>0.733636</td>\n",
       "      <td>...</td>\n",
       "      <td>6.000000</td>\n",
       "      <td>2.200000</td>\n",
       "      <td>3.625000</td>\n",
       "      <td>1.666667</td>\n",
       "      <td>31.400000</td>\n",
       "      <td>0.071429</td>\n",
       "      <td>0.178571</td>\n",
       "      <td>0.285714</td>\n",
       "      <td>0.321429</td>\n",
       "      <td>0.178571</td>\n",
       "    </tr>\n",
       "    <tr>\n",
       "      <td>5</td>\n",
       "      <td>77</td>\n",
       "      <td>10</td>\n",
       "      <td>10</td>\n",
       "      <td>24</td>\n",
       "      <td>18</td>\n",
       "      <td>15</td>\n",
       "      <td>36</td>\n",
       "      <td>-0.168494</td>\n",
       "      <td>-0.518876</td>\n",
       "      <td>-0.513324</td>\n",
       "      <td>...</td>\n",
       "      <td>11.250000</td>\n",
       "      <td>3.111111</td>\n",
       "      <td>6.500000</td>\n",
       "      <td>2.250000</td>\n",
       "      <td>7.666667</td>\n",
       "      <td>0.095238</td>\n",
       "      <td>0.214286</td>\n",
       "      <td>0.285714</td>\n",
       "      <td>0.285714</td>\n",
       "      <td>0.142857</td>\n",
       "    </tr>\n",
       "    <tr>\n",
       "      <td>6</td>\n",
       "      <td>119</td>\n",
       "      <td>16</td>\n",
       "      <td>24</td>\n",
       "      <td>36</td>\n",
       "      <td>20</td>\n",
       "      <td>23</td>\n",
       "      <td>40</td>\n",
       "      <td>-0.002792</td>\n",
       "      <td>-0.187023</td>\n",
       "      <td>-0.285734</td>\n",
       "      <td>...</td>\n",
       "      <td>7.166667</td>\n",
       "      <td>4.500000</td>\n",
       "      <td>5.285714</td>\n",
       "      <td>1.888889</td>\n",
       "      <td>9.000000</td>\n",
       "      <td>0.133333</td>\n",
       "      <td>0.311111</td>\n",
       "      <td>0.311111</td>\n",
       "      <td>0.200000</td>\n",
       "      <td>0.066667</td>\n",
       "    </tr>\n",
       "    <tr>\n",
       "      <td>7</td>\n",
       "      <td>68</td>\n",
       "      <td>8</td>\n",
       "      <td>16</td>\n",
       "      <td>19</td>\n",
       "      <td>13</td>\n",
       "      <td>12</td>\n",
       "      <td>23</td>\n",
       "      <td>0.666539</td>\n",
       "      <td>1.057666</td>\n",
       "      <td>0.894216</td>\n",
       "      <td>...</td>\n",
       "      <td>NaN</td>\n",
       "      <td>NaN</td>\n",
       "      <td>8.000000</td>\n",
       "      <td>3.250000</td>\n",
       "      <td>19.125000</td>\n",
       "      <td>0.000000</td>\n",
       "      <td>0.000000</td>\n",
       "      <td>0.173913</td>\n",
       "      <td>0.521739</td>\n",
       "      <td>0.347826</td>\n",
       "    </tr>\n",
       "    <tr>\n",
       "      <td>8</td>\n",
       "      <td>98</td>\n",
       "      <td>13</td>\n",
       "      <td>19</td>\n",
       "      <td>29</td>\n",
       "      <td>21</td>\n",
       "      <td>16</td>\n",
       "      <td>37</td>\n",
       "      <td>-0.102764</td>\n",
       "      <td>0.818552</td>\n",
       "      <td>0.972918</td>\n",
       "      <td>...</td>\n",
       "      <td>10.666667</td>\n",
       "      <td>2.875000</td>\n",
       "      <td>5.909091</td>\n",
       "      <td>2.400000</td>\n",
       "      <td>16.000000</td>\n",
       "      <td>0.083333</td>\n",
       "      <td>0.222222</td>\n",
       "      <td>0.305556</td>\n",
       "      <td>0.277778</td>\n",
       "      <td>0.138889</td>\n",
       "    </tr>\n",
       "    <tr>\n",
       "      <td>9</td>\n",
       "      <td>80</td>\n",
       "      <td>9</td>\n",
       "      <td>14</td>\n",
       "      <td>28</td>\n",
       "      <td>15</td>\n",
       "      <td>14</td>\n",
       "      <td>33</td>\n",
       "      <td>-0.601657</td>\n",
       "      <td>-0.668932</td>\n",
       "      <td>-0.732067</td>\n",
       "      <td>...</td>\n",
       "      <td>16.125000</td>\n",
       "      <td>4.363636</td>\n",
       "      <td>5.285714</td>\n",
       "      <td>3.333333</td>\n",
       "      <td>NaN</td>\n",
       "      <td>0.285714</td>\n",
       "      <td>0.392857</td>\n",
       "      <td>0.250000</td>\n",
       "      <td>0.107143</td>\n",
       "      <td>0.000000</td>\n",
       "    </tr>\n",
       "    <tr>\n",
       "      <td>10</td>\n",
       "      <td>96</td>\n",
       "      <td>9</td>\n",
       "      <td>11</td>\n",
       "      <td>31</td>\n",
       "      <td>25</td>\n",
       "      <td>20</td>\n",
       "      <td>30</td>\n",
       "      <td>-0.477847</td>\n",
       "      <td>-0.928295</td>\n",
       "      <td>-0.992358</td>\n",
       "      <td>...</td>\n",
       "      <td>17.714286</td>\n",
       "      <td>2.454545</td>\n",
       "      <td>5.625000</td>\n",
       "      <td>2.000000</td>\n",
       "      <td>5.333333</td>\n",
       "      <td>0.205882</td>\n",
       "      <td>0.323529</td>\n",
       "      <td>0.235294</td>\n",
       "      <td>0.176471</td>\n",
       "      <td>0.088235</td>\n",
       "    </tr>\n",
       "    <tr>\n",
       "      <td>11</td>\n",
       "      <td>62</td>\n",
       "      <td>10</td>\n",
       "      <td>8</td>\n",
       "      <td>23</td>\n",
       "      <td>11</td>\n",
       "      <td>10</td>\n",
       "      <td>20</td>\n",
       "      <td>0.159025</td>\n",
       "      <td>-0.257874</td>\n",
       "      <td>-0.289442</td>\n",
       "      <td>...</td>\n",
       "      <td>10.250000</td>\n",
       "      <td>2.888889</td>\n",
       "      <td>4.714286</td>\n",
       "      <td>2.400000</td>\n",
       "      <td>6.875000</td>\n",
       "      <td>0.081633</td>\n",
       "      <td>0.183673</td>\n",
       "      <td>0.285714</td>\n",
       "      <td>0.306122</td>\n",
       "      <td>0.163265</td>\n",
       "    </tr>\n",
       "    <tr>\n",
       "      <td>12</td>\n",
       "      <td>83</td>\n",
       "      <td>7</td>\n",
       "      <td>19</td>\n",
       "      <td>28</td>\n",
       "      <td>12</td>\n",
       "      <td>17</td>\n",
       "      <td>33</td>\n",
       "      <td>-0.177972</td>\n",
       "      <td>1.238154</td>\n",
       "      <td>1.082221</td>\n",
       "      <td>...</td>\n",
       "      <td>10.400000</td>\n",
       "      <td>2.916667</td>\n",
       "      <td>4.000000</td>\n",
       "      <td>2.642857</td>\n",
       "      <td>5.714286</td>\n",
       "      <td>0.096154</td>\n",
       "      <td>0.230769</td>\n",
       "      <td>0.288462</td>\n",
       "      <td>0.269231</td>\n",
       "      <td>0.134615</td>\n",
       "    </tr>\n",
       "    <tr>\n",
       "      <td>13</td>\n",
       "      <td>80</td>\n",
       "      <td>8</td>\n",
       "      <td>15</td>\n",
       "      <td>29</td>\n",
       "      <td>14</td>\n",
       "      <td>15</td>\n",
       "      <td>33</td>\n",
       "      <td>-0.584598</td>\n",
       "      <td>-1.308015</td>\n",
       "      <td>-1.281179</td>\n",
       "      <td>...</td>\n",
       "      <td>15.750000</td>\n",
       "      <td>1.928571</td>\n",
       "      <td>3.666667</td>\n",
       "      <td>2.800000</td>\n",
       "      <td>8.000000</td>\n",
       "      <td>0.210526</td>\n",
       "      <td>0.368421</td>\n",
       "      <td>0.236842</td>\n",
       "      <td>0.131579</td>\n",
       "      <td>0.078947</td>\n",
       "    </tr>\n",
       "    <tr>\n",
       "      <td>14</td>\n",
       "      <td>38</td>\n",
       "      <td>3</td>\n",
       "      <td>7</td>\n",
       "      <td>15</td>\n",
       "      <td>6</td>\n",
       "      <td>7</td>\n",
       "      <td>10</td>\n",
       "      <td>-0.380508</td>\n",
       "      <td>-0.598900</td>\n",
       "      <td>-0.727652</td>\n",
       "      <td>...</td>\n",
       "      <td>12.428571</td>\n",
       "      <td>2.615385</td>\n",
       "      <td>10.000000</td>\n",
       "      <td>3.333333</td>\n",
       "      <td>3.000000</td>\n",
       "      <td>0.218750</td>\n",
       "      <td>0.406250</td>\n",
       "      <td>0.281250</td>\n",
       "      <td>0.093750</td>\n",
       "      <td>0.031250</td>\n",
       "    </tr>\n",
       "    <tr>\n",
       "      <td>15</td>\n",
       "      <td>35</td>\n",
       "      <td>8</td>\n",
       "      <td>6</td>\n",
       "      <td>15</td>\n",
       "      <td>4</td>\n",
       "      <td>2</td>\n",
       "      <td>12</td>\n",
       "      <td>-0.112005</td>\n",
       "      <td>1.141210</td>\n",
       "      <td>1.102847</td>\n",
       "      <td>...</td>\n",
       "      <td>10.666667</td>\n",
       "      <td>2.666667</td>\n",
       "      <td>7.500000</td>\n",
       "      <td>2.500000</td>\n",
       "      <td>8.250000</td>\n",
       "      <td>0.153846</td>\n",
       "      <td>0.307692</td>\n",
       "      <td>0.256410</td>\n",
       "      <td>0.205128</td>\n",
       "      <td>0.102564</td>\n",
       "    </tr>\n",
       "    <tr>\n",
       "      <td>16</td>\n",
       "      <td>32</td>\n",
       "      <td>5</td>\n",
       "      <td>7</td>\n",
       "      <td>9</td>\n",
       "      <td>3</td>\n",
       "      <td>8</td>\n",
       "      <td>11</td>\n",
       "      <td>-0.365457</td>\n",
       "      <td>1.438280</td>\n",
       "      <td>1.407723</td>\n",
       "      <td>...</td>\n",
       "      <td>18.200000</td>\n",
       "      <td>2.111111</td>\n",
       "      <td>5.857143</td>\n",
       "      <td>8.000000</td>\n",
       "      <td>20.500000</td>\n",
       "      <td>0.192308</td>\n",
       "      <td>0.346154</td>\n",
       "      <td>0.269231</td>\n",
       "      <td>0.153846</td>\n",
       "      <td>0.076923</td>\n",
       "    </tr>\n",
       "    <tr>\n",
       "      <td>17</td>\n",
       "      <td>54</td>\n",
       "      <td>6</td>\n",
       "      <td>11</td>\n",
       "      <td>15</td>\n",
       "      <td>8</td>\n",
       "      <td>14</td>\n",
       "      <td>15</td>\n",
       "      <td>-0.076948</td>\n",
       "      <td>0.563657</td>\n",
       "      <td>0.378627</td>\n",
       "      <td>...</td>\n",
       "      <td>7.000000</td>\n",
       "      <td>2.533333</td>\n",
       "      <td>5.750000</td>\n",
       "      <td>3.250000</td>\n",
       "      <td>8.750000</td>\n",
       "      <td>0.173913</td>\n",
       "      <td>0.326087</td>\n",
       "      <td>0.260870</td>\n",
       "      <td>0.173913</td>\n",
       "      <td>0.086957</td>\n",
       "    </tr>\n",
       "    <tr>\n",
       "      <td>18</td>\n",
       "      <td>53</td>\n",
       "      <td>8</td>\n",
       "      <td>10</td>\n",
       "      <td>16</td>\n",
       "      <td>8</td>\n",
       "      <td>11</td>\n",
       "      <td>8</td>\n",
       "      <td>0.076518</td>\n",
       "      <td>-1.017665</td>\n",
       "      <td>-1.078125</td>\n",
       "      <td>...</td>\n",
       "      <td>11.750000</td>\n",
       "      <td>2.250000</td>\n",
       "      <td>4.666667</td>\n",
       "      <td>3.076923</td>\n",
       "      <td>10.500000</td>\n",
       "      <td>0.095238</td>\n",
       "      <td>0.190476</td>\n",
       "      <td>0.285714</td>\n",
       "      <td>0.309524</td>\n",
       "      <td>0.142857</td>\n",
       "    </tr>\n",
       "    <tr>\n",
       "      <td>19</td>\n",
       "      <td>37</td>\n",
       "      <td>4</td>\n",
       "      <td>7</td>\n",
       "      <td>13</td>\n",
       "      <td>8</td>\n",
       "      <td>5</td>\n",
       "      <td>15</td>\n",
       "      <td>-0.481993</td>\n",
       "      <td>0.775191</td>\n",
       "      <td>0.841226</td>\n",
       "      <td>...</td>\n",
       "      <td>15.166667</td>\n",
       "      <td>2.090909</td>\n",
       "      <td>6.200000</td>\n",
       "      <td>2.250000</td>\n",
       "      <td>7.500000</td>\n",
       "      <td>0.157895</td>\n",
       "      <td>0.289474</td>\n",
       "      <td>0.263158</td>\n",
       "      <td>0.210526</td>\n",
       "      <td>0.105263</td>\n",
       "    </tr>\n",
       "    <tr>\n",
       "      <td>20</td>\n",
       "      <td>41</td>\n",
       "      <td>8</td>\n",
       "      <td>5</td>\n",
       "      <td>14</td>\n",
       "      <td>6</td>\n",
       "      <td>8</td>\n",
       "      <td>17</td>\n",
       "      <td>-0.139948</td>\n",
       "      <td>-0.012576</td>\n",
       "      <td>-0.136475</td>\n",
       "      <td>...</td>\n",
       "      <td>8.000000</td>\n",
       "      <td>3.333333</td>\n",
       "      <td>6.666667</td>\n",
       "      <td>4.125000</td>\n",
       "      <td>7.750000</td>\n",
       "      <td>0.125000</td>\n",
       "      <td>0.300000</td>\n",
       "      <td>0.300000</td>\n",
       "      <td>0.200000</td>\n",
       "      <td>0.100000</td>\n",
       "    </tr>\n",
       "    <tr>\n",
       "      <td>21</td>\n",
       "      <td>33</td>\n",
       "      <td>10</td>\n",
       "      <td>4</td>\n",
       "      <td>9</td>\n",
       "      <td>5</td>\n",
       "      <td>5</td>\n",
       "      <td>9</td>\n",
       "      <td>-0.235269</td>\n",
       "      <td>-0.992497</td>\n",
       "      <td>-0.876650</td>\n",
       "      <td>...</td>\n",
       "      <td>15.800000</td>\n",
       "      <td>2.888889</td>\n",
       "      <td>5.200000</td>\n",
       "      <td>2.600000</td>\n",
       "      <td>10.250000</td>\n",
       "      <td>0.135135</td>\n",
       "      <td>0.243243</td>\n",
       "      <td>0.270270</td>\n",
       "      <td>0.270270</td>\n",
       "      <td>0.108108</td>\n",
       "    </tr>\n",
       "    <tr>\n",
       "      <td>22</td>\n",
       "      <td>8</td>\n",
       "      <td>1</td>\n",
       "      <td>2</td>\n",
       "      <td>0</td>\n",
       "      <td>5</td>\n",
       "      <td>0</td>\n",
       "      <td>10</td>\n",
       "      <td>0.256707</td>\n",
       "      <td>-0.481999</td>\n",
       "      <td>-0.503546</td>\n",
       "      <td>...</td>\n",
       "      <td>10.666667</td>\n",
       "      <td>1.846154</td>\n",
       "      <td>4.692308</td>\n",
       "      <td>3.636364</td>\n",
       "      <td>7.000000</td>\n",
       "      <td>0.127660</td>\n",
       "      <td>0.276596</td>\n",
       "      <td>0.276596</td>\n",
       "      <td>0.234043</td>\n",
       "      <td>0.106383</td>\n",
       "    </tr>\n",
       "    <tr>\n",
       "      <td>23</td>\n",
       "      <td>36</td>\n",
       "      <td>8</td>\n",
       "      <td>5</td>\n",
       "      <td>9</td>\n",
       "      <td>4</td>\n",
       "      <td>10</td>\n",
       "      <td>7</td>\n",
       "      <td>-0.169611</td>\n",
       "      <td>-1.216089</td>\n",
       "      <td>-1.160944</td>\n",
       "      <td>...</td>\n",
       "      <td>14.000000</td>\n",
       "      <td>2.500000</td>\n",
       "      <td>5.916667</td>\n",
       "      <td>2.375000</td>\n",
       "      <td>6.666667</td>\n",
       "      <td>0.150000</td>\n",
       "      <td>0.300000</td>\n",
       "      <td>0.300000</td>\n",
       "      <td>0.200000</td>\n",
       "      <td>0.075000</td>\n",
       "    </tr>\n",
       "    <tr>\n",
       "      <td>24</td>\n",
       "      <td>58</td>\n",
       "      <td>11</td>\n",
       "      <td>7</td>\n",
       "      <td>21</td>\n",
       "      <td>13</td>\n",
       "      <td>6</td>\n",
       "      <td>11</td>\n",
       "      <td>0.426454</td>\n",
       "      <td>-0.271031</td>\n",
       "      <td>-0.229161</td>\n",
       "      <td>...</td>\n",
       "      <td>8.333333</td>\n",
       "      <td>2.750000</td>\n",
       "      <td>4.727273</td>\n",
       "      <td>3.307692</td>\n",
       "      <td>11.714286</td>\n",
       "      <td>0.073171</td>\n",
       "      <td>0.195122</td>\n",
       "      <td>0.268293</td>\n",
       "      <td>0.317073</td>\n",
       "      <td>0.170732</td>\n",
       "    </tr>\n",
       "    <tr>\n",
       "      <td>25</td>\n",
       "      <td>38</td>\n",
       "      <td>6</td>\n",
       "      <td>1</td>\n",
       "      <td>11</td>\n",
       "      <td>13</td>\n",
       "      <td>7</td>\n",
       "      <td>11</td>\n",
       "      <td>-0.268289</td>\n",
       "      <td>1.454482</td>\n",
       "      <td>1.489890</td>\n",
       "      <td>...</td>\n",
       "      <td>9.600000</td>\n",
       "      <td>3.222222</td>\n",
       "      <td>3.750000</td>\n",
       "      <td>4.000000</td>\n",
       "      <td>22.250000</td>\n",
       "      <td>0.156250</td>\n",
       "      <td>0.281250</td>\n",
       "      <td>0.250000</td>\n",
       "      <td>0.218750</td>\n",
       "      <td>0.125000</td>\n",
       "    </tr>\n",
       "    <tr>\n",
       "      <td>26</td>\n",
       "      <td>103</td>\n",
       "      <td>11</td>\n",
       "      <td>22</td>\n",
       "      <td>34</td>\n",
       "      <td>20</td>\n",
       "      <td>16</td>\n",
       "      <td>32</td>\n",
       "      <td>0.151517</td>\n",
       "      <td>-0.267463</td>\n",
       "      <td>-0.460832</td>\n",
       "      <td>...</td>\n",
       "      <td>8.600000</td>\n",
       "      <td>1.500000</td>\n",
       "      <td>4.636364</td>\n",
       "      <td>3.666667</td>\n",
       "      <td>11.833333</td>\n",
       "      <td>0.116279</td>\n",
       "      <td>0.232558</td>\n",
       "      <td>0.255814</td>\n",
       "      <td>0.279070</td>\n",
       "      <td>0.139535</td>\n",
       "    </tr>\n",
       "    <tr>\n",
       "      <td>27</td>\n",
       "      <td>65</td>\n",
       "      <td>8</td>\n",
       "      <td>9</td>\n",
       "      <td>27</td>\n",
       "      <td>13</td>\n",
       "      <td>8</td>\n",
       "      <td>17</td>\n",
       "      <td>-0.130123</td>\n",
       "      <td>0.023402</td>\n",
       "      <td>0.047899</td>\n",
       "      <td>...</td>\n",
       "      <td>15.000000</td>\n",
       "      <td>3.285714</td>\n",
       "      <td>5.333333</td>\n",
       "      <td>3.833333</td>\n",
       "      <td>6.714286</td>\n",
       "      <td>0.105263</td>\n",
       "      <td>0.184211</td>\n",
       "      <td>0.236842</td>\n",
       "      <td>0.315789</td>\n",
       "      <td>0.184211</td>\n",
       "    </tr>\n",
       "    <tr>\n",
       "      <td>28</td>\n",
       "      <td>23</td>\n",
       "      <td>6</td>\n",
       "      <td>6</td>\n",
       "      <td>8</td>\n",
       "      <td>3</td>\n",
       "      <td>0</td>\n",
       "      <td>7</td>\n",
       "      <td>-0.569526</td>\n",
       "      <td>0.686004</td>\n",
       "      <td>0.451144</td>\n",
       "      <td>...</td>\n",
       "      <td>17.200000</td>\n",
       "      <td>2.230769</td>\n",
       "      <td>8.600000</td>\n",
       "      <td>3.000000</td>\n",
       "      <td>5.500000</td>\n",
       "      <td>0.151515</td>\n",
       "      <td>0.393939</td>\n",
       "      <td>0.303030</td>\n",
       "      <td>0.121212</td>\n",
       "      <td>0.060606</td>\n",
       "    </tr>\n",
       "  </tbody>\n",
       "</table>\n",
       "<p>29 rows × 249 columns</p>\n",
       "</div>"
      ],
      "text/plain": [
       "    SRS_RAW_TOTAL  SRS_AWARENESS  SRS_COGNITION  SRS_COMMUNICATION  \\\n",
       "0              68             10             15                 22   \n",
       "1              55              4             11                 17   \n",
       "2              31              5              7                  8   \n",
       "3              72              9             15                 26   \n",
       "4              88             12             20                 30   \n",
       "5              77             10             10                 24   \n",
       "6             119             16             24                 36   \n",
       "7              68              8             16                 19   \n",
       "8              98             13             19                 29   \n",
       "9              80              9             14                 28   \n",
       "10             96              9             11                 31   \n",
       "11             62             10              8                 23   \n",
       "12             83              7             19                 28   \n",
       "13             80              8             15                 29   \n",
       "14             38              3              7                 15   \n",
       "15             35              8              6                 15   \n",
       "16             32              5              7                  9   \n",
       "17             54              6             11                 15   \n",
       "18             53              8             10                 16   \n",
       "19             37              4              7                 13   \n",
       "20             41              8              5                 14   \n",
       "21             33             10              4                  9   \n",
       "22              8              1              2                  0   \n",
       "23             36              8              5                  9   \n",
       "24             58             11              7                 21   \n",
       "25             38              6              1                 11   \n",
       "26            103             11             22                 34   \n",
       "27             65              8              9                 27   \n",
       "28             23              6              6                  8   \n",
       "\n",
       "    SRS_MOTIVATION  SRS_MANNERISMS  AQ_TOTAL      rest     Time1     Time2  \\\n",
       "0               15               6        33 -0.372887  0.898793  0.928372   \n",
       "1               14               9        32 -0.252600 -0.794247 -0.678755   \n",
       "2                6               5         8  0.318661 -0.543222 -0.598560   \n",
       "3               10              12        30  0.344258 -0.016524 -0.025186   \n",
       "4               16              10        31  0.683666  0.743461  0.733636   \n",
       "5               18              15        36 -0.168494 -0.518876 -0.513324   \n",
       "6               20              23        40 -0.002792 -0.187023 -0.285734   \n",
       "7               13              12        23  0.666539  1.057666  0.894216   \n",
       "8               21              16        37 -0.102764  0.818552  0.972918   \n",
       "9               15              14        33 -0.601657 -0.668932 -0.732067   \n",
       "10              25              20        30 -0.477847 -0.928295 -0.992358   \n",
       "11              11              10        20  0.159025 -0.257874 -0.289442   \n",
       "12              12              17        33 -0.177972  1.238154  1.082221   \n",
       "13              14              15        33 -0.584598 -1.308015 -1.281179   \n",
       "14               6               7        10 -0.380508 -0.598900 -0.727652   \n",
       "15               4               2        12 -0.112005  1.141210  1.102847   \n",
       "16               3               8        11 -0.365457  1.438280  1.407723   \n",
       "17               8              14        15 -0.076948  0.563657  0.378627   \n",
       "18               8              11         8  0.076518 -1.017665 -1.078125   \n",
       "19               8               5        15 -0.481993  0.775191  0.841226   \n",
       "20               6               8        17 -0.139948 -0.012576 -0.136475   \n",
       "21               5               5         9 -0.235269 -0.992497 -0.876650   \n",
       "22               5               0        10  0.256707 -0.481999 -0.503546   \n",
       "23               4              10         7 -0.169611 -1.216089 -1.160944   \n",
       "24              13               6        11  0.426454 -0.271031 -0.229161   \n",
       "25              13               7        11 -0.268289  1.454482  1.489890   \n",
       "26              20              16        32  0.151517 -0.267463 -0.460832   \n",
       "27              13               8        17 -0.130123  0.023402  0.047899   \n",
       "28               3               0         7 -0.569526  0.686004  0.451144   \n",
       "\n",
       "    ...  MDT_high_negative  MDT_moderate_negative  MDT_low_uncorrelated  \\\n",
       "0   ...          13.857143               2.416667              5.777778   \n",
       "1   ...          13.000000               4.083333              4.400000   \n",
       "2   ...           9.666667               3.200000              5.375000   \n",
       "3   ...          12.500000               2.500000              6.000000   \n",
       "4   ...           6.000000               2.200000              3.625000   \n",
       "5   ...          11.250000               3.111111              6.500000   \n",
       "6   ...           7.166667               4.500000              5.285714   \n",
       "7   ...                NaN                    NaN              8.000000   \n",
       "8   ...          10.666667               2.875000              5.909091   \n",
       "9   ...          16.125000               4.363636              5.285714   \n",
       "10  ...          17.714286               2.454545              5.625000   \n",
       "11  ...          10.250000               2.888889              4.714286   \n",
       "12  ...          10.400000               2.916667              4.000000   \n",
       "13  ...          15.750000               1.928571              3.666667   \n",
       "14  ...          12.428571               2.615385             10.000000   \n",
       "15  ...          10.666667               2.666667              7.500000   \n",
       "16  ...          18.200000               2.111111              5.857143   \n",
       "17  ...           7.000000               2.533333              5.750000   \n",
       "18  ...          11.750000               2.250000              4.666667   \n",
       "19  ...          15.166667               2.090909              6.200000   \n",
       "20  ...           8.000000               3.333333              6.666667   \n",
       "21  ...          15.800000               2.888889              5.200000   \n",
       "22  ...          10.666667               1.846154              4.692308   \n",
       "23  ...          14.000000               2.500000              5.916667   \n",
       "24  ...           8.333333               2.750000              4.727273   \n",
       "25  ...           9.600000               3.222222              3.750000   \n",
       "26  ...           8.600000               1.500000              4.636364   \n",
       "27  ...          15.000000               3.285714              5.333333   \n",
       "28  ...          17.200000               2.230769              8.600000   \n",
       "\n",
       "    MDT_moderate_positive  MDT_high_positive  PT_high_negative  \\\n",
       "0                2.714286           6.750000          0.184211   \n",
       "1                1.875000           6.250000          0.175000   \n",
       "2                2.416667          15.285714          0.088235   \n",
       "3                3.230769          10.857143          0.052632   \n",
       "4                1.666667          31.400000          0.071429   \n",
       "5                2.250000           7.666667          0.095238   \n",
       "6                1.888889           9.000000          0.133333   \n",
       "7                3.250000          19.125000          0.000000   \n",
       "8                2.400000          16.000000          0.083333   \n",
       "9                3.333333                NaN          0.285714   \n",
       "10               2.000000           5.333333          0.205882   \n",
       "11               2.400000           6.875000          0.081633   \n",
       "12               2.642857           5.714286          0.096154   \n",
       "13               2.800000           8.000000          0.210526   \n",
       "14               3.333333           3.000000          0.218750   \n",
       "15               2.500000           8.250000          0.153846   \n",
       "16               8.000000          20.500000          0.192308   \n",
       "17               3.250000           8.750000          0.173913   \n",
       "18               3.076923          10.500000          0.095238   \n",
       "19               2.250000           7.500000          0.157895   \n",
       "20               4.125000           7.750000          0.125000   \n",
       "21               2.600000          10.250000          0.135135   \n",
       "22               3.636364           7.000000          0.127660   \n",
       "23               2.375000           6.666667          0.150000   \n",
       "24               3.307692          11.714286          0.073171   \n",
       "25               4.000000          22.250000          0.156250   \n",
       "26               3.666667          11.833333          0.116279   \n",
       "27               3.833333           6.714286          0.105263   \n",
       "28               3.000000           5.500000          0.151515   \n",
       "\n",
       "    PT_moderate_negative  PT_low_uncorrelated  PT_moderate_positive  \\\n",
       "0               0.315789             0.236842              0.184211   \n",
       "1               0.300000             0.250000              0.200000   \n",
       "2               0.147059             0.235294              0.352941   \n",
       "3               0.157895             0.289474              0.342105   \n",
       "4               0.178571             0.285714              0.321429   \n",
       "5               0.214286             0.285714              0.285714   \n",
       "6               0.311111             0.311111              0.200000   \n",
       "7               0.000000             0.173913              0.521739   \n",
       "8               0.222222             0.305556              0.277778   \n",
       "9               0.392857             0.250000              0.107143   \n",
       "10              0.323529             0.235294              0.176471   \n",
       "11              0.183673             0.285714              0.306122   \n",
       "12              0.230769             0.288462              0.269231   \n",
       "13              0.368421             0.236842              0.131579   \n",
       "14              0.406250             0.281250              0.093750   \n",
       "15              0.307692             0.256410              0.205128   \n",
       "16              0.346154             0.269231              0.153846   \n",
       "17              0.326087             0.260870              0.173913   \n",
       "18              0.190476             0.285714              0.309524   \n",
       "19              0.289474             0.263158              0.210526   \n",
       "20              0.300000             0.300000              0.200000   \n",
       "21              0.243243             0.270270              0.270270   \n",
       "22              0.276596             0.276596              0.234043   \n",
       "23              0.300000             0.300000              0.200000   \n",
       "24              0.195122             0.268293              0.317073   \n",
       "25              0.281250             0.250000              0.218750   \n",
       "26              0.232558             0.255814              0.279070   \n",
       "27              0.184211             0.236842              0.315789   \n",
       "28              0.393939             0.303030              0.121212   \n",
       "\n",
       "    PT_high_positive  \n",
       "0           0.105263  \n",
       "1           0.100000  \n",
       "2           0.205882  \n",
       "3           0.184211  \n",
       "4           0.178571  \n",
       "5           0.142857  \n",
       "6           0.066667  \n",
       "7           0.347826  \n",
       "8           0.138889  \n",
       "9           0.000000  \n",
       "10          0.088235  \n",
       "11          0.163265  \n",
       "12          0.134615  \n",
       "13          0.078947  \n",
       "14          0.031250  \n",
       "15          0.102564  \n",
       "16          0.076923  \n",
       "17          0.086957  \n",
       "18          0.142857  \n",
       "19          0.105263  \n",
       "20          0.100000  \n",
       "21          0.108108  \n",
       "22          0.106383  \n",
       "23          0.075000  \n",
       "24          0.170732  \n",
       "25          0.125000  \n",
       "26          0.139535  \n",
       "27          0.184211  \n",
       "28          0.060606  \n",
       "\n",
       "[29 rows x 249 columns]"
      ]
     },
     "execution_count": 9,
     "metadata": {},
     "output_type": "execute_result"
    }
   ],
   "source": [
    "#Creates new columns in the project data frame with the new indices that we have obtained for each state\n",
    "\n",
    "project['MDT_high_negative'] = MDT_high_negative\n",
    "project['MDT_moderate_negative'] = MDT_moderate_negative\n",
    "project['MDT_low_uncorrelated'] = MDT_low_uncorrelated\n",
    "project['MDT_moderate_positive'] = MDT_moderate_positive\n",
    "project['MDT_high_positive'] = MDT_high_positive\n",
    "\n",
    "project['PT_high_negative'] = PT_high_negative\n",
    "project['PT_moderate_negative'] = PT_moderate_negative\n",
    "project['PT_low_uncorrelated'] = PT_low_uncorrelated\n",
    "project['PT_moderate_positive'] = PT_moderate_positive\n",
    "project['PT_high_positive'] = PT_high_positive\n",
    "\n",
    "project"
   ]
  },
  {
   "cell_type": "code",
   "execution_count": 10,
   "metadata": {},
   "outputs": [
    {
     "name": "stdout",
     "output_type": "stream",
     "text": [
      "ttest MDT high_negative connectivity: Ttest_indResult(statistic=0.7488225950723808, pvalue=0.46043836054598497)\n",
      "ttest MDT moderate_negative connectivity: Ttest_indResult(statistic=-0.9113606384102115, pvalue=0.37017084386171817)\n",
      "ttest MDT low_uncorrelated connectivity: Ttest_indResult(statistic=1.2397687271079711, pvalue=0.22572857725273357)\n",
      "ttest MDT moderate_positive connectivity: Ttest_indResult(statistic=2.6554001772909914, pvalue=0.013126007248723095)\n",
      "ttest MDT high_positive connectivity: Ttest_indResult(statistic=-0.2908892940447804, pvalue=0.773358835161563)\n",
      "\n",
      "ttest PT high_negative connectivity: Ttest_indResult(statistic=0.7315766301444665, pvalue=0.47072941214553277)\n",
      "ttest PT moderate_negative connectivity: Ttest_indResult(statistic=1.4095306166160901, pvalue=0.17009329619162672)\n",
      "ttest PT low_uncorrelated connectivity: Ttest_indResult(statistic=0.8848386315064402, pvalue=0.38405598906052096)\n",
      "ttest PT moderate_positive connectivity: Ttest_indResult(statistic=-1.2740183250279022, pvalue=0.21351460372260284)\n",
      "ttest PT high_positive connectivity: Ttest_indResult(statistic=-1.2952688819279954, pvalue=0.2061934727153557)\n"
     ]
    },
    {
     "name": "stderr",
     "output_type": "stream",
     "text": [
      "C:\\Users\\Laura\\Anaconda3\\lib\\site-packages\\pandas\\core\\frame.py:4263: SettingWithCopyWarning:\n",
      "\n",
      "\n",
      "A value is trying to be set on a copy of a slice from a DataFrame\n",
      "\n",
      "See the caveats in the documentation: http://pandas.pydata.org/pandas-docs/stable/user_guide/indexing.html#returning-a-view-versus-a-copy\n",
      "\n"
     ]
    }
   ],
   "source": [
    "#Redefine td and asd so they have the new columns added to the 'project' data frame. \n",
    "asd = project.loc[:13]\n",
    "td = project.loc[14:] \n",
    "asd.replace(np.nan, 0, inplace = True)\n",
    "td.replace(np.nan, 0, inplace = True)\n",
    "\n",
    "#T-test between-groups to test for significant differences in the indices for each state.\n",
    "ttest_MDT_high_negative = stats.ttest_ind(td['MDT_high_negative'],asd['MDT_high_negative'])\n",
    "ttest_MDT_moderate_negative = stats.ttest_ind(td['MDT_moderate_negative'],asd['MDT_moderate_negative'])\n",
    "ttest_MDT_low_uncorrelated = stats.ttest_ind(td['MDT_low_uncorrelated'],asd['MDT_low_uncorrelated'])\n",
    "ttest_MDT_moderate_positive = stats.ttest_ind(td['MDT_moderate_positive'],asd['MDT_moderate_positive'])\n",
    "ttest_MDT_high_positive = stats.ttest_ind(td['MDT_high_positive'],asd['MDT_high_positive'])\n",
    "\n",
    "ttest_PT_high_negative = stats.ttest_ind(td['PT_high_negative'],asd['PT_high_negative'])\n",
    "ttest_PT_moderate_negative = stats.ttest_ind(td['PT_moderate_negative'],asd['PT_moderate_negative'])\n",
    "ttest_PT_low_uncorrelated = stats.ttest_ind(td['PT_low_uncorrelated'],asd['PT_low_uncorrelated'])\n",
    "ttest_PT_moderate_positive = stats.ttest_ind(td['PT_moderate_positive'],asd['PT_moderate_positive'])\n",
    "ttest_PT_high_positive = stats.ttest_ind(td['PT_high_positive'],asd['PT_high_positive'])\n",
    "\n",
    "print('ttest MDT high_negative connectivity:', ttest_MDT_high_negative)\n",
    "print('ttest MDT moderate_negative connectivity:', ttest_MDT_moderate_negative)\n",
    "print('ttest MDT low_uncorrelated connectivity:', ttest_MDT_low_uncorrelated)\n",
    "print('ttest MDT moderate_positive connectivity:', ttest_MDT_moderate_positive)\n",
    "print('ttest MDT high_positive connectivity:', ttest_MDT_high_positive)\n",
    "print()   \n",
    "print('ttest PT high_negative connectivity:', ttest_PT_high_negative)\n",
    "print('ttest PT moderate_negative connectivity:', ttest_PT_moderate_negative)\n",
    "print('ttest PT low_uncorrelated connectivity:', ttest_PT_low_uncorrelated)\n",
    "print('ttest PT moderate_positive connectivity:', ttest_PT_moderate_positive)\n",
    "print('ttest PT high_positive connectivity:', ttest_PT_high_positive)"
   ]
  },
  {
   "cell_type": "code",
   "execution_count": null,
   "metadata": {},
   "outputs": [],
   "source": [
    "#Standard deviation (SD) for each group to add error bars in the next plot. \n",
    "asd_MDT_high_negative_std = np.std(asd['MDT_high_negative'])\n",
    "asd_MDT_moderate_negative_std = np.std(asd['MDT_moderate_negative'])\n",
    "asd_MDT_low_uncorrelated_std = np.std(asd['MDT_low_uncorrelated'])\n",
    "asd_MDT_moderate_positive_std = np.std(asd['MDT_moderate_positive'])\n",
    "asd_MDT_high_positive_std = np.std(asd['MDT_high_positive'])\n",
    "\n",
    "asd_std_MDT = np.array([asd_MDT_high_negative_std, asd_MDT_moderate_negative_std, asd_MDT_low_uncorrelated_std, asd_MDT_moderate_positive_std, asd_MDT_high_positive_std])\n",
    "print(asd_std_MDT)\n",
    "\n",
    "td_prop_high_negative_std = np.std(td['MDT_high_negative'])\n",
    "td_prop_moderate_negative_std = np.std(td['MDT_moderate_negative'])\n",
    "td_prop_low_uncorrelated_std = np.std(td['MDT_low_uncorrelated'])\n",
    "td_prop_moderate_positive_std = np.std(td['MDT_moderate_positive'])\n",
    "td_prop_high_positive_std = np.std(td['MDT_high_positive'])\n",
    "\n",
    "td_std_MDT = np.array([td_MDT_high_negative_std, td_MDT_moderate_negative_std, td_MDT_low_uncorrelated_std, td_MDT_moderate_positive_std, td_MDT_high_positive_std])\n",
    "#asd_std = asd_std/2\n",
    "print(td_std_MDT)"
   ]
  },
  {
   "cell_type": "code",
   "execution_count": 11,
   "metadata": {},
   "outputs": [
    {
     "data": {
      "application/vnd.plotly.v1+json": {
       "config": {
        "plotlyServerURL": "https://plot.ly"
       },
       "data": [
        {
         "name": "ASD Group",
         "type": "bar",
         "x": [
          "high negative",
          "moderate negative",
          "low uncorrelated",
          "moderate positive",
          "high positive"
         ],
         "y": [
          11.024744897959184,
          2.8170299938157077,
          5.297446402803545,
          2.49060483167626,
          10.589795918367347
         ]
        },
        {
         "name": "TD Group",
         "type": "bar",
         "x": [
          "high negative",
          "moderate negative",
          "low uncorrelated",
          "moderate positive",
          "high positive"
         ],
         "y": [
          12.160793650793648,
          2.5216324416324416,
          5.966428016428016,
          3.5302874902874906,
          9.87857142857143
         ]
        }
       ],
       "layout": {
        "barmode": "group",
        "template": {
         "data": {
          "bar": [
           {
            "error_x": {
             "color": "#2a3f5f"
            },
            "error_y": {
             "color": "#2a3f5f"
            },
            "marker": {
             "line": {
              "color": "#E5ECF6",
              "width": 0.5
             }
            },
            "type": "bar"
           }
          ],
          "barpolar": [
           {
            "marker": {
             "line": {
              "color": "#E5ECF6",
              "width": 0.5
             }
            },
            "type": "barpolar"
           }
          ],
          "carpet": [
           {
            "aaxis": {
             "endlinecolor": "#2a3f5f",
             "gridcolor": "white",
             "linecolor": "white",
             "minorgridcolor": "white",
             "startlinecolor": "#2a3f5f"
            },
            "baxis": {
             "endlinecolor": "#2a3f5f",
             "gridcolor": "white",
             "linecolor": "white",
             "minorgridcolor": "white",
             "startlinecolor": "#2a3f5f"
            },
            "type": "carpet"
           }
          ],
          "choropleth": [
           {
            "colorbar": {
             "outlinewidth": 0,
             "ticks": ""
            },
            "type": "choropleth"
           }
          ],
          "contour": [
           {
            "colorbar": {
             "outlinewidth": 0,
             "ticks": ""
            },
            "colorscale": [
             [
              0,
              "#0d0887"
             ],
             [
              0.1111111111111111,
              "#46039f"
             ],
             [
              0.2222222222222222,
              "#7201a8"
             ],
             [
              0.3333333333333333,
              "#9c179e"
             ],
             [
              0.4444444444444444,
              "#bd3786"
             ],
             [
              0.5555555555555556,
              "#d8576b"
             ],
             [
              0.6666666666666666,
              "#ed7953"
             ],
             [
              0.7777777777777778,
              "#fb9f3a"
             ],
             [
              0.8888888888888888,
              "#fdca26"
             ],
             [
              1,
              "#f0f921"
             ]
            ],
            "type": "contour"
           }
          ],
          "contourcarpet": [
           {
            "colorbar": {
             "outlinewidth": 0,
             "ticks": ""
            },
            "type": "contourcarpet"
           }
          ],
          "heatmap": [
           {
            "colorbar": {
             "outlinewidth": 0,
             "ticks": ""
            },
            "colorscale": [
             [
              0,
              "#0d0887"
             ],
             [
              0.1111111111111111,
              "#46039f"
             ],
             [
              0.2222222222222222,
              "#7201a8"
             ],
             [
              0.3333333333333333,
              "#9c179e"
             ],
             [
              0.4444444444444444,
              "#bd3786"
             ],
             [
              0.5555555555555556,
              "#d8576b"
             ],
             [
              0.6666666666666666,
              "#ed7953"
             ],
             [
              0.7777777777777778,
              "#fb9f3a"
             ],
             [
              0.8888888888888888,
              "#fdca26"
             ],
             [
              1,
              "#f0f921"
             ]
            ],
            "type": "heatmap"
           }
          ],
          "heatmapgl": [
           {
            "colorbar": {
             "outlinewidth": 0,
             "ticks": ""
            },
            "colorscale": [
             [
              0,
              "#0d0887"
             ],
             [
              0.1111111111111111,
              "#46039f"
             ],
             [
              0.2222222222222222,
              "#7201a8"
             ],
             [
              0.3333333333333333,
              "#9c179e"
             ],
             [
              0.4444444444444444,
              "#bd3786"
             ],
             [
              0.5555555555555556,
              "#d8576b"
             ],
             [
              0.6666666666666666,
              "#ed7953"
             ],
             [
              0.7777777777777778,
              "#fb9f3a"
             ],
             [
              0.8888888888888888,
              "#fdca26"
             ],
             [
              1,
              "#f0f921"
             ]
            ],
            "type": "heatmapgl"
           }
          ],
          "histogram": [
           {
            "marker": {
             "colorbar": {
              "outlinewidth": 0,
              "ticks": ""
             }
            },
            "type": "histogram"
           }
          ],
          "histogram2d": [
           {
            "colorbar": {
             "outlinewidth": 0,
             "ticks": ""
            },
            "colorscale": [
             [
              0,
              "#0d0887"
             ],
             [
              0.1111111111111111,
              "#46039f"
             ],
             [
              0.2222222222222222,
              "#7201a8"
             ],
             [
              0.3333333333333333,
              "#9c179e"
             ],
             [
              0.4444444444444444,
              "#bd3786"
             ],
             [
              0.5555555555555556,
              "#d8576b"
             ],
             [
              0.6666666666666666,
              "#ed7953"
             ],
             [
              0.7777777777777778,
              "#fb9f3a"
             ],
             [
              0.8888888888888888,
              "#fdca26"
             ],
             [
              1,
              "#f0f921"
             ]
            ],
            "type": "histogram2d"
           }
          ],
          "histogram2dcontour": [
           {
            "colorbar": {
             "outlinewidth": 0,
             "ticks": ""
            },
            "colorscale": [
             [
              0,
              "#0d0887"
             ],
             [
              0.1111111111111111,
              "#46039f"
             ],
             [
              0.2222222222222222,
              "#7201a8"
             ],
             [
              0.3333333333333333,
              "#9c179e"
             ],
             [
              0.4444444444444444,
              "#bd3786"
             ],
             [
              0.5555555555555556,
              "#d8576b"
             ],
             [
              0.6666666666666666,
              "#ed7953"
             ],
             [
              0.7777777777777778,
              "#fb9f3a"
             ],
             [
              0.8888888888888888,
              "#fdca26"
             ],
             [
              1,
              "#f0f921"
             ]
            ],
            "type": "histogram2dcontour"
           }
          ],
          "mesh3d": [
           {
            "colorbar": {
             "outlinewidth": 0,
             "ticks": ""
            },
            "type": "mesh3d"
           }
          ],
          "parcoords": [
           {
            "line": {
             "colorbar": {
              "outlinewidth": 0,
              "ticks": ""
             }
            },
            "type": "parcoords"
           }
          ],
          "pie": [
           {
            "automargin": true,
            "type": "pie"
           }
          ],
          "scatter": [
           {
            "marker": {
             "colorbar": {
              "outlinewidth": 0,
              "ticks": ""
             }
            },
            "type": "scatter"
           }
          ],
          "scatter3d": [
           {
            "line": {
             "colorbar": {
              "outlinewidth": 0,
              "ticks": ""
             }
            },
            "marker": {
             "colorbar": {
              "outlinewidth": 0,
              "ticks": ""
             }
            },
            "type": "scatter3d"
           }
          ],
          "scattercarpet": [
           {
            "marker": {
             "colorbar": {
              "outlinewidth": 0,
              "ticks": ""
             }
            },
            "type": "scattercarpet"
           }
          ],
          "scattergeo": [
           {
            "marker": {
             "colorbar": {
              "outlinewidth": 0,
              "ticks": ""
             }
            },
            "type": "scattergeo"
           }
          ],
          "scattergl": [
           {
            "marker": {
             "colorbar": {
              "outlinewidth": 0,
              "ticks": ""
             }
            },
            "type": "scattergl"
           }
          ],
          "scattermapbox": [
           {
            "marker": {
             "colorbar": {
              "outlinewidth": 0,
              "ticks": ""
             }
            },
            "type": "scattermapbox"
           }
          ],
          "scatterpolar": [
           {
            "marker": {
             "colorbar": {
              "outlinewidth": 0,
              "ticks": ""
             }
            },
            "type": "scatterpolar"
           }
          ],
          "scatterpolargl": [
           {
            "marker": {
             "colorbar": {
              "outlinewidth": 0,
              "ticks": ""
             }
            },
            "type": "scatterpolargl"
           }
          ],
          "scatterternary": [
           {
            "marker": {
             "colorbar": {
              "outlinewidth": 0,
              "ticks": ""
             }
            },
            "type": "scatterternary"
           }
          ],
          "surface": [
           {
            "colorbar": {
             "outlinewidth": 0,
             "ticks": ""
            },
            "colorscale": [
             [
              0,
              "#0d0887"
             ],
             [
              0.1111111111111111,
              "#46039f"
             ],
             [
              0.2222222222222222,
              "#7201a8"
             ],
             [
              0.3333333333333333,
              "#9c179e"
             ],
             [
              0.4444444444444444,
              "#bd3786"
             ],
             [
              0.5555555555555556,
              "#d8576b"
             ],
             [
              0.6666666666666666,
              "#ed7953"
             ],
             [
              0.7777777777777778,
              "#fb9f3a"
             ],
             [
              0.8888888888888888,
              "#fdca26"
             ],
             [
              1,
              "#f0f921"
             ]
            ],
            "type": "surface"
           }
          ],
          "table": [
           {
            "cells": {
             "fill": {
              "color": "#EBF0F8"
             },
             "line": {
              "color": "white"
             }
            },
            "header": {
             "fill": {
              "color": "#C8D4E3"
             },
             "line": {
              "color": "white"
             }
            },
            "type": "table"
           }
          ]
         },
         "layout": {
          "annotationdefaults": {
           "arrowcolor": "#2a3f5f",
           "arrowhead": 0,
           "arrowwidth": 1
          },
          "coloraxis": {
           "colorbar": {
            "outlinewidth": 0,
            "ticks": ""
           }
          },
          "colorscale": {
           "diverging": [
            [
             0,
             "#8e0152"
            ],
            [
             0.1,
             "#c51b7d"
            ],
            [
             0.2,
             "#de77ae"
            ],
            [
             0.3,
             "#f1b6da"
            ],
            [
             0.4,
             "#fde0ef"
            ],
            [
             0.5,
             "#f7f7f7"
            ],
            [
             0.6,
             "#e6f5d0"
            ],
            [
             0.7,
             "#b8e186"
            ],
            [
             0.8,
             "#7fbc41"
            ],
            [
             0.9,
             "#4d9221"
            ],
            [
             1,
             "#276419"
            ]
           ],
           "sequential": [
            [
             0,
             "#0d0887"
            ],
            [
             0.1111111111111111,
             "#46039f"
            ],
            [
             0.2222222222222222,
             "#7201a8"
            ],
            [
             0.3333333333333333,
             "#9c179e"
            ],
            [
             0.4444444444444444,
             "#bd3786"
            ],
            [
             0.5555555555555556,
             "#d8576b"
            ],
            [
             0.6666666666666666,
             "#ed7953"
            ],
            [
             0.7777777777777778,
             "#fb9f3a"
            ],
            [
             0.8888888888888888,
             "#fdca26"
            ],
            [
             1,
             "#f0f921"
            ]
           ],
           "sequentialminus": [
            [
             0,
             "#0d0887"
            ],
            [
             0.1111111111111111,
             "#46039f"
            ],
            [
             0.2222222222222222,
             "#7201a8"
            ],
            [
             0.3333333333333333,
             "#9c179e"
            ],
            [
             0.4444444444444444,
             "#bd3786"
            ],
            [
             0.5555555555555556,
             "#d8576b"
            ],
            [
             0.6666666666666666,
             "#ed7953"
            ],
            [
             0.7777777777777778,
             "#fb9f3a"
            ],
            [
             0.8888888888888888,
             "#fdca26"
            ],
            [
             1,
             "#f0f921"
            ]
           ]
          },
          "colorway": [
           "#636efa",
           "#EF553B",
           "#00cc96",
           "#ab63fa",
           "#FFA15A",
           "#19d3f3",
           "#FF6692",
           "#B6E880",
           "#FF97FF",
           "#FECB52"
          ],
          "font": {
           "color": "#2a3f5f"
          },
          "geo": {
           "bgcolor": "white",
           "lakecolor": "white",
           "landcolor": "#E5ECF6",
           "showlakes": true,
           "showland": true,
           "subunitcolor": "white"
          },
          "hoverlabel": {
           "align": "left"
          },
          "hovermode": "closest",
          "mapbox": {
           "style": "light"
          },
          "paper_bgcolor": "white",
          "plot_bgcolor": "#E5ECF6",
          "polar": {
           "angularaxis": {
            "gridcolor": "white",
            "linecolor": "white",
            "ticks": ""
           },
           "bgcolor": "#E5ECF6",
           "radialaxis": {
            "gridcolor": "white",
            "linecolor": "white",
            "ticks": ""
           }
          },
          "scene": {
           "xaxis": {
            "backgroundcolor": "#E5ECF6",
            "gridcolor": "white",
            "gridwidth": 2,
            "linecolor": "white",
            "showbackground": true,
            "ticks": "",
            "zerolinecolor": "white"
           },
           "yaxis": {
            "backgroundcolor": "#E5ECF6",
            "gridcolor": "white",
            "gridwidth": 2,
            "linecolor": "white",
            "showbackground": true,
            "ticks": "",
            "zerolinecolor": "white"
           },
           "zaxis": {
            "backgroundcolor": "#E5ECF6",
            "gridcolor": "white",
            "gridwidth": 2,
            "linecolor": "white",
            "showbackground": true,
            "ticks": "",
            "zerolinecolor": "white"
           }
          },
          "shapedefaults": {
           "line": {
            "color": "#2a3f5f"
           }
          },
          "ternary": {
           "aaxis": {
            "gridcolor": "white",
            "linecolor": "white",
            "ticks": ""
           },
           "baxis": {
            "gridcolor": "white",
            "linecolor": "white",
            "ticks": ""
           },
           "bgcolor": "#E5ECF6",
           "caxis": {
            "gridcolor": "white",
            "linecolor": "white",
            "ticks": ""
           }
          },
          "title": {
           "x": 0.05
          },
          "xaxis": {
           "automargin": true,
           "gridcolor": "white",
           "linecolor": "white",
           "ticks": "",
           "title": {
            "standoff": 15
           },
           "zerolinecolor": "white",
           "zerolinewidth": 2
          },
          "yaxis": {
           "automargin": true,
           "gridcolor": "white",
           "linecolor": "white",
           "ticks": "",
           "title": {
            "standoff": 15
           },
           "zerolinecolor": "white",
           "zerolinewidth": 2
          }
         }
        },
        "title": {
         "text": "Mean Dwell Time",
         "x": 0.5,
         "xanchor": "center",
         "y": 0.9,
         "yanchor": "top"
        },
        "xaxis": {
         "title": {
          "text": "States of connectivity"
         }
        },
        "yaxis": {
         "title": {
          "text": "MDT"
         }
        }
       }
      },
      "text/html": [
       "<div>\n",
       "        \n",
       "        \n",
       "            <div id=\"c2ff8df3-5356-40ee-910c-860695ecadc5\" class=\"plotly-graph-div\" style=\"height:525px; width:100%;\"></div>\n",
       "            <script type=\"text/javascript\">\n",
       "                require([\"plotly\"], function(Plotly) {\n",
       "                    window.PLOTLYENV=window.PLOTLYENV || {};\n",
       "                    \n",
       "                if (document.getElementById(\"c2ff8df3-5356-40ee-910c-860695ecadc5\")) {\n",
       "                    Plotly.newPlot(\n",
       "                        'c2ff8df3-5356-40ee-910c-860695ecadc5',\n",
       "                        [{\"name\": \"ASD Group\", \"type\": \"bar\", \"x\": [\"high negative\", \"moderate negative\", \"low uncorrelated\", \"moderate positive\", \"high positive\"], \"y\": [11.024744897959184, 2.8170299938157077, 5.297446402803545, 2.49060483167626, 10.589795918367347]}, {\"name\": \"TD Group\", \"type\": \"bar\", \"x\": [\"high negative\", \"moderate negative\", \"low uncorrelated\", \"moderate positive\", \"high positive\"], \"y\": [12.160793650793648, 2.5216324416324416, 5.966428016428016, 3.5302874902874906, 9.87857142857143]}],\n",
       "                        {\"barmode\": \"group\", \"template\": {\"data\": {\"bar\": [{\"error_x\": {\"color\": \"#2a3f5f\"}, \"error_y\": {\"color\": \"#2a3f5f\"}, \"marker\": {\"line\": {\"color\": \"#E5ECF6\", \"width\": 0.5}}, \"type\": \"bar\"}], \"barpolar\": [{\"marker\": {\"line\": {\"color\": \"#E5ECF6\", \"width\": 0.5}}, \"type\": \"barpolar\"}], \"carpet\": [{\"aaxis\": {\"endlinecolor\": \"#2a3f5f\", \"gridcolor\": \"white\", \"linecolor\": \"white\", \"minorgridcolor\": \"white\", \"startlinecolor\": \"#2a3f5f\"}, \"baxis\": {\"endlinecolor\": \"#2a3f5f\", \"gridcolor\": \"white\", \"linecolor\": \"white\", \"minorgridcolor\": \"white\", \"startlinecolor\": \"#2a3f5f\"}, \"type\": \"carpet\"}], \"choropleth\": [{\"colorbar\": {\"outlinewidth\": 0, \"ticks\": \"\"}, \"type\": \"choropleth\"}], \"contour\": [{\"colorbar\": {\"outlinewidth\": 0, \"ticks\": \"\"}, \"colorscale\": [[0.0, \"#0d0887\"], [0.1111111111111111, \"#46039f\"], [0.2222222222222222, \"#7201a8\"], [0.3333333333333333, \"#9c179e\"], [0.4444444444444444, \"#bd3786\"], [0.5555555555555556, \"#d8576b\"], [0.6666666666666666, \"#ed7953\"], [0.7777777777777778, \"#fb9f3a\"], [0.8888888888888888, \"#fdca26\"], [1.0, \"#f0f921\"]], \"type\": \"contour\"}], \"contourcarpet\": [{\"colorbar\": {\"outlinewidth\": 0, \"ticks\": \"\"}, \"type\": \"contourcarpet\"}], \"heatmap\": [{\"colorbar\": {\"outlinewidth\": 0, \"ticks\": \"\"}, \"colorscale\": [[0.0, \"#0d0887\"], [0.1111111111111111, \"#46039f\"], [0.2222222222222222, \"#7201a8\"], [0.3333333333333333, \"#9c179e\"], [0.4444444444444444, \"#bd3786\"], [0.5555555555555556, \"#d8576b\"], [0.6666666666666666, \"#ed7953\"], [0.7777777777777778, \"#fb9f3a\"], [0.8888888888888888, \"#fdca26\"], [1.0, \"#f0f921\"]], \"type\": \"heatmap\"}], \"heatmapgl\": [{\"colorbar\": {\"outlinewidth\": 0, \"ticks\": \"\"}, \"colorscale\": [[0.0, \"#0d0887\"], [0.1111111111111111, \"#46039f\"], [0.2222222222222222, \"#7201a8\"], [0.3333333333333333, \"#9c179e\"], [0.4444444444444444, \"#bd3786\"], [0.5555555555555556, \"#d8576b\"], [0.6666666666666666, \"#ed7953\"], [0.7777777777777778, \"#fb9f3a\"], [0.8888888888888888, \"#fdca26\"], [1.0, \"#f0f921\"]], \"type\": \"heatmapgl\"}], \"histogram\": [{\"marker\": {\"colorbar\": {\"outlinewidth\": 0, \"ticks\": \"\"}}, \"type\": \"histogram\"}], \"histogram2d\": [{\"colorbar\": {\"outlinewidth\": 0, \"ticks\": \"\"}, \"colorscale\": [[0.0, \"#0d0887\"], [0.1111111111111111, \"#46039f\"], [0.2222222222222222, \"#7201a8\"], [0.3333333333333333, \"#9c179e\"], [0.4444444444444444, \"#bd3786\"], [0.5555555555555556, \"#d8576b\"], [0.6666666666666666, \"#ed7953\"], [0.7777777777777778, \"#fb9f3a\"], [0.8888888888888888, \"#fdca26\"], [1.0, \"#f0f921\"]], \"type\": \"histogram2d\"}], \"histogram2dcontour\": [{\"colorbar\": {\"outlinewidth\": 0, \"ticks\": \"\"}, \"colorscale\": [[0.0, \"#0d0887\"], [0.1111111111111111, \"#46039f\"], [0.2222222222222222, \"#7201a8\"], [0.3333333333333333, \"#9c179e\"], [0.4444444444444444, \"#bd3786\"], [0.5555555555555556, \"#d8576b\"], [0.6666666666666666, \"#ed7953\"], [0.7777777777777778, \"#fb9f3a\"], [0.8888888888888888, \"#fdca26\"], [1.0, \"#f0f921\"]], \"type\": \"histogram2dcontour\"}], \"mesh3d\": [{\"colorbar\": {\"outlinewidth\": 0, \"ticks\": \"\"}, \"type\": \"mesh3d\"}], \"parcoords\": [{\"line\": {\"colorbar\": {\"outlinewidth\": 0, \"ticks\": \"\"}}, \"type\": \"parcoords\"}], \"pie\": [{\"automargin\": true, \"type\": \"pie\"}], \"scatter\": [{\"marker\": {\"colorbar\": {\"outlinewidth\": 0, \"ticks\": \"\"}}, \"type\": \"scatter\"}], \"scatter3d\": [{\"line\": {\"colorbar\": {\"outlinewidth\": 0, \"ticks\": \"\"}}, \"marker\": {\"colorbar\": {\"outlinewidth\": 0, \"ticks\": \"\"}}, \"type\": \"scatter3d\"}], \"scattercarpet\": [{\"marker\": {\"colorbar\": {\"outlinewidth\": 0, \"ticks\": \"\"}}, \"type\": \"scattercarpet\"}], \"scattergeo\": [{\"marker\": {\"colorbar\": {\"outlinewidth\": 0, \"ticks\": \"\"}}, \"type\": \"scattergeo\"}], \"scattergl\": [{\"marker\": {\"colorbar\": {\"outlinewidth\": 0, \"ticks\": \"\"}}, \"type\": \"scattergl\"}], \"scattermapbox\": [{\"marker\": {\"colorbar\": {\"outlinewidth\": 0, \"ticks\": \"\"}}, \"type\": \"scattermapbox\"}], \"scatterpolar\": [{\"marker\": {\"colorbar\": {\"outlinewidth\": 0, \"ticks\": \"\"}}, \"type\": \"scatterpolar\"}], \"scatterpolargl\": [{\"marker\": {\"colorbar\": {\"outlinewidth\": 0, \"ticks\": \"\"}}, \"type\": \"scatterpolargl\"}], \"scatterternary\": [{\"marker\": {\"colorbar\": {\"outlinewidth\": 0, \"ticks\": \"\"}}, \"type\": \"scatterternary\"}], \"surface\": [{\"colorbar\": {\"outlinewidth\": 0, \"ticks\": \"\"}, \"colorscale\": [[0.0, \"#0d0887\"], [0.1111111111111111, \"#46039f\"], [0.2222222222222222, \"#7201a8\"], [0.3333333333333333, \"#9c179e\"], [0.4444444444444444, \"#bd3786\"], [0.5555555555555556, \"#d8576b\"], [0.6666666666666666, \"#ed7953\"], [0.7777777777777778, \"#fb9f3a\"], [0.8888888888888888, \"#fdca26\"], [1.0, \"#f0f921\"]], \"type\": \"surface\"}], \"table\": [{\"cells\": {\"fill\": {\"color\": \"#EBF0F8\"}, \"line\": {\"color\": \"white\"}}, \"header\": {\"fill\": {\"color\": \"#C8D4E3\"}, \"line\": {\"color\": \"white\"}}, \"type\": \"table\"}]}, \"layout\": {\"annotationdefaults\": {\"arrowcolor\": \"#2a3f5f\", \"arrowhead\": 0, \"arrowwidth\": 1}, \"coloraxis\": {\"colorbar\": {\"outlinewidth\": 0, \"ticks\": \"\"}}, \"colorscale\": {\"diverging\": [[0, \"#8e0152\"], [0.1, \"#c51b7d\"], [0.2, \"#de77ae\"], [0.3, \"#f1b6da\"], [0.4, \"#fde0ef\"], [0.5, \"#f7f7f7\"], [0.6, \"#e6f5d0\"], [0.7, \"#b8e186\"], [0.8, \"#7fbc41\"], [0.9, \"#4d9221\"], [1, \"#276419\"]], \"sequential\": [[0.0, \"#0d0887\"], [0.1111111111111111, \"#46039f\"], [0.2222222222222222, \"#7201a8\"], [0.3333333333333333, \"#9c179e\"], [0.4444444444444444, \"#bd3786\"], [0.5555555555555556, \"#d8576b\"], [0.6666666666666666, \"#ed7953\"], [0.7777777777777778, \"#fb9f3a\"], [0.8888888888888888, \"#fdca26\"], [1.0, \"#f0f921\"]], \"sequentialminus\": [[0.0, \"#0d0887\"], [0.1111111111111111, \"#46039f\"], [0.2222222222222222, \"#7201a8\"], [0.3333333333333333, \"#9c179e\"], [0.4444444444444444, \"#bd3786\"], [0.5555555555555556, \"#d8576b\"], [0.6666666666666666, \"#ed7953\"], [0.7777777777777778, \"#fb9f3a\"], [0.8888888888888888, \"#fdca26\"], [1.0, \"#f0f921\"]]}, \"colorway\": [\"#636efa\", \"#EF553B\", \"#00cc96\", \"#ab63fa\", \"#FFA15A\", \"#19d3f3\", \"#FF6692\", \"#B6E880\", \"#FF97FF\", \"#FECB52\"], \"font\": {\"color\": \"#2a3f5f\"}, \"geo\": {\"bgcolor\": \"white\", \"lakecolor\": \"white\", \"landcolor\": \"#E5ECF6\", \"showlakes\": true, \"showland\": true, \"subunitcolor\": \"white\"}, \"hoverlabel\": {\"align\": \"left\"}, \"hovermode\": \"closest\", \"mapbox\": {\"style\": \"light\"}, \"paper_bgcolor\": \"white\", \"plot_bgcolor\": \"#E5ECF6\", \"polar\": {\"angularaxis\": {\"gridcolor\": \"white\", \"linecolor\": \"white\", \"ticks\": \"\"}, \"bgcolor\": \"#E5ECF6\", \"radialaxis\": {\"gridcolor\": \"white\", \"linecolor\": \"white\", \"ticks\": \"\"}}, \"scene\": {\"xaxis\": {\"backgroundcolor\": \"#E5ECF6\", \"gridcolor\": \"white\", \"gridwidth\": 2, \"linecolor\": \"white\", \"showbackground\": true, \"ticks\": \"\", \"zerolinecolor\": \"white\"}, \"yaxis\": {\"backgroundcolor\": \"#E5ECF6\", \"gridcolor\": \"white\", \"gridwidth\": 2, \"linecolor\": \"white\", \"showbackground\": true, \"ticks\": \"\", \"zerolinecolor\": \"white\"}, \"zaxis\": {\"backgroundcolor\": \"#E5ECF6\", \"gridcolor\": \"white\", \"gridwidth\": 2, \"linecolor\": \"white\", \"showbackground\": true, \"ticks\": \"\", \"zerolinecolor\": \"white\"}}, \"shapedefaults\": {\"line\": {\"color\": \"#2a3f5f\"}}, \"ternary\": {\"aaxis\": {\"gridcolor\": \"white\", \"linecolor\": \"white\", \"ticks\": \"\"}, \"baxis\": {\"gridcolor\": \"white\", \"linecolor\": \"white\", \"ticks\": \"\"}, \"bgcolor\": \"#E5ECF6\", \"caxis\": {\"gridcolor\": \"white\", \"linecolor\": \"white\", \"ticks\": \"\"}}, \"title\": {\"x\": 0.05}, \"xaxis\": {\"automargin\": true, \"gridcolor\": \"white\", \"linecolor\": \"white\", \"ticks\": \"\", \"title\": {\"standoff\": 15}, \"zerolinecolor\": \"white\", \"zerolinewidth\": 2}, \"yaxis\": {\"automargin\": true, \"gridcolor\": \"white\", \"linecolor\": \"white\", \"ticks\": \"\", \"title\": {\"standoff\": 15}, \"zerolinecolor\": \"white\", \"zerolinewidth\": 2}}}, \"title\": {\"text\": \"Mean Dwell Time\", \"x\": 0.5, \"xanchor\": \"center\", \"y\": 0.9, \"yanchor\": \"top\"}, \"xaxis\": {\"title\": {\"text\": \"States of connectivity\"}}, \"yaxis\": {\"title\": {\"text\": \"MDT\"}}},\n",
       "                        {\"responsive\": true}\n",
       "                    ).then(function(){\n",
       "                            \n",
       "var gd = document.getElementById('c2ff8df3-5356-40ee-910c-860695ecadc5');\n",
       "var x = new MutationObserver(function (mutations, observer) {{\n",
       "        var display = window.getComputedStyle(gd).display;\n",
       "        if (!display || display === 'none') {{\n",
       "            console.log([gd, 'removed!']);\n",
       "            Plotly.purge(gd);\n",
       "            observer.disconnect();\n",
       "        }}\n",
       "}});\n",
       "\n",
       "// Listen for the removal of the full notebook cells\n",
       "var notebookContainer = gd.closest('#notebook-container');\n",
       "if (notebookContainer) {{\n",
       "    x.observe(notebookContainer, {childList: true});\n",
       "}}\n",
       "\n",
       "// Listen for the clearing of the current output cell\n",
       "var outputEl = gd.closest('.output');\n",
       "if (outputEl) {{\n",
       "    x.observe(outputEl, {childList: true});\n",
       "}}\n",
       "\n",
       "                        })\n",
       "                };\n",
       "                });\n",
       "            </script>\n",
       "        </div>"
      ]
     },
     "metadata": {},
     "output_type": "display_data"
    }
   ],
   "source": [
    "asd_MDT_high_negative_mean = np.mean(asd['MDT_high_negative'])\n",
    "asd_MDT_moderate_negative_mean = np.mean(asd['MDT_moderate_negative'])\n",
    "asd_MDT_low_uncorrelated_mean = np.mean(asd['MDT_low_uncorrelated'])\n",
    "asd_MDT_moderate_positive_mean = np.mean(asd['MDT_moderate_positive'])\n",
    "asd_MDT_high_positive_mean = np.mean(asd['MDT_high_positive'])\n",
    "      \n",
    "td_MDT_high_negative_mean = np.mean(td['MDT_high_negative'])\n",
    "td_MDT_moderate_negative_mean = np.mean(td['MDT_moderate_negative'])\n",
    "td_MDT_low_uncorrelated_mean = np.mean(td['MDT_low_uncorrelated'])\n",
    "td_MDT_moderate_positive_mean = np.mean(td['MDT_moderate_positive'])\n",
    "td_MDT_high_positive_mean = np.mean(td['MDT_high_positive'])\n",
    "\n",
    "\n",
    "\n",
    "import plotly.graph_objects as go\n",
    "states=['high negative', 'moderate negative', 'low uncorrelated', 'moderate positive', 'high positive']\n",
    "\n",
    "fig = go.Figure(data=[\n",
    "    go.Bar(name='ASD Group', x=states, y=[asd_MDT_high_negative_mean, asd_MDT_moderate_negative_mean, asd_MDT_low_uncorrelated_mean, asd_MDT_moderate_positive_mean, asd_MDT_high_positive_mean]),\n",
    "    go.Bar(name='TD Group', x=states, y=[td_MDT_high_negative_mean, td_MDT_moderate_negative_mean, td_MDT_low_uncorrelated_mean, td_MDT_moderate_positive_mean, td_MDT_high_positive_mean]),\n",
    "])\n",
    "# Change the bar mode\n",
    "fig.update_layout(barmode='group', title={\n",
    "        'text': \"Mean Dwell Time\",\n",
    "        'y':0.9,\n",
    "        'x':0.5,\n",
    "        'xanchor': 'center',\n",
    "        'yanchor': 'top'},\n",
    "    xaxis_title=\"States of connectivity\",\n",
    "    yaxis_title=\"MDT\",)\n",
    "fig.show()"
   ]
  },
  {
   "cell_type": "code",
   "execution_count": 12,
   "metadata": {},
   "outputs": [
    {
     "data": {
      "application/vnd.plotly.v1+json": {
       "config": {
        "plotlyServerURL": "https://plot.ly"
       },
       "data": [
        {
         "name": "ASD Group",
         "type": "bar",
         "x": [
          "high negative",
          "moderate negative",
          "low uncorrelated",
          "moderate positive",
          "high positive"
         ],
         "y": [
          0.12595144188386748,
          0.2390131298326155,
          0.26213787398430594,
          0.2626044530183302,
          0.1382306860263489
         ]
        },
        {
         "name": "TD Group",
         "type": "bar",
         "x": [
          "high negative",
          "moderate negative",
          "low uncorrelated",
          "moderate positive",
          "high positive"
         ],
         "y": [
          0.14214816948001163,
          0.2848701322658856,
          0.2718318553979552,
          0.22019299228650413,
          0.10769255111797035
         ]
        }
       ],
       "layout": {
        "barmode": "group",
        "template": {
         "data": {
          "bar": [
           {
            "error_x": {
             "color": "#2a3f5f"
            },
            "error_y": {
             "color": "#2a3f5f"
            },
            "marker": {
             "line": {
              "color": "#E5ECF6",
              "width": 0.5
             }
            },
            "type": "bar"
           }
          ],
          "barpolar": [
           {
            "marker": {
             "line": {
              "color": "#E5ECF6",
              "width": 0.5
             }
            },
            "type": "barpolar"
           }
          ],
          "carpet": [
           {
            "aaxis": {
             "endlinecolor": "#2a3f5f",
             "gridcolor": "white",
             "linecolor": "white",
             "minorgridcolor": "white",
             "startlinecolor": "#2a3f5f"
            },
            "baxis": {
             "endlinecolor": "#2a3f5f",
             "gridcolor": "white",
             "linecolor": "white",
             "minorgridcolor": "white",
             "startlinecolor": "#2a3f5f"
            },
            "type": "carpet"
           }
          ],
          "choropleth": [
           {
            "colorbar": {
             "outlinewidth": 0,
             "ticks": ""
            },
            "type": "choropleth"
           }
          ],
          "contour": [
           {
            "colorbar": {
             "outlinewidth": 0,
             "ticks": ""
            },
            "colorscale": [
             [
              0,
              "#0d0887"
             ],
             [
              0.1111111111111111,
              "#46039f"
             ],
             [
              0.2222222222222222,
              "#7201a8"
             ],
             [
              0.3333333333333333,
              "#9c179e"
             ],
             [
              0.4444444444444444,
              "#bd3786"
             ],
             [
              0.5555555555555556,
              "#d8576b"
             ],
             [
              0.6666666666666666,
              "#ed7953"
             ],
             [
              0.7777777777777778,
              "#fb9f3a"
             ],
             [
              0.8888888888888888,
              "#fdca26"
             ],
             [
              1,
              "#f0f921"
             ]
            ],
            "type": "contour"
           }
          ],
          "contourcarpet": [
           {
            "colorbar": {
             "outlinewidth": 0,
             "ticks": ""
            },
            "type": "contourcarpet"
           }
          ],
          "heatmap": [
           {
            "colorbar": {
             "outlinewidth": 0,
             "ticks": ""
            },
            "colorscale": [
             [
              0,
              "#0d0887"
             ],
             [
              0.1111111111111111,
              "#46039f"
             ],
             [
              0.2222222222222222,
              "#7201a8"
             ],
             [
              0.3333333333333333,
              "#9c179e"
             ],
             [
              0.4444444444444444,
              "#bd3786"
             ],
             [
              0.5555555555555556,
              "#d8576b"
             ],
             [
              0.6666666666666666,
              "#ed7953"
             ],
             [
              0.7777777777777778,
              "#fb9f3a"
             ],
             [
              0.8888888888888888,
              "#fdca26"
             ],
             [
              1,
              "#f0f921"
             ]
            ],
            "type": "heatmap"
           }
          ],
          "heatmapgl": [
           {
            "colorbar": {
             "outlinewidth": 0,
             "ticks": ""
            },
            "colorscale": [
             [
              0,
              "#0d0887"
             ],
             [
              0.1111111111111111,
              "#46039f"
             ],
             [
              0.2222222222222222,
              "#7201a8"
             ],
             [
              0.3333333333333333,
              "#9c179e"
             ],
             [
              0.4444444444444444,
              "#bd3786"
             ],
             [
              0.5555555555555556,
              "#d8576b"
             ],
             [
              0.6666666666666666,
              "#ed7953"
             ],
             [
              0.7777777777777778,
              "#fb9f3a"
             ],
             [
              0.8888888888888888,
              "#fdca26"
             ],
             [
              1,
              "#f0f921"
             ]
            ],
            "type": "heatmapgl"
           }
          ],
          "histogram": [
           {
            "marker": {
             "colorbar": {
              "outlinewidth": 0,
              "ticks": ""
             }
            },
            "type": "histogram"
           }
          ],
          "histogram2d": [
           {
            "colorbar": {
             "outlinewidth": 0,
             "ticks": ""
            },
            "colorscale": [
             [
              0,
              "#0d0887"
             ],
             [
              0.1111111111111111,
              "#46039f"
             ],
             [
              0.2222222222222222,
              "#7201a8"
             ],
             [
              0.3333333333333333,
              "#9c179e"
             ],
             [
              0.4444444444444444,
              "#bd3786"
             ],
             [
              0.5555555555555556,
              "#d8576b"
             ],
             [
              0.6666666666666666,
              "#ed7953"
             ],
             [
              0.7777777777777778,
              "#fb9f3a"
             ],
             [
              0.8888888888888888,
              "#fdca26"
             ],
             [
              1,
              "#f0f921"
             ]
            ],
            "type": "histogram2d"
           }
          ],
          "histogram2dcontour": [
           {
            "colorbar": {
             "outlinewidth": 0,
             "ticks": ""
            },
            "colorscale": [
             [
              0,
              "#0d0887"
             ],
             [
              0.1111111111111111,
              "#46039f"
             ],
             [
              0.2222222222222222,
              "#7201a8"
             ],
             [
              0.3333333333333333,
              "#9c179e"
             ],
             [
              0.4444444444444444,
              "#bd3786"
             ],
             [
              0.5555555555555556,
              "#d8576b"
             ],
             [
              0.6666666666666666,
              "#ed7953"
             ],
             [
              0.7777777777777778,
              "#fb9f3a"
             ],
             [
              0.8888888888888888,
              "#fdca26"
             ],
             [
              1,
              "#f0f921"
             ]
            ],
            "type": "histogram2dcontour"
           }
          ],
          "mesh3d": [
           {
            "colorbar": {
             "outlinewidth": 0,
             "ticks": ""
            },
            "type": "mesh3d"
           }
          ],
          "parcoords": [
           {
            "line": {
             "colorbar": {
              "outlinewidth": 0,
              "ticks": ""
             }
            },
            "type": "parcoords"
           }
          ],
          "pie": [
           {
            "automargin": true,
            "type": "pie"
           }
          ],
          "scatter": [
           {
            "marker": {
             "colorbar": {
              "outlinewidth": 0,
              "ticks": ""
             }
            },
            "type": "scatter"
           }
          ],
          "scatter3d": [
           {
            "line": {
             "colorbar": {
              "outlinewidth": 0,
              "ticks": ""
             }
            },
            "marker": {
             "colorbar": {
              "outlinewidth": 0,
              "ticks": ""
             }
            },
            "type": "scatter3d"
           }
          ],
          "scattercarpet": [
           {
            "marker": {
             "colorbar": {
              "outlinewidth": 0,
              "ticks": ""
             }
            },
            "type": "scattercarpet"
           }
          ],
          "scattergeo": [
           {
            "marker": {
             "colorbar": {
              "outlinewidth": 0,
              "ticks": ""
             }
            },
            "type": "scattergeo"
           }
          ],
          "scattergl": [
           {
            "marker": {
             "colorbar": {
              "outlinewidth": 0,
              "ticks": ""
             }
            },
            "type": "scattergl"
           }
          ],
          "scattermapbox": [
           {
            "marker": {
             "colorbar": {
              "outlinewidth": 0,
              "ticks": ""
             }
            },
            "type": "scattermapbox"
           }
          ],
          "scatterpolar": [
           {
            "marker": {
             "colorbar": {
              "outlinewidth": 0,
              "ticks": ""
             }
            },
            "type": "scatterpolar"
           }
          ],
          "scatterpolargl": [
           {
            "marker": {
             "colorbar": {
              "outlinewidth": 0,
              "ticks": ""
             }
            },
            "type": "scatterpolargl"
           }
          ],
          "scatterternary": [
           {
            "marker": {
             "colorbar": {
              "outlinewidth": 0,
              "ticks": ""
             }
            },
            "type": "scatterternary"
           }
          ],
          "surface": [
           {
            "colorbar": {
             "outlinewidth": 0,
             "ticks": ""
            },
            "colorscale": [
             [
              0,
              "#0d0887"
             ],
             [
              0.1111111111111111,
              "#46039f"
             ],
             [
              0.2222222222222222,
              "#7201a8"
             ],
             [
              0.3333333333333333,
              "#9c179e"
             ],
             [
              0.4444444444444444,
              "#bd3786"
             ],
             [
              0.5555555555555556,
              "#d8576b"
             ],
             [
              0.6666666666666666,
              "#ed7953"
             ],
             [
              0.7777777777777778,
              "#fb9f3a"
             ],
             [
              0.8888888888888888,
              "#fdca26"
             ],
             [
              1,
              "#f0f921"
             ]
            ],
            "type": "surface"
           }
          ],
          "table": [
           {
            "cells": {
             "fill": {
              "color": "#EBF0F8"
             },
             "line": {
              "color": "white"
             }
            },
            "header": {
             "fill": {
              "color": "#C8D4E3"
             },
             "line": {
              "color": "white"
             }
            },
            "type": "table"
           }
          ]
         },
         "layout": {
          "annotationdefaults": {
           "arrowcolor": "#2a3f5f",
           "arrowhead": 0,
           "arrowwidth": 1
          },
          "coloraxis": {
           "colorbar": {
            "outlinewidth": 0,
            "ticks": ""
           }
          },
          "colorscale": {
           "diverging": [
            [
             0,
             "#8e0152"
            ],
            [
             0.1,
             "#c51b7d"
            ],
            [
             0.2,
             "#de77ae"
            ],
            [
             0.3,
             "#f1b6da"
            ],
            [
             0.4,
             "#fde0ef"
            ],
            [
             0.5,
             "#f7f7f7"
            ],
            [
             0.6,
             "#e6f5d0"
            ],
            [
             0.7,
             "#b8e186"
            ],
            [
             0.8,
             "#7fbc41"
            ],
            [
             0.9,
             "#4d9221"
            ],
            [
             1,
             "#276419"
            ]
           ],
           "sequential": [
            [
             0,
             "#0d0887"
            ],
            [
             0.1111111111111111,
             "#46039f"
            ],
            [
             0.2222222222222222,
             "#7201a8"
            ],
            [
             0.3333333333333333,
             "#9c179e"
            ],
            [
             0.4444444444444444,
             "#bd3786"
            ],
            [
             0.5555555555555556,
             "#d8576b"
            ],
            [
             0.6666666666666666,
             "#ed7953"
            ],
            [
             0.7777777777777778,
             "#fb9f3a"
            ],
            [
             0.8888888888888888,
             "#fdca26"
            ],
            [
             1,
             "#f0f921"
            ]
           ],
           "sequentialminus": [
            [
             0,
             "#0d0887"
            ],
            [
             0.1111111111111111,
             "#46039f"
            ],
            [
             0.2222222222222222,
             "#7201a8"
            ],
            [
             0.3333333333333333,
             "#9c179e"
            ],
            [
             0.4444444444444444,
             "#bd3786"
            ],
            [
             0.5555555555555556,
             "#d8576b"
            ],
            [
             0.6666666666666666,
             "#ed7953"
            ],
            [
             0.7777777777777778,
             "#fb9f3a"
            ],
            [
             0.8888888888888888,
             "#fdca26"
            ],
            [
             1,
             "#f0f921"
            ]
           ]
          },
          "colorway": [
           "#636efa",
           "#EF553B",
           "#00cc96",
           "#ab63fa",
           "#FFA15A",
           "#19d3f3",
           "#FF6692",
           "#B6E880",
           "#FF97FF",
           "#FECB52"
          ],
          "font": {
           "color": "#2a3f5f"
          },
          "geo": {
           "bgcolor": "white",
           "lakecolor": "white",
           "landcolor": "#E5ECF6",
           "showlakes": true,
           "showland": true,
           "subunitcolor": "white"
          },
          "hoverlabel": {
           "align": "left"
          },
          "hovermode": "closest",
          "mapbox": {
           "style": "light"
          },
          "paper_bgcolor": "white",
          "plot_bgcolor": "#E5ECF6",
          "polar": {
           "angularaxis": {
            "gridcolor": "white",
            "linecolor": "white",
            "ticks": ""
           },
           "bgcolor": "#E5ECF6",
           "radialaxis": {
            "gridcolor": "white",
            "linecolor": "white",
            "ticks": ""
           }
          },
          "scene": {
           "xaxis": {
            "backgroundcolor": "#E5ECF6",
            "gridcolor": "white",
            "gridwidth": 2,
            "linecolor": "white",
            "showbackground": true,
            "ticks": "",
            "zerolinecolor": "white"
           },
           "yaxis": {
            "backgroundcolor": "#E5ECF6",
            "gridcolor": "white",
            "gridwidth": 2,
            "linecolor": "white",
            "showbackground": true,
            "ticks": "",
            "zerolinecolor": "white"
           },
           "zaxis": {
            "backgroundcolor": "#E5ECF6",
            "gridcolor": "white",
            "gridwidth": 2,
            "linecolor": "white",
            "showbackground": true,
            "ticks": "",
            "zerolinecolor": "white"
           }
          },
          "shapedefaults": {
           "line": {
            "color": "#2a3f5f"
           }
          },
          "ternary": {
           "aaxis": {
            "gridcolor": "white",
            "linecolor": "white",
            "ticks": ""
           },
           "baxis": {
            "gridcolor": "white",
            "linecolor": "white",
            "ticks": ""
           },
           "bgcolor": "#E5ECF6",
           "caxis": {
            "gridcolor": "white",
            "linecolor": "white",
            "ticks": ""
           }
          },
          "title": {
           "x": 0.05
          },
          "xaxis": {
           "automargin": true,
           "gridcolor": "white",
           "linecolor": "white",
           "ticks": "",
           "title": {
            "standoff": 15
           },
           "zerolinecolor": "white",
           "zerolinewidth": 2
          },
          "yaxis": {
           "automargin": true,
           "gridcolor": "white",
           "linecolor": "white",
           "ticks": "",
           "title": {
            "standoff": 15
           },
           "zerolinecolor": "white",
           "zerolinewidth": 2
          }
         }
        },
        "title": {
         "text": "Probability of Transition",
         "x": 0.5,
         "xanchor": "center",
         "y": 0.9,
         "yanchor": "top"
        },
        "xaxis": {
         "title": {
          "text": "States of connectivity"
         }
        },
        "yaxis": {
         "title": {
          "text": "PT"
         }
        }
       }
      },
      "text/html": [
       "<div>\n",
       "        \n",
       "        \n",
       "            <div id=\"41b968e7-6e98-4354-bc3a-d8d3f2aff7e1\" class=\"plotly-graph-div\" style=\"height:525px; width:100%;\"></div>\n",
       "            <script type=\"text/javascript\">\n",
       "                require([\"plotly\"], function(Plotly) {\n",
       "                    window.PLOTLYENV=window.PLOTLYENV || {};\n",
       "                    \n",
       "                if (document.getElementById(\"41b968e7-6e98-4354-bc3a-d8d3f2aff7e1\")) {\n",
       "                    Plotly.newPlot(\n",
       "                        '41b968e7-6e98-4354-bc3a-d8d3f2aff7e1',\n",
       "                        [{\"name\": \"ASD Group\", \"type\": \"bar\", \"x\": [\"high negative\", \"moderate negative\", \"low uncorrelated\", \"moderate positive\", \"high positive\"], \"y\": [0.12595144188386748, 0.2390131298326155, 0.26213787398430594, 0.2626044530183302, 0.1382306860263489]}, {\"name\": \"TD Group\", \"type\": \"bar\", \"x\": [\"high negative\", \"moderate negative\", \"low uncorrelated\", \"moderate positive\", \"high positive\"], \"y\": [0.14214816948001163, 0.2848701322658856, 0.2718318553979552, 0.22019299228650413, 0.10769255111797035]}],\n",
       "                        {\"barmode\": \"group\", \"template\": {\"data\": {\"bar\": [{\"error_x\": {\"color\": \"#2a3f5f\"}, \"error_y\": {\"color\": \"#2a3f5f\"}, \"marker\": {\"line\": {\"color\": \"#E5ECF6\", \"width\": 0.5}}, \"type\": \"bar\"}], \"barpolar\": [{\"marker\": {\"line\": {\"color\": \"#E5ECF6\", \"width\": 0.5}}, \"type\": \"barpolar\"}], \"carpet\": [{\"aaxis\": {\"endlinecolor\": \"#2a3f5f\", \"gridcolor\": \"white\", \"linecolor\": \"white\", \"minorgridcolor\": \"white\", \"startlinecolor\": \"#2a3f5f\"}, \"baxis\": {\"endlinecolor\": \"#2a3f5f\", \"gridcolor\": \"white\", \"linecolor\": \"white\", \"minorgridcolor\": \"white\", \"startlinecolor\": \"#2a3f5f\"}, \"type\": \"carpet\"}], \"choropleth\": [{\"colorbar\": {\"outlinewidth\": 0, \"ticks\": \"\"}, \"type\": \"choropleth\"}], \"contour\": [{\"colorbar\": {\"outlinewidth\": 0, \"ticks\": \"\"}, \"colorscale\": [[0.0, \"#0d0887\"], [0.1111111111111111, \"#46039f\"], [0.2222222222222222, \"#7201a8\"], [0.3333333333333333, \"#9c179e\"], [0.4444444444444444, \"#bd3786\"], [0.5555555555555556, \"#d8576b\"], [0.6666666666666666, \"#ed7953\"], [0.7777777777777778, \"#fb9f3a\"], [0.8888888888888888, \"#fdca26\"], [1.0, \"#f0f921\"]], \"type\": \"contour\"}], \"contourcarpet\": [{\"colorbar\": {\"outlinewidth\": 0, \"ticks\": \"\"}, \"type\": \"contourcarpet\"}], \"heatmap\": [{\"colorbar\": {\"outlinewidth\": 0, \"ticks\": \"\"}, \"colorscale\": [[0.0, \"#0d0887\"], [0.1111111111111111, \"#46039f\"], [0.2222222222222222, \"#7201a8\"], [0.3333333333333333, \"#9c179e\"], [0.4444444444444444, \"#bd3786\"], [0.5555555555555556, \"#d8576b\"], [0.6666666666666666, \"#ed7953\"], [0.7777777777777778, \"#fb9f3a\"], [0.8888888888888888, \"#fdca26\"], [1.0, \"#f0f921\"]], \"type\": \"heatmap\"}], \"heatmapgl\": [{\"colorbar\": {\"outlinewidth\": 0, \"ticks\": \"\"}, \"colorscale\": [[0.0, \"#0d0887\"], [0.1111111111111111, \"#46039f\"], [0.2222222222222222, \"#7201a8\"], [0.3333333333333333, \"#9c179e\"], [0.4444444444444444, \"#bd3786\"], [0.5555555555555556, \"#d8576b\"], [0.6666666666666666, \"#ed7953\"], [0.7777777777777778, \"#fb9f3a\"], [0.8888888888888888, \"#fdca26\"], [1.0, \"#f0f921\"]], \"type\": \"heatmapgl\"}], \"histogram\": [{\"marker\": {\"colorbar\": {\"outlinewidth\": 0, \"ticks\": \"\"}}, \"type\": \"histogram\"}], \"histogram2d\": [{\"colorbar\": {\"outlinewidth\": 0, \"ticks\": \"\"}, \"colorscale\": [[0.0, \"#0d0887\"], [0.1111111111111111, \"#46039f\"], [0.2222222222222222, \"#7201a8\"], [0.3333333333333333, \"#9c179e\"], [0.4444444444444444, \"#bd3786\"], [0.5555555555555556, \"#d8576b\"], [0.6666666666666666, \"#ed7953\"], [0.7777777777777778, \"#fb9f3a\"], [0.8888888888888888, \"#fdca26\"], [1.0, \"#f0f921\"]], \"type\": \"histogram2d\"}], \"histogram2dcontour\": [{\"colorbar\": {\"outlinewidth\": 0, \"ticks\": \"\"}, \"colorscale\": [[0.0, \"#0d0887\"], [0.1111111111111111, \"#46039f\"], [0.2222222222222222, \"#7201a8\"], [0.3333333333333333, \"#9c179e\"], [0.4444444444444444, \"#bd3786\"], [0.5555555555555556, \"#d8576b\"], [0.6666666666666666, \"#ed7953\"], [0.7777777777777778, \"#fb9f3a\"], [0.8888888888888888, \"#fdca26\"], [1.0, \"#f0f921\"]], \"type\": \"histogram2dcontour\"}], \"mesh3d\": [{\"colorbar\": {\"outlinewidth\": 0, \"ticks\": \"\"}, \"type\": \"mesh3d\"}], \"parcoords\": [{\"line\": {\"colorbar\": {\"outlinewidth\": 0, \"ticks\": \"\"}}, \"type\": \"parcoords\"}], \"pie\": [{\"automargin\": true, \"type\": \"pie\"}], \"scatter\": [{\"marker\": {\"colorbar\": {\"outlinewidth\": 0, \"ticks\": \"\"}}, \"type\": \"scatter\"}], \"scatter3d\": [{\"line\": {\"colorbar\": {\"outlinewidth\": 0, \"ticks\": \"\"}}, \"marker\": {\"colorbar\": {\"outlinewidth\": 0, \"ticks\": \"\"}}, \"type\": \"scatter3d\"}], \"scattercarpet\": [{\"marker\": {\"colorbar\": {\"outlinewidth\": 0, \"ticks\": \"\"}}, \"type\": \"scattercarpet\"}], \"scattergeo\": [{\"marker\": {\"colorbar\": {\"outlinewidth\": 0, \"ticks\": \"\"}}, \"type\": \"scattergeo\"}], \"scattergl\": [{\"marker\": {\"colorbar\": {\"outlinewidth\": 0, \"ticks\": \"\"}}, \"type\": \"scattergl\"}], \"scattermapbox\": [{\"marker\": {\"colorbar\": {\"outlinewidth\": 0, \"ticks\": \"\"}}, \"type\": \"scattermapbox\"}], \"scatterpolar\": [{\"marker\": {\"colorbar\": {\"outlinewidth\": 0, \"ticks\": \"\"}}, \"type\": \"scatterpolar\"}], \"scatterpolargl\": [{\"marker\": {\"colorbar\": {\"outlinewidth\": 0, \"ticks\": \"\"}}, \"type\": \"scatterpolargl\"}], \"scatterternary\": [{\"marker\": {\"colorbar\": {\"outlinewidth\": 0, \"ticks\": \"\"}}, \"type\": \"scatterternary\"}], \"surface\": [{\"colorbar\": {\"outlinewidth\": 0, \"ticks\": \"\"}, \"colorscale\": [[0.0, \"#0d0887\"], [0.1111111111111111, \"#46039f\"], [0.2222222222222222, \"#7201a8\"], [0.3333333333333333, \"#9c179e\"], [0.4444444444444444, \"#bd3786\"], [0.5555555555555556, \"#d8576b\"], [0.6666666666666666, \"#ed7953\"], [0.7777777777777778, \"#fb9f3a\"], [0.8888888888888888, \"#fdca26\"], [1.0, \"#f0f921\"]], \"type\": \"surface\"}], \"table\": [{\"cells\": {\"fill\": {\"color\": \"#EBF0F8\"}, \"line\": {\"color\": \"white\"}}, \"header\": {\"fill\": {\"color\": \"#C8D4E3\"}, \"line\": {\"color\": \"white\"}}, \"type\": \"table\"}]}, \"layout\": {\"annotationdefaults\": {\"arrowcolor\": \"#2a3f5f\", \"arrowhead\": 0, \"arrowwidth\": 1}, \"coloraxis\": {\"colorbar\": {\"outlinewidth\": 0, \"ticks\": \"\"}}, \"colorscale\": {\"diverging\": [[0, \"#8e0152\"], [0.1, \"#c51b7d\"], [0.2, \"#de77ae\"], [0.3, \"#f1b6da\"], [0.4, \"#fde0ef\"], [0.5, \"#f7f7f7\"], [0.6, \"#e6f5d0\"], [0.7, \"#b8e186\"], [0.8, \"#7fbc41\"], [0.9, \"#4d9221\"], [1, \"#276419\"]], \"sequential\": [[0.0, \"#0d0887\"], [0.1111111111111111, \"#46039f\"], [0.2222222222222222, \"#7201a8\"], [0.3333333333333333, \"#9c179e\"], [0.4444444444444444, \"#bd3786\"], [0.5555555555555556, \"#d8576b\"], [0.6666666666666666, \"#ed7953\"], [0.7777777777777778, \"#fb9f3a\"], [0.8888888888888888, \"#fdca26\"], [1.0, \"#f0f921\"]], \"sequentialminus\": [[0.0, \"#0d0887\"], [0.1111111111111111, \"#46039f\"], [0.2222222222222222, \"#7201a8\"], [0.3333333333333333, \"#9c179e\"], [0.4444444444444444, \"#bd3786\"], [0.5555555555555556, \"#d8576b\"], [0.6666666666666666, \"#ed7953\"], [0.7777777777777778, \"#fb9f3a\"], [0.8888888888888888, \"#fdca26\"], [1.0, \"#f0f921\"]]}, \"colorway\": [\"#636efa\", \"#EF553B\", \"#00cc96\", \"#ab63fa\", \"#FFA15A\", \"#19d3f3\", \"#FF6692\", \"#B6E880\", \"#FF97FF\", \"#FECB52\"], \"font\": {\"color\": \"#2a3f5f\"}, \"geo\": {\"bgcolor\": \"white\", \"lakecolor\": \"white\", \"landcolor\": \"#E5ECF6\", \"showlakes\": true, \"showland\": true, \"subunitcolor\": \"white\"}, \"hoverlabel\": {\"align\": \"left\"}, \"hovermode\": \"closest\", \"mapbox\": {\"style\": \"light\"}, \"paper_bgcolor\": \"white\", \"plot_bgcolor\": \"#E5ECF6\", \"polar\": {\"angularaxis\": {\"gridcolor\": \"white\", \"linecolor\": \"white\", \"ticks\": \"\"}, \"bgcolor\": \"#E5ECF6\", \"radialaxis\": {\"gridcolor\": \"white\", \"linecolor\": \"white\", \"ticks\": \"\"}}, \"scene\": {\"xaxis\": {\"backgroundcolor\": \"#E5ECF6\", \"gridcolor\": \"white\", \"gridwidth\": 2, \"linecolor\": \"white\", \"showbackground\": true, \"ticks\": \"\", \"zerolinecolor\": \"white\"}, \"yaxis\": {\"backgroundcolor\": \"#E5ECF6\", \"gridcolor\": \"white\", \"gridwidth\": 2, \"linecolor\": \"white\", \"showbackground\": true, \"ticks\": \"\", \"zerolinecolor\": \"white\"}, \"zaxis\": {\"backgroundcolor\": \"#E5ECF6\", \"gridcolor\": \"white\", \"gridwidth\": 2, \"linecolor\": \"white\", \"showbackground\": true, \"ticks\": \"\", \"zerolinecolor\": \"white\"}}, \"shapedefaults\": {\"line\": {\"color\": \"#2a3f5f\"}}, \"ternary\": {\"aaxis\": {\"gridcolor\": \"white\", \"linecolor\": \"white\", \"ticks\": \"\"}, \"baxis\": {\"gridcolor\": \"white\", \"linecolor\": \"white\", \"ticks\": \"\"}, \"bgcolor\": \"#E5ECF6\", \"caxis\": {\"gridcolor\": \"white\", \"linecolor\": \"white\", \"ticks\": \"\"}}, \"title\": {\"x\": 0.05}, \"xaxis\": {\"automargin\": true, \"gridcolor\": \"white\", \"linecolor\": \"white\", \"ticks\": \"\", \"title\": {\"standoff\": 15}, \"zerolinecolor\": \"white\", \"zerolinewidth\": 2}, \"yaxis\": {\"automargin\": true, \"gridcolor\": \"white\", \"linecolor\": \"white\", \"ticks\": \"\", \"title\": {\"standoff\": 15}, \"zerolinecolor\": \"white\", \"zerolinewidth\": 2}}}, \"title\": {\"text\": \"Probability of Transition\", \"x\": 0.5, \"xanchor\": \"center\", \"y\": 0.9, \"yanchor\": \"top\"}, \"xaxis\": {\"title\": {\"text\": \"States of connectivity\"}}, \"yaxis\": {\"title\": {\"text\": \"PT\"}}},\n",
       "                        {\"responsive\": true}\n",
       "                    ).then(function(){\n",
       "                            \n",
       "var gd = document.getElementById('41b968e7-6e98-4354-bc3a-d8d3f2aff7e1');\n",
       "var x = new MutationObserver(function (mutations, observer) {{\n",
       "        var display = window.getComputedStyle(gd).display;\n",
       "        if (!display || display === 'none') {{\n",
       "            console.log([gd, 'removed!']);\n",
       "            Plotly.purge(gd);\n",
       "            observer.disconnect();\n",
       "        }}\n",
       "}});\n",
       "\n",
       "// Listen for the removal of the full notebook cells\n",
       "var notebookContainer = gd.closest('#notebook-container');\n",
       "if (notebookContainer) {{\n",
       "    x.observe(notebookContainer, {childList: true});\n",
       "}}\n",
       "\n",
       "// Listen for the clearing of the current output cell\n",
       "var outputEl = gd.closest('.output');\n",
       "if (outputEl) {{\n",
       "    x.observe(outputEl, {childList: true});\n",
       "}}\n",
       "\n",
       "                        })\n",
       "                };\n",
       "                });\n",
       "            </script>\n",
       "        </div>"
      ]
     },
     "metadata": {},
     "output_type": "display_data"
    }
   ],
   "source": [
    "asd_PT_high_negative_mean = np.mean(asd['PT_high_negative'])\n",
    "asd_PT_moderate_negative_mean = np.mean(asd['PT_moderate_negative'])\n",
    "asd_PT_low_uncorrelated_mean = np.mean(asd['PT_low_uncorrelated'])\n",
    "asd_PT_moderate_positive_mean = np.mean(asd['PT_moderate_positive'])\n",
    "asd_PT_high_positive_mean = np.mean(asd['PT_high_positive'])\n",
    "      \n",
    "td_PT_high_negative_mean = np.mean(td['PT_high_negative'])\n",
    "td_PT_moderate_negative_mean = np.mean(td['PT_moderate_negative'])\n",
    "td_PT_low_uncorrelated_mean = np.mean(td['PT_low_uncorrelated'])\n",
    "td_PT_moderate_positive_mean = np.mean(td['PT_moderate_positive'])\n",
    "td_PT_high_positive_mean = np.mean(td['PT_high_positive'])\n",
    "\n",
    "states=['high negative', 'moderate negative', 'low uncorrelated', 'moderate positive', 'high positive']\n",
    "\n",
    "fig = go.Figure(data=[\n",
    "    go.Bar(name='ASD Group', x=states, y=[asd_PT_high_negative_mean, asd_PT_moderate_negative_mean, asd_PT_low_uncorrelated_mean, asd_PT_moderate_positive_mean, asd_PT_high_positive_mean]),\n",
    "    go.Bar(name='TD Group', x=states, y=[td_PT_high_negative_mean, td_PT_moderate_negative_mean, td_PT_low_uncorrelated_mean, td_PT_moderate_positive_mean, td_PT_high_positive_mean]),\n",
    "])\n",
    "# Change the bar mode\n",
    "fig.update_layout(barmode='group', title={\n",
    "        'text': \"Probability of Transition\",\n",
    "        'y':0.9,\n",
    "        'x':0.5,\n",
    "        'xanchor': 'center',\n",
    "        'yanchor': 'top'},\n",
    "    xaxis_title=\"States of connectivity\",\n",
    "    yaxis_title=\"PT\",)\n",
    "fig.show()"
   ]
  },
  {
   "cell_type": "code",
   "execution_count": 13,
   "metadata": {},
   "outputs": [
    {
     "name": "stdout",
     "output_type": "stream",
     "text": [
      "(-0.31402336301134937, 0.27422731860047844)\n",
      "(-0.2068977431892865, 0.4778889868048628)\n",
      "(-0.2047761461528389, 0.48251436178743506)\n",
      "(-0.2469440488791229, 0.39469629755797747)\n",
      "(-0.08903039236124002, 0.7621457139019011)\n",
      "(-0.5394115288334178, 0.046513636952887905)\n",
      "(-0.27950075405108965, 0.33315997671358555)\n"
     ]
    }
   ],
   "source": [
    "print(stats.pearsonr(asd['dynSD'], asd['SRS_RAW_TOTAL']))\n",
    "print(stats.pearsonr(asd['dynSD'], asd['SRS_AWARENESS']))\n",
    "print(stats.pearsonr(asd['dynSD'], asd['SRS_COGNITION']))\n",
    "print(stats.pearsonr(asd['dynSD'], asd['SRS_COMMUNICATION']))\n",
    "print(stats.pearsonr(asd['dynSD'], asd['SRS_MOTIVATION']))\n",
    "print(stats.pearsonr(asd['dynSD'], asd['SRS_MANNERISMS'])) #*****\n",
    "print(stats.pearsonr(asd['dynSD'], asd['AQ_TOTAL']))"
   ]
  },
  {
   "cell_type": "code",
   "execution_count": 14,
   "metadata": {},
   "outputs": [
    {
     "name": "stdout",
     "output_type": "stream",
     "text": [
      "(0.14045485846177014, 0.46739984045836286)\n",
      "(0.268005438095101, 0.15983204454521174)\n",
      "(0.23721229374110697, 0.21534035210290806)\n",
      "(0.0937272882780886, 0.6286684843170446)\n",
      "(0.09749007174272532, 0.6148883365991507)\n",
      "(0.0023589053515449127, 0.9903104844783333)\n",
      "(0.007193004196037016, 0.9704594680851525)\n"
     ]
    }
   ],
   "source": [
    "print(stats.pearsonr(project['dynStr'], project['SRS_RAW_TOTAL']))\n",
    "print(stats.pearsonr(project['dynStr'], project['SRS_AWARENESS']))\n",
    "print(stats.pearsonr(project['dynStr'], project['SRS_COGNITION']))\n",
    "print(stats.pearsonr(project['dynStr'], project['SRS_COMMUNICATION']))\n",
    "print(stats.pearsonr(project['dynStr'], project['SRS_MOTIVATION']))\n",
    "print(stats.pearsonr(project['dynStr'], project['SRS_MANNERISMS']))\n",
    "print(stats.pearsonr(project['dynStr'], project['AQ_TOTAL']))"
   ]
  },
  {
   "cell_type": "code",
   "execution_count": 15,
   "metadata": {},
   "outputs": [
    {
     "name": "stdout",
     "output_type": "stream",
     "text": [
      "(0.0955881875364073, 0.7451373947167228)\n",
      "(-0.2236476249067037, 0.44212589907306016)\n",
      "(-0.2104091411244259, 0.4702802179722738)\n",
      "(0.20868782460746016, 0.4740028168550911)\n",
      "(0.3116911331820583, 0.2779994503339413)\n",
      "(0.1700483062178752, 0.5611048063498298)\n",
      "(0.2876698277365957, 0.3186185082147295)\n"
     ]
    }
   ],
   "source": [
    "print(stats.pearsonr(asd['prop_high_negative'], asd['SRS_RAW_TOTAL']))\n",
    "print(stats.pearsonr(asd['prop_high_negative'], asd['SRS_AWARENESS']))\n",
    "print(stats.pearsonr(asd['prop_high_negative'], asd['SRS_COGNITION']))\n",
    "print(stats.pearsonr(asd['prop_high_negative'], asd['SRS_COMMUNICATION']))\n",
    "print(stats.pearsonr(asd['prop_high_negative'], asd['SRS_MOTIVATION']))\n",
    "print(stats.pearsonr(asd['prop_high_negative'], asd['SRS_MANNERISMS']))\n",
    "print(stats.pearsonr(asd['prop_high_negative'], asd['AQ_TOTAL']))\n",
    "\n",
    "#asd['prop_high_negative'] = prop_high_negative\n",
    "#asd['prop_moderate_negative'] = prop_moderate_negative\n",
    "#asd['prop_low_uncorrelated'] = prop_low_uncorrelated\n",
    "#asd['prop_moderate_positive'] = prop_moderate_positive\n",
    "#asd['prop_high_positive'] = prop_high_positive"
   ]
  },
  {
   "cell_type": "code",
   "execution_count": 16,
   "metadata": {},
   "outputs": [
    {
     "name": "stdout",
     "output_type": "stream",
     "text": [
      "(0.3741476563710348, 0.1875373951995065)\n",
      "(0.19671931571187257, 0.5002696459760837)\n",
      "(0.21320540161909196, 0.464262942939226)\n",
      "(0.3623341225908058, 0.20297041588956818)\n",
      "(0.3010871726256017, 0.29553420679831544)\n",
      "(0.44007169028427273, 0.1153265855711299)\n",
      "(0.5175548033929134, 0.05802480676978931)\n"
     ]
    }
   ],
   "source": [
    "print(stats.pearsonr(asd['prop_moderate_negative'], asd['SRS_RAW_TOTAL']))\n",
    "print(stats.pearsonr(asd['prop_moderate_negative'], asd['SRS_AWARENESS']))\n",
    "print(stats.pearsonr(asd['prop_moderate_negative'], asd['SRS_COGNITION']))\n",
    "print(stats.pearsonr(asd['prop_moderate_negative'], asd['SRS_COMMUNICATION']))\n",
    "print(stats.pearsonr(asd['prop_moderate_negative'], asd['SRS_MOTIVATION']))\n",
    "print(stats.pearsonr(asd['prop_moderate_negative'], asd['SRS_MANNERISMS']))\n",
    "print(stats.pearsonr(asd['prop_moderate_negative'], asd['AQ_TOTAL'])) "
   ]
  },
  {
   "cell_type": "code",
   "execution_count": 17,
   "metadata": {},
   "outputs": [
    {
     "name": "stdout",
     "output_type": "stream",
     "text": [
      "(0.27811987998667254, 0.33565414299298213)\n",
      "(0.4230708203231386, 0.13174997621693396)\n",
      "(0.06203716578879501, 0.8331356960889661)\n",
      "(0.22610539830519438, 0.43699314485952)\n",
      "(0.1648657112102149, 0.5732743564915127)\n",
      "(0.35170240208475073, 0.21752575824909387)\n",
      "(0.31621694028501174, 0.27070729807991867)\n"
     ]
    }
   ],
   "source": [
    "print(stats.pearsonr(asd['prop_low_uncorrelated'], asd['SRS_RAW_TOTAL']))\n",
    "print(stats.pearsonr(asd['prop_low_uncorrelated'], asd['SRS_AWARENESS']))\n",
    "print(stats.pearsonr(asd['prop_low_uncorrelated'], asd['SRS_COGNITION']))\n",
    "print(stats.pearsonr(asd['prop_low_uncorrelated'], asd['SRS_COMMUNICATION']))\n",
    "print(stats.pearsonr(asd['prop_low_uncorrelated'], asd['SRS_MOTIVATION']))\n",
    "print(stats.pearsonr(asd['prop_low_uncorrelated'], asd['SRS_MANNERISMS']))\n",
    "print(stats.pearsonr(asd['prop_low_uncorrelated'], asd['AQ_TOTAL']))"
   ]
  },
  {
   "cell_type": "code",
   "execution_count": 18,
   "metadata": {},
   "outputs": [
    {
     "name": "stdout",
     "output_type": "stream",
     "text": [
      "(-0.33485648088293873, 0.2418885430247249)\n",
      "(-0.16383474893946287, 0.5757081041346935)\n",
      "(-0.11795475911724417, 0.6879747548475245)\n",
      "(-0.33403474141975553, 0.24311781947253905)\n",
      "(-0.5576094130241553, 0.038281120610779554)\n",
      "(-0.19525886211921079, 0.5035199692531994)\n",
      "(-0.39759158134948186, 0.1591918350320998)\n"
     ]
    }
   ],
   "source": [
    "print(stats.pearsonr(asd['prop_moderate_positive'], asd['SRS_RAW_TOTAL']))\n",
    "print(stats.pearsonr(asd['prop_moderate_positive'], asd['SRS_AWARENESS']))\n",
    "print(stats.pearsonr(asd['prop_moderate_positive'], asd['SRS_COGNITION']))\n",
    "print(stats.pearsonr(asd['prop_moderate_positive'], asd['SRS_COMMUNICATION']))\n",
    "print(stats.pearsonr(asd['prop_moderate_positive'], asd['SRS_MOTIVATION'])) #*****\n",
    "print(stats.pearsonr(asd['prop_moderate_positive'], asd['SRS_MANNERISMS']))\n",
    "print(stats.pearsonr(asd['prop_moderate_positive'], asd['AQ_TOTAL']))"
   ]
  },
  {
   "cell_type": "code",
   "execution_count": 19,
   "metadata": {},
   "outputs": [
    {
     "name": "stdout",
     "output_type": "stream",
     "text": [
      "(-0.22784029049019364, 0.43338807286298625)\n",
      "(0.030367206886053433, 0.917921226828059)\n",
      "(0.12254073021369216, 0.6764324242371441)\n",
      "(-0.30786572117569555, 0.28425265804165645)\n",
      "(-0.3094238621096948, 0.28169575046632195)\n",
      "(-0.3717739758044564, 0.1905760405024712)\n",
      "(-0.4459005351421526, 0.11003331701645176)\n"
     ]
    }
   ],
   "source": [
    "print(stats.pearsonr(asd['prop_high_positive'], asd['SRS_RAW_TOTAL']))\n",
    "print(stats.pearsonr(asd['prop_high_positive'], asd['SRS_AWARENESS']))\n",
    "print(stats.pearsonr(asd['prop_high_positive'], asd['SRS_COGNITION']))\n",
    "print(stats.pearsonr(asd['prop_high_positive'], asd['SRS_COMMUNICATION']))\n",
    "print(stats.pearsonr(asd['prop_high_positive'], asd['SRS_MOTIVATION']))\n",
    "print(stats.pearsonr(asd['prop_high_positive'], asd['SRS_MANNERISMS']))\n",
    "print(stats.pearsonr(asd['prop_high_positive'], asd['AQ_TOTAL']))"
   ]
  },
  {
   "cell_type": "code",
   "execution_count": 20,
   "metadata": {},
   "outputs": [
    {
     "name": "stdout",
     "output_type": "stream",
     "text": [
      "(-0.24144280403999263, 0.40564705628790615)\n",
      "(-0.24027851579289322, 0.40798468870123655)\n",
      "(-0.07422693699248725, 0.8008983392744512)\n",
      "(-0.1579123463095593, 0.5897701238728746)\n",
      "(-0.4224692578483572, 0.13235838005637304)\n",
      "(-0.15327652229755268, 0.6008720838913933)\n",
      "(-0.14722797691261222, 0.6154788564015311)\n"
     ]
    }
   ],
   "source": [
    "print(stats.pearsonr(asd['MDT_moderate_positive'], asd['SRS_RAW_TOTAL']))\n",
    "print(stats.pearsonr(asd['MDT_moderate_positive'], asd['SRS_AWARENESS']))\n",
    "print(stats.pearsonr(asd['MDT_moderate_positive'], asd['SRS_COGNITION']))\n",
    "print(stats.pearsonr(asd['MDT_moderate_positive'], asd['SRS_COMMUNICATION']))\n",
    "print(stats.pearsonr(asd['MDT_moderate_positive'], asd['SRS_MOTIVATION']))\n",
    "print(stats.pearsonr(asd['MDT_moderate_positive'], asd['SRS_MANNERISMS']))\n",
    "print(stats.pearsonr(asd['MDT_moderate_positive'], asd['AQ_TOTAL']))"
   ]
  },
  {
   "cell_type": "code",
   "execution_count": 29,
   "metadata": {},
   "outputs": [
    {
     "data": {
      "text/plain": [
       "(-0.15645429839953112, 0.41766395211452756)"
      ]
     },
     "execution_count": 29,
     "metadata": {},
     "output_type": "execute_result"
    }
   ],
   "source": [
    "stats.pearsonr(project['MDT_moderate_positive'], project['dynSD'])"
   ]
  },
  {
   "cell_type": "code",
   "execution_count": 33,
   "metadata": {},
   "outputs": [
    {
     "name": "stdout",
     "output_type": "stream",
     "text": [
      "(-0.5254526885166505, 0.044267443273376075)\n",
      "(-0.5267085465171615, 0.043671011998730115)\n",
      "(-0.2565780613249218, 0.3559553921704392)\n",
      "(-0.4895359262645884, 0.06400376536892362)\n",
      "(-0.6394971387304886, 0.010255320065036412)\n",
      "(-0.3369325692163623, 0.2194349325756509)\n",
      "(-0.38576808038698535, 0.15556820648908848)\n"
     ]
    }
   ],
   "source": [
    "print(stats.pearsonr(td['prop_high_negative'], td['SRS_RAW_TOTAL'])) #****\n",
    "print(stats.pearsonr(td['prop_high_negative'], td['SRS_AWARENESS'])) #****\n",
    "print(stats.pearsonr(td['prop_high_negative'], td['SRS_COGNITION']))\n",
    "print(stats.pearsonr(td['prop_high_negative'], td['SRS_COMMUNICATION']))\n",
    "print(stats.pearsonr(td['prop_high_negative'], td['SRS_MOTIVATION'])) #****\n",
    "print(stats.pearsonr(td['prop_high_negative'], td['SRS_MANNERISMS']))\n",
    "print(stats.pearsonr(td['prop_high_negative'], td['AQ_TOTAL']))"
   ]
  },
  {
   "cell_type": "code",
   "execution_count": 21,
   "metadata": {},
   "outputs": [],
   "source": [
    "#project.to_csv('processed_States_Kaiser_rvaTPJ_no_rvpTPJ_374_001_008.csv')"
   ]
  }
 ],
 "metadata": {
  "kernelspec": {
   "display_name": "Python 3",
   "language": "python",
   "name": "python3"
  },
  "language_info": {
   "codemirror_mode": {
    "name": "ipython",
    "version": 3
   },
   "file_extension": ".py",
   "mimetype": "text/x-python",
   "name": "python",
   "nbconvert_exporter": "python",
   "pygments_lexer": "ipython3",
   "version": "3.7.4"
  }
 },
 "nbformat": 4,
 "nbformat_minor": 2
}
